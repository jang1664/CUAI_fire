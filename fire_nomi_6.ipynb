{
 "cells": [
  {
   "cell_type": "markdown",
   "metadata": {},
   "source": [
    "train data -> N:51542, Y:7657 개\n",
    "\n",
    "0, np.nan 값 다 드랍\n",
    "\n",
    "매년 전기 에너지 사용량 달별로 더해서 컬럼 12개로 압축\n",
    "\n",
    "log 변환\n",
    "\n",
    "Y,N 그룹 별 각 컬럼간 상관도 ->pairplot\n",
    "\n",
    "Y,N 그룹 별 각 컬럼의 평균값 barplot\n",
    "\n",
    "Y,N 그룹 별 각 컬럼의 분포도 box plot\n",
    "\n",
    "Y,N 그룹 별 각 컬럼의 분포도 dist plot\n",
    "\n",
    "Y,N 그룹 별 건물용도 별 각 컬럼의 분포도 boxplot\n",
    "\n",
    "각 컬럼의 NuLL값 주거용도 별 펑균값으로 채우고 예측 - >  정확도: 0.8371, 정밀도: 0.8426, 재현율: 0.1431,    F1: 0.2446, AUC:0.5685\n",
    "너무 쉽게 N으로 판단(TN 엄청 많음) -> N의 0값의 비중이 너무 큼 ->  Y의 0을 그냥 N으로 판단하는듯 -> 0부터 어떻게 해야함!"
   ]
  },
  {
   "cell_type": "code",
   "execution_count": 1,
   "metadata": {},
   "outputs": [],
   "source": [
    "#filename = 'finalized_model.sav'\n",
    "#pickle.dump(model, open(filename, 'wb'))\n",
    " \n",
    "# some time later...\n",
    "\n",
    "# load the model from disk\n",
    "#loaded_model = pickle.load(open(filename, 'rb'))\n",
    "#result = loaded_model.score(X_test, Y_test)"
   ]
  },
  {
   "cell_type": "code",
   "execution_count": 1,
   "metadata": {},
   "outputs": [],
   "source": [
    "import matplotlib\n",
    "from matplotlib import font_manager, rc\n",
    "import platform\n",
    "\n",
    "if platform.system() == 'Windows':\n",
    "# 윈도우인 경우\n",
    "    font_name = font_manager.FontProperties(fname=\"c:/Windows/Fonts/malgun.ttf\").get_name()\n",
    "    rc('font', family=font_name)\n",
    "else:    \n",
    "# Mac 인 경우\n",
    "    rc('font', family='AppleGothic')\n",
    "    \n",
    "matplotlib.rcParams['axes.unicode_minus'] = False   "
   ]
  },
  {
   "cell_type": "code",
   "execution_count": 2,
   "metadata": {},
   "outputs": [],
   "source": [
    "import pandas as pd\n",
    "pd.set_option('display.max_row',500)\n",
    "import matplotlib.pyplot as plt\n",
    "import seaborn as sns \n",
    "import numpy as np\n",
    "from lightgbm import LGBMClassifier\n",
    "from sklearn.model_selection import train_test_split\n",
    "from sklearn.preprocessing import LabelEncoder\n",
    "from sklearn.cluster import KMeans\n",
    "from sklearn.metrics import silhouette_samples, silhouette_score\n",
    "from sklearn.cluster import estimate_bandwidth\n",
    "from sklearn.cluster import MeanShift\n",
    "import xgboost as xgb\n",
    "from sklearn.model_selection import GridSearchCV\n",
    "from sklearn.linear_model import LinearRegression, Ridge, Lasso\n",
    "from sklearn.metrics import mean_squared_error\n",
    "from sklearn.mixture import GaussianMixture\n",
    "from sklearn.metrics import SCORERS\n",
    "from xgboost import plot_importance\n",
    "import pickle"
   ]
  },
  {
   "cell_type": "code",
   "execution_count": 3,
   "metadata": {},
   "outputs": [],
   "source": [
    "def get_rmse(model):\n",
    "    pred = model.predict(X_test)\n",
    "    mse = mean_squared_error(y_test , pred)\n",
    "    rmse = np.sqrt(mse)\n",
    "    print('RMSE: {0}'.format((rmse)))\n",
    "    return rmse\n",
    "\n",
    "def get_rmses(models):\n",
    "    rmses = [ ]\n",
    "    for model in models:\n",
    "        rmse = get_rmse(model)\n",
    "        rmses.append(rmse)\n",
    "    return rmses"
   ]
  },
  {
   "cell_type": "code",
   "execution_count": 4,
   "metadata": {},
   "outputs": [],
   "source": [
    "from sklearn.metrics import confusion_matrix, accuracy_score\n",
    "from sklearn.metrics import precision_score, recall_score\n",
    "from sklearn.metrics import f1_score, roc_auc_score, r2_score, mean_absolute_error\n",
    "\n",
    "def get_clf_eval(y_test , pred, typ):\n",
    "    if typ=='classification':\n",
    "        confusion = confusion_matrix( y_test, pred)\n",
    "        accuracy = accuracy_score(y_test , pred)\n",
    "        precision = precision_score(y_test , pred)\n",
    "        recall = recall_score(y_test , pred)\n",
    "        f1 = f1_score(y_test,pred)\n",
    "        roc_auc = roc_auc_score(y_test, pred)\n",
    "        print('오차 행렬')\n",
    "        print(confusion)\n",
    "        print('정확도: {0:.4f}, 정밀도: {1:.4f}, 재현율: {2:.4f},\\\n",
    "        F1: {3:.4f}, AUC:{4:.4f}'.format(accuracy, precision, recall, f1, roc_auc))\n",
    "    if typ=='regression':\n",
    "        r2 = r2_score(y_test, pred)\n",
    "        mase = mean_absolute_error(y_test, pred)\n",
    "        print('r2 score : {0}'.format(r2))\n",
    "        print('mae score : {0}'.format(mase))\n",
    "   \n",
    "    "
   ]
  },
  {
   "cell_type": "code",
   "execution_count": 5,
   "metadata": {},
   "outputs": [],
   "source": [
    "def visualize_silhouette(cluster_lists, X_features,cluster_labels): \n",
    "    \n",
    "    from sklearn.datasets import make_blobs\n",
    "    from sklearn.cluster import KMeans\n",
    "    from sklearn.metrics import silhouette_samples, silhouette_score\n",
    "\n",
    "    import matplotlib.pyplot as plt\n",
    "    import matplotlib.cm as cm\n",
    "    import math\n",
    "    \n",
    "    # 입력값으로 클러스터링 갯수들을 리스트로 받아서, 각 갯수별로 클러스터링을 적용하고 실루엣 개수를 구함\n",
    "    n_cols = len(cluster_lists)\n",
    "    \n",
    "    # plt.subplots()으로 리스트에 기재된 클러스터링 수만큼의 sub figures를 가지는 axs 생성 \n",
    "    fig, axs = plt.subplots(figsize=(4*n_cols, 4), nrows=1, ncols=n_cols)\n",
    "    \n",
    "    # 리스트에 기재된 클러스터링 갯수들을 차례로 iteration 수행하면서 실루엣 개수 시각화\n",
    "    for ind, n_cluster in enumerate(cluster_lists):\n",
    "        \n",
    "        # KMeans 클러스터링 수행하고, 실루엣 스코어와 개별 데이터의 실루엣 값 계산. \n",
    "        #clusterer = KMeans(n_clusters = n_cluster, max_iter=500, random_state=0)\n",
    "        #cluster_labels = clusterer.fit_predict(X_features)\n",
    "        \n",
    "        sil_avg = silhouette_score(X_features, cluster_labels)\n",
    "        sil_values = silhouette_samples(X_features, cluster_labels)\n",
    "        \n",
    "        y_lower = 10\n",
    "        axs[ind].set_title('Number of Cluster : '+ str(n_cluster)+'\\n'+'Silhouette Score :' + str(round(sil_avg,3)) )\n",
    "        axs[ind].set_xlabel(\"The silhouette coefficient values\")\n",
    "        axs[ind].set_ylabel(\"Cluster label\")\n",
    "        axs[ind].set_xlim([-0.1, 1])\n",
    "        axs[ind].set_ylim([0, len(X_features) + (n_cluster + 1) * 10])\n",
    "        axs[ind].set_yticks([])  # Clear the yaxis labels / ticks\n",
    "        axs[ind].set_xticks([0, 0.2, 0.4, 0.6, 0.8, 1])\n",
    "        \n",
    "        # 클러스터링 갯수별로 fill_betweenx( )형태의 막대 그래프 표현. \n",
    "        for i in range(n_cluster):\n",
    "            ith_cluster_sil_values = sil_values[cluster_labels==i]\n",
    "            ith_cluster_sil_values.sort()\n",
    "            \n",
    "            size_cluster_i = ith_cluster_sil_values.shape[0]\n",
    "            y_upper = y_lower + size_cluster_i\n",
    "            \n",
    "            color = cm.nipy_spectral(float(i) / n_cluster)\n",
    "            axs[ind].fill_betweenx(np.arange(y_lower, y_upper), 0, ith_cluster_sil_values, \\\n",
    "                                facecolor=color, edgecolor=color, alpha=0.7)\n",
    "            axs[ind].text(-0.05, y_lower + 0.5 * size_cluster_i, str(i))\n",
    "            y_lower = y_upper + 10\n",
    "            \n",
    "        axs[ind].axvline(x=sil_avg, color=\"red\", linestyle=\"--\")\n",
    "        "
   ]
  },
  {
   "cell_type": "code",
   "execution_count": 6,
   "metadata": {},
   "outputs": [],
   "source": [
    "def kmeans_plot(clusterDF,n_clusters,max_iter):\n",
    "\n",
    "    kmeans = KMeans(n_clusters, init='k-means++', max_iter=200, random_state=0)\n",
    "    cluster_labels = kmeans.fit_predict(clusterDF)\n",
    "    col=clusterDF.columns\n",
    "    clusterDF['kmeans_label']  = cluster_labels\n",
    "\n",
    "#cluster_centers_ 는 개별 클러스터의 중심 위치 좌표 시각화를 위해 추출\n",
    "    centers = kmeans.cluster_centers_\n",
    "    unique_labels = np.unique(cluster_labels)\n",
    "    markers=['o', 's', '^', 'P','D','H','x']\n",
    "\n",
    "# 군집된 label 유형별로 iteration 하면서 marker 별로 scatter plot 수행. \n",
    "    for label in unique_labels:\n",
    "        label_cluster = clusterDF[clusterDF['kmeans_label']==label]\n",
    "        center_x_y = centers[label]\n",
    "        plt.scatter(x=label_cluster[col[0]], y=label_cluster[col[1]], edgecolor='k', \n",
    "                    marker=markers[label] )\n",
    "    \n",
    "    # 군집별 중심 위치 좌표 시각화 \n",
    "        plt.scatter(x=center_x_y[0], y=center_x_y[1], s=200, color='white',\n",
    "                    alpha=0.9, edgecolor='k', marker=markers[label])\n",
    "        plt.scatter(x=center_x_y[0], y=center_x_y[1], s=70, color='k', edgecolor='k', \n",
    "                    marker='$%d$' % label)\n",
    "\n",
    "    plt.show()"
   ]
  },
  {
   "cell_type": "code",
   "execution_count": 7,
   "metadata": {},
   "outputs": [],
   "source": [
    "def plot_mean(df_n):\n",
    "    index = np.array(df_n.mean().index)\n",
    "    height = np.array(df_n.mean())\n",
    "    plt.figure(figsize=(16,10))\n",
    "    plt.bar(index, height)\n",
    "    \n",
    "def plot_dist(df):\n",
    "    list_series = df.columns\n",
    "    n=len(list_series)\n",
    "    plt.figure(figsize=(25,6))\n",
    "    fig , axes = plt.subplots(n//2+1,2,figsize=(15,40))\n",
    "    axx = axes.flatten()\n",
    "    for index,i in enumerate(list_series[:-2]):\n",
    "        x=df[i]\n",
    "        sns.distplot(x, kde=True, rug=False,ax=axx[index])\n",
    "    \n",
    "def elec_month(df_y):\n",
    "    df_y_local = df_y.drop(['label','bldng_us'],axis=1)\n",
    "    for i in range(1,13):\n",
    "        col = '{0} month'.format(i)\n",
    "        df_y_local[col]=df_y_local.iloc[:,(i-1)::12].sum(axis=1)\n",
    "    df_y_local = df_y_local.iloc[:,-1:-13:-1]\n",
    "    df_y_local = df_y_local.iloc[:,-1:-13:-1]\n",
    "    df_y_local['bldng_us']=df_y['bldng_us']\n",
    "    df_y_local['label']=df_y['label']\n",
    "    return df_y_local\n",
    "\n",
    "def plot_box1(df,label,h=None):\n",
    "    list_series = df.columns\n",
    "    n=len(list_series)\n",
    "    #fig , axes = plt.subplots(4,n//4+1,figsize=(15,15))\n",
    "    #axx = axes.flatten()\n",
    "    if(h==None):\n",
    "        fig , axes = plt.subplots(4,n//4+1,figsize=(15,15))\n",
    "        axx = axes.flatten()\n",
    "        for index,i in enumerate(list_series[:-2]):\n",
    "            sns.boxplot(i, label, data=df,ax=axx[index])\n",
    "            #sns.stripplot(x, 'bldng_us',hue=label, data=df, jitter=True, color=\"0.4\",ax=axx[index])\n",
    "    else:\n",
    "        fig , axes = plt.subplots(4,n//4+1,figsize=(15,150))\n",
    "        axx = axes.flatten()\n",
    "        for index,i in enumerate(list_series[:-2]):\n",
    "            sns.boxplot(i, label,hue=h ,data=df,ax=axx[index])\n",
    "            #sns.stripplot(x, 'bldng_us',hue=label, data=df, jitter=True, color=\"0.4\",ax=axx[index])\n",
    "        \n",
    "\n",
    "def plot_box2(df,label):\n",
    "    list_series = df.columns\n",
    "    n=len(list_series)\n",
    "    fig , axes = plt.subplots(4,n//4+1,figsize=(15,150))\n",
    "    axx = axes.flatten()\n",
    "    for index,i in enumerate(list_series[:-2]):\n",
    "        sns.boxplot(i, label,hue='bldng_us', data=df,ax=axx[index])\n",
    "        #sns.stripplot(x, 'bldng_us',hue=label, data=df, jitter=True, color=\"0.4\",ax=axx[index])\n",
    "        \n",
    "def get_outlier(df=None, column=None, weight=1.5):\n",
    "    # fraud에 해당하는 column 데이터만 추출, 1/4 분위와 3/4 분위 지점을 np.percentile로 구함. \n",
    "    #fraud = df[df['label']==1][column]\n",
    "    fraud = df[column]\n",
    "    quantile_25 = np.percentile(fraud.values, 25)\n",
    "    quantile_75 = np.percentile(fraud.values, 75)\n",
    "    # IQR을 구하고, IQR에 1.5를 곱하여 최대값과 최소값 지점 구함. \n",
    "    iqr = quantile_75 - quantile_25\n",
    "    iqr_weight = iqr * weight\n",
    "    lowest_val = quantile_25 - iqr_weight\n",
    "    highest_val = quantile_75 + iqr_weight\n",
    "    # 최대값 보다 크거나, 최소값 보다 작은 값을 아웃라이어로 설정하고 DataFrame index 반환. \n",
    "    outlier_index = fraud[(fraud < lowest_val) | (fraud > highest_val)].index\n",
    "    return outlier_index\n",
    "\n",
    "def fill_elec(df):\n",
    "    list_ = list(df.columns[:-2])\n",
    "    for i in list_:\n",
    "        df[i] = df[i].apply(lambda x: np.nan if x==0 else x)\n",
    "        #df[i].fillna(df[i].mean(), inplace=True)\n",
    "        df=df.dropna()\n",
    "    return df\n",
    "\n",
    "def circum_plot(df,year,drop=False):\n",
    "    df_elec = df.iloc[:,18:137:2]\n",
    "    if drop==True:\n",
    "        list_ = list(df_elec.columns)\n",
    "        for i in list_:\n",
    "            df_elec[i] = df_elec[i].apply(lambda x: np.nan if x==0 else x)\n",
    "    df_elec=df_elec.dropna()\n",
    "    df_elec = df_elec.apply(lambda x: np.log10(1+x))\n",
    "    #list_col = list(df.columns)\n",
    "    #index = list_col.index('bldng_cnt')\n",
    "    #df_cir=df.iloc[:,index:index+3]\n",
    "    df_cir=df.iloc[:,12:17]\n",
    "    list_cir = list(df_cir.columns)\n",
    "    df_elec = pd.concat([df_elec,df_cir],axis=1)\n",
    "    df_elec['fr_yn']=df['fr_yn']\n",
    "    #df_elec['mon'] = df['dt_of_fr'].apply(lambda x: int(x.split('-')[1]))\n",
    "    col='ele_engry_us_'\n",
    "    year=str(year)\n",
    "    for i in range(1,11):\n",
    "        if(i<=9):\n",
    "            mon='0'+str(i)\n",
    "        else:\n",
    "            mon=str(i)\n",
    "        col_a =col+year+mon\n",
    "        fig =plt.figure(figsize=(10,12))\n",
    "        ax1 = fig.add_subplot(3, 2, 1)\n",
    "        ax2 = fig.add_subplot(3, 2, 2)\n",
    "        ax3 = fig.add_subplot(3, 2, 3)\n",
    "        ax4 = fig.add_subplot(3, 2, 4)\n",
    "        ax5 = fig.add_subplot(3, 2, 5)\n",
    "        list_ax=[ax1, ax2, ax3, ax4, ax5]\n",
    "        for index,j in enumerate(list_cir):\n",
    "            df_elec_1=df_elec[df_elec['mon']==i][[col_a,j]]\n",
    "            list_ax[index].set_xlabel(col_a)\n",
    "            list_ax[index].set_ylabel(j)\n",
    "            list_ax[index].set_title(year)\n",
    "            list_ax[index].scatter(df_elec_1.iloc[:,0],df_elec_1.iloc[:,1])\n",
    "            \n",
    "def building_plot(df,year,mon,drop=False):\n",
    "    df_elec = df.iloc[:,18:137:2]\n",
    "    list_col = list(df.columns)\n",
    "    index = list_col.index('bldng_cnt')\n",
    "    df_cir=df.iloc[:,index:index+3]\n",
    "    df_elec = pd.concat([df_elec,df_cir],axis=1)\n",
    "    list_cir = list(df_cir.columns)\n",
    "    if drop==True:\n",
    "        list_ = list(df_elec.columns[:-4])\n",
    "        for i in list_:\n",
    "            df_elec[i] = df_elec[i].apply(lambda x: np.nan if x==0 else x)\n",
    "            \n",
    "    df_elec=df_elec.dropna()\n",
    "    \n",
    "    df_elec.iloc[:,:-4] = df_elec.iloc[:,:-4].apply(lambda x: np.log10(1+x))\n",
    "    \n",
    "    col='ele_engry_us_'\n",
    "    year=str(year)\n",
    "    col_a =col+year+mon\n",
    "    for index,j in enumerate(list_cir):\n",
    "        df_elec_1=df_elec[[col_a,j]]\n",
    "        visualize_silhouette([2,3],df_elec_1)\n",
    "        \n",
    "def df_prepro(df,drop):\n",
    "    df=fill_circum(df)\n",
    "    list_col=list(df.columns)\n",
    "    df_elec = df.iloc[:,18:137:2]\n",
    "    list_x = list(df_elec.columns)\n",
    "    index2 = list_x.index('ele_engry_us_201401')\n",
    "    df_elec=df_elec.iloc[:,index2:]\n",
    "    index = list_col.index('bldng_cnt')\n",
    "    df_cir=df.iloc[:,index:index+3]\n",
    "    df_cir2 = df.iloc[:,12:17]\n",
    "    df_cir2.drop('prcpttn',axis=1,inplace=True)\n",
    "    df_elec = pd.concat([df_cir, df_cir2,df_elec],axis=1)\n",
    "    df_elec = df_elec.replace([np.inf, -np.inf], np.nan)\n",
    "    \n",
    "    a=get_outlier(df_cir,'bldng_cnt').tolist()\n",
    "    b=get_outlier(df_cir,'bldng_ar').tolist()\n",
    "    c=get_outlier(df_cir,'ttl_ar').tolist()\n",
    "    index_list=a+b+c\n",
    "    index_list = np.unique(index_list)\n",
    "    index_list=np.array(index_list)\n",
    "    index_list=index_list.reshape(-1,)\n",
    "    index_list=np.unique(index_list)\n",
    "    index_list.sort()\n",
    "    \n",
    "    q=pd.Series(index_list)\n",
    "    w=pd.DataFrame(q,columns=['col1'])\n",
    "    w.index=index_list\n",
    "    x=w.index\n",
    "    df_elec.drop(x,axis=0,inplace=True)\n",
    "    df_elec = df_elec.reset_index(drop=True)\n",
    "    \n",
    "    df_list=[]\n",
    "    \n",
    "    if drop==True:\n",
    "        list_x = list(df_elec.columns)\n",
    "        index2 = list_x.index('ele_engry_us_201401')\n",
    "        list_ = list(df_elec.columns[index2:])\n",
    "        for i in list_:\n",
    "            df_elec[i] = df_elec[i].apply(lambda x: np.nan if x==0 else x)\n",
    "            df_elec[i] = df_elec[i].replace([np.nan],'nan')\n",
    "    \n",
    "    for i in df_elec.iloc[:,7:].columns:\n",
    "        x=df_elec[(df_elec[i]!='nan')]\n",
    "        x=x[x[i]>=0]\n",
    "        y=x.iloc[:,0:7]\n",
    "        x[i]=x[i].apply(lambda x: np.log10(1+x))\n",
    "        y[i]=x[i]\n",
    "        df_list.append(y)\n",
    "            \n",
    "    #df_elec=df_elec.dropna()\n",
    "    \n",
    "    #df_elec.iloc[:,7:] = df_elec.iloc[:,7:].apply(lambda x: np.log10(1+x))\n",
    "    return df_list\n",
    "\n",
    "def df_prepro_gas(df,drop):\n",
    "    df=fill_circum(df)\n",
    "    list_col=list(df.columns)\n",
    "    df_elec = df.iloc[:,17:137:2]\n",
    "    list_x = list(df_elec.columns)\n",
    "    index2 = list_x.index('gas_engry_us_201401')\n",
    "    df_elec=df_elec.iloc[:,index2:]\n",
    "    index = list_col.index('bldng_cnt')\n",
    "    df_cir=df.iloc[:,index:index+3]\n",
    "    df_cir2 = df.iloc[:,12:17]\n",
    "    df_cir2.drop('prcpttn',axis=1,inplace=True)\n",
    "    df_elec = pd.concat([df_cir, df_cir2,df_elec],axis=1)\n",
    "    df_elec = df_elec.replace([np.inf, -np.inf], np.nan)\n",
    "    \n",
    "    a=get_outlier(df_cir,'bldng_cnt').tolist()\n",
    "    b=get_outlier(df_cir,'bldng_ar').tolist()\n",
    "    c=get_outlier(df_cir,'ttl_ar').tolist()\n",
    "    index_list=a+b+c\n",
    "    index_list = np.unique(index_list)\n",
    "    index_list=np.array(index_list)\n",
    "    index_list=index_list.reshape(-1,)\n",
    "    index_list=np.unique(index_list)\n",
    "    index_list.sort()\n",
    "    \n",
    "    q=pd.Series(index_list)\n",
    "    w=pd.DataFrame(q,columns=['col1'])\n",
    "    w.index=index_list\n",
    "    x=w.index\n",
    "    df_elec.drop(x,axis=0,inplace=True)\n",
    "    df_elec = df_elec.reset_index(drop=True)\n",
    "    \n",
    "    if drop==True:\n",
    "        list_x = list(df_elec.columns)\n",
    "        index2 = list_x.index('gas_engry_us_201401')\n",
    "        list_ = list(df_elec.columns[index2:])\n",
    "        for i in list_:\n",
    "            df_elec[i] = df_elec[i].apply(lambda x: np.nan if x==0 else x)\n",
    "            df_elec[i] = df_elec[i].replace([np.nan],'nan')\n",
    "            \n",
    "    df_list=[]\n",
    "            \n",
    "    for i in df_elec.iloc[:,7:].columns:\n",
    "        x=df_elec[(df_elec[i]!='nan')]\n",
    "        x=x[x[i]>=0]\n",
    "        y=x.iloc[:,0:7]\n",
    "        x[i]=x[i].apply(lambda x: np.log10(1+x))\n",
    "        y[i]=x[i]\n",
    "        df_list.append(y)\n",
    "            \n",
    "    #df_elec=df_elec.dropna()\n",
    "    \n",
    "    #df_elec.iloc[:,7:] = df_elec.iloc[:,7:].apply(lambda x: np.log10(1+x))\n",
    "    return df_list\n",
    "\n",
    "def sil_plot(X_features, cluster_labels):\n",
    "        n_cluster = len(np.unique(cluster_labels))\n",
    "        sil_avg = silhouette_score(X_features, cluster_labels)\n",
    "        sil_values = silhouette_samples(X_features, cluster_labels)\n",
    "        print(sil_avg)\n",
    "        \n",
    "def gmm_plot(clusterDF):\n",
    "    col=clusterDF.columns\n",
    "    gmm = GaussianMixture(n_components=3, random_state=0).fit(clusterDF)\n",
    "    cluster_labels = gmm.predict(clusterDF)\n",
    "\n",
    "    clusterDF['meanshift_label']  = cluster_labels\n",
    "    #centers = gmm.cluster_centers_\n",
    "    unique_labels = np.unique(cluster_labels)\n",
    "    markers=['o', 's', '^', 'x', '*']\n",
    "\n",
    "    for label in unique_labels:\n",
    "        label_cluster = clusterDF[clusterDF['meanshift_label']==label]\n",
    "        #center_x_y = centers[label]\n",
    "    # 군집별로 다른 marker로 scatter plot 적용\n",
    "        plt.scatter(x=label_cluster[col[0]], y=label_cluster[col[1]], edgecolor='k', \n",
    "                    marker=markers[label] )\n",
    "    \n",
    "    plt.show()\n",
    "    \n",
    "def make_df(df_elec):\n",
    "    list_year=['2017','2018']\n",
    "    list_mon=['01','02','03','04','05','06','07','08','09','10','11','12']\n",
    "    list_df =[]\n",
    "    X_list=[]\n",
    "    Y_list=[]\n",
    "    for i in list_year:\n",
    "        for j in list_mon:\n",
    "            col='ele_engry_us_' + i + j\n",
    "            a=df_elec.loc[:,[col,'bldng_cnt','bldng_ar','ttl_ar','tmprtr','wnd_spd','wnd_drctn','hmdt']]\n",
    "            list_df.append(a)\n",
    "            X_list.append(a.iloc[:,1:])\n",
    "            Y_list.append(a.iloc[:,0])\n",
    "    return list_df, X_list, Y_list\n",
    "\n",
    "def make_df_gas(df_elec):\n",
    "    list_year=['2014','2015','2016','2017','2018']\n",
    "    list_mon=['01','02','03','04','05','06','07','08','09','10','11','12']\n",
    "    list_df =[]\n",
    "    X_list=[]\n",
    "    Y_list=[]\n",
    "    for i in list_year:\n",
    "        for j in list_mon:\n",
    "            col='gas_engry_us_' + i + j\n",
    "            a=df_elec.loc[:,[col,'bldng_cnt','bldng_ar','ttl_ar','tmprtr','wnd_spd','wnd_drctn','hmdt']]\n",
    "            list_df.append(a)\n",
    "            X_list.append(a.iloc[:,1:])\n",
    "            Y_list.append(a.iloc[:,0])\n",
    "    return list_df, X_list, Y_list\n",
    "\n",
    "\n",
    "def fill_circum(df):\n",
    "    #df['dt_of_fr'] = df['dt_of_fr'].apply(lambda x: int(x.split('-')[1]))\n",
    "    list=['tmprtr','wnd_spd','wnd_drctn','hmdt']\n",
    "    for i in list:\n",
    "        df[i]=df[i].replace([np.inf,-np.inf],np.nan)\n",
    "        df[i]=df[i].fillna(df.groupby(by='fr_yn')[i].transform('mean'))\n",
    "\n",
    "    return df\n",
    "\n",
    "def df_prepro_vali(df,drop):\n",
    "    df=df.replace([np.inf, -np.inf], np.nan)\n",
    "    df=fill_circum(df)\n",
    "    list_col=list(df.columns)\n",
    "    df_elec = df.iloc[:,18:137:2]\n",
    "    list_x = list(df_elec.columns)\n",
    "    index2 = list_x.index('ele_engry_us_201701')\n",
    "    df_elec=df_elec.iloc[:,index2:]\n",
    "    index = list_col.index('bldng_cnt')\n",
    "    df_cir=df.iloc[:,index:index+3]\n",
    "    df_cir2 = df.iloc[:,12:17]\n",
    "    df_cir2.drop('prcpttn',axis=1,inplace=True)\n",
    "    df_elec = pd.concat([df_cir, df_cir2,df_elec],axis=1)\n",
    "    #df_elec = df_elec.replace([np.inf, -np.inf], np.nan)\n",
    "    \n",
    "    df_elec = df_elec.reset_index(drop=True)\n",
    "    \n",
    "    if drop==True:\n",
    "        list_x = list(df_elec.columns)\n",
    "        index2 = list_x.index('ele_engry_us_201701')\n",
    "        list_ = list(df_elec.columns[index2:])\n",
    "        for i in list_:\n",
    "            df_elec[i] = df_elec[i].apply(lambda x: np.nan if x==0 else x)\n",
    "    \n",
    "    df_elec.iloc[:,9:] = df_elec.iloc[:,9:].apply(lambda x: np.log10(1+x))\n",
    "    return df_elec\n",
    "\n",
    "def plot_heat(df,x,y):\n",
    "    z=x[:]\n",
    "    z.extend(y)\n",
    "    df2=df[z]\n",
    "    df2.dropna(inplace = True)\n",
    "    df_size = df2.pivot_table(index=x, columns=y, aggfunc=\"size\")\n",
    "    df_size['sum']=df_size.apply((lambda x:(x.sum())),axis=1)\n",
    "    df_size['percentage']=df_size.apply((lambda x: x.sort_values(ascending=False).iloc[1]/x['sum']),axis=1)\n",
    "    df_size['score']=df_size.apply( (lambda x :(x['sum']*np.log10(x['percentage'])) if x['sum']!=1 else np.nan ),axis=1 )\n",
    "    return (x,y), df_size['score'].mean(),df_size\n",
    "    #fig = plt.figure(figsize=(20,20))\n",
    "    #plt.title('{0}'.format(i))\n",
    "    #sns.heatmap(df_size, cmap=sns.light_palette(\"gray\", as_cmap=True), annot=True, fmt=\".0f\")\n",
    "    #return fig\n",
    "    \n",
    "def find_2(df_nomi,col):\n",
    "    cols = df_nomi.columns[1:]\n",
    "    n = len(cols)\n",
    "    scores=[]\n",
    "    results=[]\n",
    "    for j in cols:\n",
    "        if j!=col:\n",
    "            for i in cols:\n",
    "                if ((i!=j) & (i!=col)):\n",
    "                    result = plot_heat(df,[j,i],[col])\n",
    "                    results.append(result)\n",
    "                    scores.append(result[1])\n",
    "    arr_scores = np.array(scores)\n",
    "    index = arr_scores.argsort()[::-1][0]\n",
    "    return results[index], results, arr_scores.argsort()[::-1]\n",
    "\n",
    "def find_3(df_nomi,col):\n",
    "    cols = ['emd_nm','wnd_dr8','mlt_us_yn','jmk','bldng_cnt']\n",
    "    n = len(cols)\n",
    "    scores=[]\n",
    "    results=[]\n",
    "    for j in cols:\n",
    "        if j!=col:\n",
    "            for i in cols:\n",
    "                if ((i!=j) & (i!=col)):\n",
    "                    result = plot_heat(df,[j,i],[col])\n",
    "                    results.append(result)\n",
    "                    scores.append(result[1])\n",
    "    arr_scores = np.array(scores)\n",
    "    index = arr_scores.argsort()[::-1][0]\n",
    "    return results[index], results, arr_scores.argsort()[::-1]\n",
    "\n",
    "def make_dict(x):\n",
    "    keys=[]\n",
    "    values=[]\n",
    "    low_index=[]\n",
    "    for i in x.index:\n",
    "        if x.loc[i,'percentage']>=0.7:\n",
    "            row = x.loc[i,:].iloc[:-3]\n",
    "    #index = np.array(row.sort_values(ascending=False))\n",
    "            col = row.sort_values(ascending=False).index[0]\n",
    "    #max_index = index.argsort()[::-1][0]\n",
    "    #col = x.columns[max_index]\n",
    "            keys.append(i)\n",
    "            values.append(col)\n",
    "        else:\n",
    "            low_index.append(i)\n",
    "    dict_bldng_archtctr = dict((zip(keys, values)))\n",
    "    print(dict_bldng_archtctr)\n",
    "    print(low_index)\n",
    "    return dict_bldng_archtctr, low_index\n",
    "\n",
    "def make_dict2(x):\n",
    "    keys=[]\n",
    "    values=[]\n",
    "    low_index=[]\n",
    "    for i in x.index:\n",
    "        #if x.loc[i,'percentage']>=0.7:\n",
    "        row = x.loc[i,:].iloc[:-3]\n",
    "    #index = np.array(row.sort_values(ascending=False))\n",
    "        col = row.sort_values(ascending=False).index[0]\n",
    "    #max_index = index.argsort()[::-1][0]\n",
    "    #col = x.columns[max_index]\n",
    "        keys.append(i)\n",
    "        values.append(col)\n",
    "        #else:\n",
    "            #low_index.append(i)\n",
    "    dict_bldng_archtctr = dict((zip(keys, values)))\n",
    "    print(dict_bldng_archtctr)\n",
    "    print(low_index)\n",
    "    return dict_bldng_archtctr\n",
    "\n",
    "def fill_na_dict(x,dict1):\n",
    "    if x in dict1.keys():\n",
    "        return dict1[x]\n",
    "    else:\n",
    "        return np.nan"
   ]
  },
  {
   "cell_type": "code",
   "execution_count": 8,
   "metadata": {},
   "outputs": [
    {
     "name": "stderr",
     "output_type": "stream",
     "text": [
      "C:\\Users\\jaeyong\\Anaconda3\\envs\\cuda\\lib\\site-packages\\IPython\\core\\interactiveshell.py:3058: DtypeWarning: Columns (8,172,173,174,175,176,177,178,179) have mixed types. Specify dtype option on import or set low_memory=False.\n",
      "  interactivity=interactivity, compiler=compiler, result=result)\n"
     ]
    }
   ],
   "source": [
    "df = pd.read_csv('PJT002_train_04.csv')\n",
    "#df['mon'] = df['dt_of_fr'].apply(lambda x: int(x.split('-')[1]))\n",
    "#df.columns[8:]\n",
    "#df.isna().sum().sort_values(ascending=False)\n",
    "df_validation = pd.read_csv('PJT002_validation.csv')\n",
    "df_test = pd.read_csv('PJT002_test.csv')"
   ]
  },
  {
   "cell_type": "markdown",
   "metadata": {},
   "source": [
    "# -----------------------------------------------------------------------------------------------------"
   ]
  },
  {
   "cell_type": "code",
   "execution_count": 17,
   "metadata": {},
   "outputs": [
    {
     "name": "stderr",
     "output_type": "stream",
     "text": [
      "C:\\Users\\jaeyong\\Anaconda3\\envs\\cuda\\lib\\site-packages\\ipykernel_launcher.py:10: SettingWithCopyWarning: \n",
      "A value is trying to be set on a copy of a slice from a DataFrame.\n",
      "Try using .loc[row_indexer,col_indexer] = value instead\n",
      "\n",
      "See the caveats in the documentation: http://pandas.pydata.org/pandas-docs/stable/user_guide/indexing.html#returning-a-view-versus-a-copy\n",
      "  # Remove the CWD from sys.path while we load stuff.\n"
     ]
    }
   ],
   "source": [
    "df = pd.read_csv('PJT002_train_04.csv')\n",
    "#df['mon'] = df['dt_of_fr'].apply(lambda x: int(x.split('-')[1]))\n",
    "#df.columns[8:]\n",
    "#df.isna().sum().sort_values(ascending=False)\n",
    "df_validation = pd.read_csv('PJT002_validation.csv')\n",
    "df_train = df[['fr_yn','jmk','rgnl_ar_nm','rgnl_ar_nm2','lnd_us_sttn_nm','rd_sd_nm','emd_nm','hm_cnt','fr_sttn_dstnc','bldng_ar_prc']]\n",
    "df_validation = df_validation[['fr_yn','jmk','rgnl_ar_nm','rgnl_ar_nm2','lnd_us_sttn_nm','rd_sd_nm','emd_nm','hm_cnt','fr_sttn_dstnc','bldng_ar_prc']]\n",
    "df_train.drop('bldng_ar_prc',axis=1, inplace=True)\n",
    "df_validation.drop('bldng_ar_prc',axis=1, inplace=True)\n",
    "df_train['fr_yn'] = df_train['fr_yn'].apply((lambda x : 'Y' if x==1 else 'N'))"
   ]
  },
  {
   "cell_type": "code",
   "execution_count": 19,
   "metadata": {},
   "outputs": [],
   "source": [
    "col_y = df_train[df_train.fr_yn=='Y']\n",
    "out_y = get_outlier(col_y.dropna(),'fr_sttn_dstnc')"
   ]
  },
  {
   "cell_type": "code",
   "execution_count": 20,
   "metadata": {},
   "outputs": [],
   "source": [
    "col_n = df_train[df_train.fr_yn=='N']\n",
    "out_n = get_outlier(col_n.dropna(),'fr_sttn_dstnc')"
   ]
  },
  {
   "cell_type": "code",
   "execution_count": 21,
   "metadata": {},
   "outputs": [],
   "source": [
    "df_drop_train = df_train.drop(out_y)\n",
    "df_drop_train = df_drop_train.drop(out_n)"
   ]
  },
  {
   "cell_type": "code",
   "execution_count": 22,
   "metadata": {},
   "outputs": [],
   "source": [
    "df_drop_train['fr_sttn_dstnc'] = df_drop_train['fr_sttn_dstnc'].apply(lambda x : np.log(1+x))\n",
    "df_validation['fr_sttn_dstnc'] = df_validation['fr_sttn_dstnc'].apply(lambda x : np.log(1+x))"
   ]
  },
  {
   "cell_type": "code",
   "execution_count": 23,
   "metadata": {},
   "outputs": [
    {
     "data": {
      "text/html": [
       "<div>\n",
       "<style scoped>\n",
       "    .dataframe tbody tr th:only-of-type {\n",
       "        vertical-align: middle;\n",
       "    }\n",
       "\n",
       "    .dataframe tbody tr th {\n",
       "        vertical-align: top;\n",
       "    }\n",
       "\n",
       "    .dataframe thead th {\n",
       "        text-align: right;\n",
       "    }\n",
       "</style>\n",
       "<table border=\"1\" class=\"dataframe\">\n",
       "  <thead>\n",
       "    <tr style=\"text-align: right;\">\n",
       "      <th></th>\n",
       "      <th>hm_cnt</th>\n",
       "      <th>fr_sttn_dstnc</th>\n",
       "    </tr>\n",
       "  </thead>\n",
       "  <tbody>\n",
       "    <tr>\n",
       "      <th>count</th>\n",
       "      <td>57588.000000</td>\n",
       "      <td>58289.000000</td>\n",
       "    </tr>\n",
       "    <tr>\n",
       "      <th>mean</th>\n",
       "      <td>11046.387754</td>\n",
       "      <td>8.178739</td>\n",
       "    </tr>\n",
       "    <tr>\n",
       "      <th>std</th>\n",
       "      <td>12920.021343</td>\n",
       "      <td>1.045983</td>\n",
       "    </tr>\n",
       "    <tr>\n",
       "      <th>min</th>\n",
       "      <td>778.000000</td>\n",
       "      <td>1.609438</td>\n",
       "    </tr>\n",
       "    <tr>\n",
       "      <th>25%</th>\n",
       "      <td>2893.000000</td>\n",
       "      <td>7.396949</td>\n",
       "    </tr>\n",
       "    <tr>\n",
       "      <th>50%</th>\n",
       "      <td>5775.000000</td>\n",
       "      <td>8.373323</td>\n",
       "    </tr>\n",
       "    <tr>\n",
       "      <th>75%</th>\n",
       "      <td>13557.000000</td>\n",
       "      <td>9.029538</td>\n",
       "    </tr>\n",
       "    <tr>\n",
       "      <th>max</th>\n",
       "      <td>115081.000000</td>\n",
       "      <td>10.449062</td>\n",
       "    </tr>\n",
       "  </tbody>\n",
       "</table>\n",
       "</div>"
      ],
      "text/plain": [
       "              hm_cnt  fr_sttn_dstnc\n",
       "count   57588.000000   58289.000000\n",
       "mean    11046.387754       8.178739\n",
       "std     12920.021343       1.045983\n",
       "min       778.000000       1.609438\n",
       "25%      2893.000000       7.396949\n",
       "50%      5775.000000       8.373323\n",
       "75%     13557.000000       9.029538\n",
       "max    115081.000000      10.449062"
      ]
     },
     "execution_count": 23,
     "metadata": {},
     "output_type": "execute_result"
    }
   ],
   "source": [
    "df_drop_train.describe()"
   ]
  },
  {
   "cell_type": "code",
   "execution_count": 24,
   "metadata": {},
   "outputs": [
    {
     "data": {
      "text/html": [
       "<div>\n",
       "<style scoped>\n",
       "    .dataframe tbody tr th:only-of-type {\n",
       "        vertical-align: middle;\n",
       "    }\n",
       "\n",
       "    .dataframe tbody tr th {\n",
       "        vertical-align: top;\n",
       "    }\n",
       "\n",
       "    .dataframe thead th {\n",
       "        text-align: right;\n",
       "    }\n",
       "</style>\n",
       "<table border=\"1\" class=\"dataframe\">\n",
       "  <thead>\n",
       "    <tr style=\"text-align: right;\">\n",
       "      <th></th>\n",
       "      <th>hm_cnt</th>\n",
       "      <th>fr_sttn_dstnc</th>\n",
       "    </tr>\n",
       "  </thead>\n",
       "  <tbody>\n",
       "    <tr>\n",
       "      <th>count</th>\n",
       "      <td>6897.000000</td>\n",
       "      <td>6898.000000</td>\n",
       "    </tr>\n",
       "    <tr>\n",
       "      <th>mean</th>\n",
       "      <td>29841.455850</td>\n",
       "      <td>7.473290</td>\n",
       "    </tr>\n",
       "    <tr>\n",
       "      <th>std</th>\n",
       "      <td>27504.083784</td>\n",
       "      <td>0.801550</td>\n",
       "    </tr>\n",
       "    <tr>\n",
       "      <th>min</th>\n",
       "      <td>3172.000000</td>\n",
       "      <td>1.386294</td>\n",
       "    </tr>\n",
       "    <tr>\n",
       "      <th>25%</th>\n",
       "      <td>7742.000000</td>\n",
       "      <td>7.006695</td>\n",
       "    </tr>\n",
       "    <tr>\n",
       "      <th>50%</th>\n",
       "      <td>10234.000000</td>\n",
       "      <td>7.629976</td>\n",
       "    </tr>\n",
       "    <tr>\n",
       "      <th>75%</th>\n",
       "      <td>46845.000000</td>\n",
       "      <td>8.073715</td>\n",
       "    </tr>\n",
       "    <tr>\n",
       "      <th>max</th>\n",
       "      <td>85611.000000</td>\n",
       "      <td>8.892199</td>\n",
       "    </tr>\n",
       "  </tbody>\n",
       "</table>\n",
       "</div>"
      ],
      "text/plain": [
       "             hm_cnt  fr_sttn_dstnc\n",
       "count   6897.000000    6898.000000\n",
       "mean   29841.455850       7.473290\n",
       "std    27504.083784       0.801550\n",
       "min     3172.000000       1.386294\n",
       "25%     7742.000000       7.006695\n",
       "50%    10234.000000       7.629976\n",
       "75%    46845.000000       8.073715\n",
       "max    85611.000000       8.892199"
      ]
     },
     "execution_count": 24,
     "metadata": {},
     "output_type": "execute_result"
    }
   ],
   "source": [
    "df_validation.describe()"
   ]
  },
  {
   "cell_type": "code",
   "execution_count": 25,
   "metadata": {},
   "outputs": [
    {
     "data": {
      "text/plain": [
       "<matplotlib.axes._subplots.AxesSubplot at 0x17022a6c9e8>"
      ]
     },
     "execution_count": 25,
     "metadata": {},
     "output_type": "execute_result"
    },
    {
     "data": {
      "image/png": "[encoded data removed]",
      "text/plain": [
       "<Figure size 432x288 with 1 Axes>"
      ]
     },
     "metadata": {
      "needs_background": "light"
     },
     "output_type": "display_data"
    }
   ],
   "source": [
    "sns.boxplot(x = 'fr_sttn_dstnc', y='fr_yn' ,data = df_drop_train)"
   ]
  },
  {
   "cell_type": "code",
   "execution_count": 26,
   "metadata": {},
   "outputs": [
    {
     "data": {
      "text/plain": [
       "<matplotlib.axes._subplots.AxesSubplot at 0x170235bb240>"
      ]
     },
     "execution_count": 26,
     "metadata": {},
     "output_type": "execute_result"
    },
    {
     "data": {
      "image/png": "[encoded data removed]",
      "text/plain": [
       "<Figure size 432x288 with 1 Axes>"
      ]
     },
     "metadata": {
      "needs_background": "light"
     },
     "output_type": "display_data"
    }
   ],
   "source": [
    "sns.boxplot(x = 'fr_sttn_dstnc', y='fr_yn' ,data = df_validation)"
   ]
  },
  {
   "cell_type": "code",
   "execution_count": 27,
   "metadata": {},
   "outputs": [
    {
     "data": {
      "text/plain": [
       "<matplotlib.axes._subplots.AxesSubplot at 0x17023488b38>"
      ]
     },
     "execution_count": 27,
     "metadata": {},
     "output_type": "execute_result"
    },
    {
     "data": {
      "image/png": "[encoded data removed]",
      "text/plain": [
       "<Figure size 432x288 with 1 Axes>"
      ]
     },
     "metadata": {
      "needs_background": "light"
     },
     "output_type": "display_data"
    }
   ],
   "source": [
    "sns.distplot(df_drop_train[df_drop_train['fr_yn']=='Y']['fr_sttn_dstnc'],kde=True)"
   ]
  },
  {
   "cell_type": "code",
   "execution_count": 28,
   "metadata": {},
   "outputs": [
    {
     "data": {
      "text/plain": [
       "<matplotlib.axes._subplots.AxesSubplot at 0x170230aa278>"
      ]
     },
     "execution_count": 28,
     "metadata": {},
     "output_type": "execute_result"
    },
    {
     "data": {
      "image/png": "[encoded data removed]",
      "text/plain": [
       "<Figure size 432x288 with 1 Axes>"
      ]
     },
     "metadata": {
      "needs_background": "light"
     },
     "output_type": "display_data"
    }
   ],
   "source": [
    "sns.distplot(df_validation[df_validation['fr_yn']=='Y']['fr_sttn_dstnc'],kde=True)"
   ]
  },
  {
   "cell_type": "code",
   "execution_count": 29,
   "metadata": {},
   "outputs": [
    {
     "data": {
      "text/plain": [
       "<matplotlib.axes._subplots.AxesSubplot at 0x17023162f60>"
      ]
     },
     "execution_count": 29,
     "metadata": {},
     "output_type": "execute_result"
    },
    {
     "data": {
      "image/png": "[encoded data removed]",
      "text/plain": [
       "<Figure size 432x288 with 1 Axes>"
      ]
     },
     "metadata": {
      "needs_background": "light"
     },
     "output_type": "display_data"
    }
   ],
   "source": [
    "sns.distplot(df_drop_train[df_drop_train['fr_yn']=='N']['fr_sttn_dstnc'],kde=True)"
   ]
  },
  {
   "cell_type": "code",
   "execution_count": 30,
   "metadata": {},
   "outputs": [
    {
     "data": {
      "text/plain": [
       "<matplotlib.axes._subplots.AxesSubplot at 0x17023162400>"
      ]
     },
     "execution_count": 30,
     "metadata": {},
     "output_type": "execute_result"
    },
    {
     "data": {
      "image/png": "[encoded data removed]",
      "text/plain": [
       "<Figure size 432x288 with 1 Axes>"
      ]
     },
     "metadata": {
      "needs_background": "light"
     },
     "output_type": "display_data"
    }
   ],
   "source": [
    "sns.distplot(df_validation[df_validation['fr_yn']=='Y']['fr_sttn_dstnc'],kde=True)"
   ]
  },
  {
   "cell_type": "code",
   "execution_count": null,
   "metadata": {},
   "outputs": [],
   "source": []
  }
 ],
 "metadata": {
  "kernelspec": {
   "display_name": "Python 3",
   "language": "python",
   "name": "python3"
  },
  "language_info": {
   "codemirror_mode": {
    "name": "ipython",
    "version": 3
   },
   "file_extension": ".py",
   "mimetype": "text/x-python",
   "name": "python",
   "nbconvert_exporter": "python",
   "pygments_lexer": "ipython3",
   "version": "3.6.8"
  }
 },
 "nbformat": 4,
 "nbformat_minor": 2
}
