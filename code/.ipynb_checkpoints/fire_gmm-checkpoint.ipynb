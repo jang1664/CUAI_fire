{
 "cells": [
  {
   "cell_type": "markdown",
   "metadata": {},
   "source": [
    "train data -> N:51542, Y:7657 개\n",
    "\n",
    "0, np.nan 값 다 드랍\n",
    "\n",
    "매년 전기 에너지 사용량 달별로 더해서 컬럼 12개로 압축\n",
    "\n",
    "log 변환\n",
    "\n",
    "Y,N 그룹 별 각 컬럼간 상관도 ->pairplot\n",
    "\n",
    "Y,N 그룹 별 각 컬럼의 평균값 barplot\n",
    "\n",
    "Y,N 그룹 별 각 컬럼의 분포도 box plot\n",
    "\n",
    "Y,N 그룹 별 각 컬럼의 분포도 dist plot\n",
    "\n",
    "Y,N 그룹 별 건물용도 별 각 컬럼의 분포도 boxplot\n",
    "\n",
    "각 컬럼의 NuLL값 주거용도 별 펑균값으로 채우고 예측 - >  정확도: 0.8371, 정밀도: 0.8426, 재현율: 0.1431,    F1: 0.2446, AUC:0.5685\n",
    "너무 쉽게 N으로 판단(TN 엄청 많음) -> N의 0값의 비중이 너무 큼 ->  Y의 0을 그냥 N으로 판단하는듯 -> 0부터 어떻게 해야함!"
   ]
  },
  {
   "cell_type": "code",
   "execution_count": 1,
   "metadata": {},
   "outputs": [],
   "source": [
    "#filename = 'finalized_model.sav'\n",
    "#pickle.dump(model, open(filename, 'wb'))\n",
    " \n",
    "# some time later...\n",
    "\n",
    "# load the model from disk\n",
    "#loaded_model = pickle.load(open(filename, 'rb'))\n",
    "#result = loaded_model.score(X_test, Y_test)"
   ]
  },
  {
   "cell_type": "code",
   "execution_count": 1,
   "metadata": {},
   "outputs": [],
   "source": [
    "import pandas as pd\n",
    "import matplotlib.pyplot as plt\n",
    "import seaborn as sns \n",
    "import numpy as np\n",
    "from lightgbm import LGBMClassifier\n",
    "from sklearn.model_selection import train_test_split\n",
    "from sklearn.preprocessing import LabelEncoder\n",
    "from sklearn.cluster import KMeans\n",
    "from sklearn.metrics import silhouette_samples, silhouette_score\n",
    "from sklearn.cluster import estimate_bandwidth\n",
    "from sklearn.cluster import MeanShift\n",
    "import xgboost as xgb\n",
    "from sklearn.model_selection import GridSearchCV\n",
    "from sklearn.linear_model import LinearRegression, Ridge, Lasso\n",
    "from sklearn.metrics import mean_squared_error\n",
    "from sklearn.mixture import GaussianMixture\n",
    "from sklearn.metrics import SCORERS\n",
    "from xgboost import plot_importance\n",
    "import pickle"
   ]
  },
  {
   "cell_type": "code",
   "execution_count": 2,
   "metadata": {},
   "outputs": [],
   "source": [
    "def get_rmse(model):\n",
    "    pred = model.predict(X_test)\n",
    "    mse = mean_squared_error(y_test , pred)\n",
    "    rmse = np.sqrt(mse)\n",
    "    print('RMSE: {0}'.format((rmse)))\n",
    "    return rmse\n",
    "\n",
    "def get_rmses(models):\n",
    "    rmses = [ ]\n",
    "    for model in models:\n",
    "        rmse = get_rmse(model)\n",
    "        rmses.append(rmse)\n",
    "    return rmses"
   ]
  },
  {
   "cell_type": "code",
   "execution_count": 3,
   "metadata": {},
   "outputs": [],
   "source": [
    "from sklearn.metrics import confusion_matrix, accuracy_score\n",
    "from sklearn.metrics import precision_score, recall_score\n",
    "from sklearn.metrics import f1_score, roc_auc_score, r2_score, mean_absolute_error\n",
    "\n",
    "def get_clf_eval(y_test , pred, typ):\n",
    "    if typ=='classification':\n",
    "        confusion = confusion_matrix( y_test, pred)\n",
    "        accuracy = accuracy_score(y_test , pred)\n",
    "        precision = precision_score(y_test , pred)\n",
    "        recall = recall_score(y_test , pred)\n",
    "        f1 = f1_score(y_test,pred)\n",
    "        roc_auc = roc_auc_score(y_test, pred)\n",
    "        print('오차 행렬')\n",
    "        print(confusion)\n",
    "        print('정확도: {0:.4f}, 정밀도: {1:.4f}, 재현율: {2:.4f},\\\n",
    "        F1: {3:.4f}, AUC:{4:.4f}'.format(accuracy, precision, recall, f1, roc_auc))\n",
    "    if typ=='regression':\n",
    "        r2 = r2_score(y_test, pred)\n",
    "        mase = mean_absolute_error(y_test, pred)\n",
    "        print('r2 score : {0}'.format(r2))\n",
    "        print('mae score : {0}'.format(mase))\n",
    "   \n",
    "    "
   ]
  },
  {
   "cell_type": "code",
   "execution_count": 4,
   "metadata": {},
   "outputs": [],
   "source": [
    "def visualize_silhouette(cluster_lists, X_features,cluster_labels): \n",
    "    \n",
    "    from sklearn.datasets import make_blobs\n",
    "    from sklearn.cluster import KMeans\n",
    "    from sklearn.metrics import silhouette_samples, silhouette_score\n",
    "\n",
    "    import matplotlib.pyplot as plt\n",
    "    import matplotlib.cm as cm\n",
    "    import math\n",
    "    \n",
    "    # 입력값으로 클러스터링 갯수들을 리스트로 받아서, 각 갯수별로 클러스터링을 적용하고 실루엣 개수를 구함\n",
    "    n_cols = len(cluster_lists)\n",
    "    \n",
    "    # plt.subplots()으로 리스트에 기재된 클러스터링 수만큼의 sub figures를 가지는 axs 생성 \n",
    "    fig, axs = plt.subplots(figsize=(4*n_cols, 4), nrows=1, ncols=n_cols)\n",
    "    \n",
    "    # 리스트에 기재된 클러스터링 갯수들을 차례로 iteration 수행하면서 실루엣 개수 시각화\n",
    "    for ind, n_cluster in enumerate(cluster_lists):\n",
    "        \n",
    "        # KMeans 클러스터링 수행하고, 실루엣 스코어와 개별 데이터의 실루엣 값 계산. \n",
    "        #clusterer = KMeans(n_clusters = n_cluster, max_iter=500, random_state=0)\n",
    "        #cluster_labels = clusterer.fit_predict(X_features)\n",
    "        \n",
    "        sil_avg = silhouette_score(X_features, cluster_labels)\n",
    "        sil_values = silhouette_samples(X_features, cluster_labels)\n",
    "        \n",
    "        y_lower = 10\n",
    "        axs[ind].set_title('Number of Cluster : '+ str(n_cluster)+'\\n'+'Silhouette Score :' + str(round(sil_avg,3)) )\n",
    "        axs[ind].set_xlabel(\"The silhouette coefficient values\")\n",
    "        axs[ind].set_ylabel(\"Cluster label\")\n",
    "        axs[ind].set_xlim([-0.1, 1])\n",
    "        axs[ind].set_ylim([0, len(X_features) + (n_cluster + 1) * 10])\n",
    "        axs[ind].set_yticks([])  # Clear the yaxis labels / ticks\n",
    "        axs[ind].set_xticks([0, 0.2, 0.4, 0.6, 0.8, 1])\n",
    "        \n",
    "        # 클러스터링 갯수별로 fill_betweenx( )형태의 막대 그래프 표현. \n",
    "        for i in range(n_cluster):\n",
    "            ith_cluster_sil_values = sil_values[cluster_labels==i]\n",
    "            ith_cluster_sil_values.sort()\n",
    "            \n",
    "            size_cluster_i = ith_cluster_sil_values.shape[0]\n",
    "            y_upper = y_lower + size_cluster_i\n",
    "            \n",
    "            color = cm.nipy_spectral(float(i) / n_cluster)\n",
    "            axs[ind].fill_betweenx(np.arange(y_lower, y_upper), 0, ith_cluster_sil_values, \\\n",
    "                                facecolor=color, edgecolor=color, alpha=0.7)\n",
    "            axs[ind].text(-0.05, y_lower + 0.5 * size_cluster_i, str(i))\n",
    "            y_lower = y_upper + 10\n",
    "            \n",
    "        axs[ind].axvline(x=sil_avg, color=\"red\", linestyle=\"--\")\n",
    "        "
   ]
  },
  {
   "cell_type": "code",
   "execution_count": 5,
   "metadata": {},
   "outputs": [],
   "source": [
    "def kmeans_plot(clusterDF,n_clusters,max_iter):\n",
    "\n",
    "    kmeans = KMeans(n_clusters, init='k-means++', max_iter=200, random_state=0)\n",
    "    cluster_labels = kmeans.fit_predict(clusterDF)\n",
    "    col=clusterDF.columns\n",
    "    clusterDF['kmeans_label']  = cluster_labels\n",
    "\n",
    "#cluster_centers_ 는 개별 클러스터의 중심 위치 좌표 시각화를 위해 추출\n",
    "    centers = kmeans.cluster_centers_\n",
    "    unique_labels = np.unique(cluster_labels)\n",
    "    markers=['o', 's', '^', 'P','D','H','x']\n",
    "\n",
    "# 군집된 label 유형별로 iteration 하면서 marker 별로 scatter plot 수행. \n",
    "    for label in unique_labels:\n",
    "        label_cluster = clusterDF[clusterDF['kmeans_label']==label]\n",
    "        center_x_y = centers[label]\n",
    "        plt.scatter(x=label_cluster[col[0]], y=label_cluster[col[1]], edgecolor='k', \n",
    "                    marker=markers[label] )\n",
    "    \n",
    "    # 군집별 중심 위치 좌표 시각화 \n",
    "        plt.scatter(x=center_x_y[0], y=center_x_y[1], s=200, color='white',\n",
    "                    alpha=0.9, edgecolor='k', marker=markers[label])\n",
    "        plt.scatter(x=center_x_y[0], y=center_x_y[1], s=70, color='k', edgecolor='k', \n",
    "                    marker='$%d$' % label)\n",
    "\n",
    "    plt.show()"
   ]
  },
  {
   "cell_type": "code",
   "execution_count": 6,
   "metadata": {},
   "outputs": [],
   "source": [
    "def plot_mean(df_n):\n",
    "    index = np.array(df_n.mean().index)\n",
    "    height = np.array(df_n.mean())\n",
    "    plt.figure(figsize=(16,10))\n",
    "    plt.bar(index, height)\n",
    "    \n",
    "def plot_dist(df):\n",
    "    list_series = df.columns\n",
    "    n=len(list_series)\n",
    "    plt.figure(figsize=(25,6))\n",
    "    fig , axes = plt.subplots(n//2+1,2,figsize=(15,40))\n",
    "    axx = axes.flatten()\n",
    "    for index,i in enumerate(list_series[:-2]):\n",
    "        x=df[i]\n",
    "        sns.distplot(x, kde=True, rug=False,ax=axx[index])\n",
    "    \n",
    "def elec_month(df_y):\n",
    "    df_y_local = df_y.drop(['label','bldng_us'],axis=1)\n",
    "    for i in range(1,13):\n",
    "        col = '{0} month'.format(i)\n",
    "        df_y_local[col]=df_y_local.iloc[:,(i-1)::12].sum(axis=1)\n",
    "    df_y_local = df_y_local.iloc[:,-1:-13:-1]\n",
    "    df_y_local = df_y_local.iloc[:,-1:-13:-1]\n",
    "    df_y_local['bldng_us']=df_y['bldng_us']\n",
    "    df_y_local['label']=df_y['label']\n",
    "    return df_y_local\n",
    "\n",
    "def plot_box1(df,label,h=None):\n",
    "    list_series = df.columns\n",
    "    n=len(list_series)\n",
    "    #fig , axes = plt.subplots(4,n//4+1,figsize=(15,15))\n",
    "    #axx = axes.flatten()\n",
    "    if(h==None):\n",
    "        fig , axes = plt.subplots(4,n//4+1,figsize=(15,15))\n",
    "        axx = axes.flatten()\n",
    "        for index,i in enumerate(list_series[:-2]):\n",
    "            sns.boxplot(i, label, data=df,ax=axx[index])\n",
    "            #sns.stripplot(x, 'bldng_us',hue=label, data=df, jitter=True, color=\"0.4\",ax=axx[index])\n",
    "    else:\n",
    "        fig , axes = plt.subplots(4,n//4+1,figsize=(15,150))\n",
    "        axx = axes.flatten()\n",
    "        for index,i in enumerate(list_series[:-2]):\n",
    "            sns.boxplot(i, label,hue=h ,data=df,ax=axx[index])\n",
    "            #sns.stripplot(x, 'bldng_us',hue=label, data=df, jitter=True, color=\"0.4\",ax=axx[index])\n",
    "        \n",
    "\n",
    "def plot_box2(df,label):\n",
    "    list_series = df.columns\n",
    "    n=len(list_series)\n",
    "    fig , axes = plt.subplots(4,n//4+1,figsize=(15,150))\n",
    "    axx = axes.flatten()\n",
    "    for index,i in enumerate(list_series[:-2]):\n",
    "        sns.boxplot(i, label,hue='bldng_us', data=df,ax=axx[index])\n",
    "        #sns.stripplot(x, 'bldng_us',hue=label, data=df, jitter=True, color=\"0.4\",ax=axx[index])\n",
    "        \n",
    "def get_outlier(df=None, column=None, weight=1.5):\n",
    "    # fraud에 해당하는 column 데이터만 추출, 1/4 분위와 3/4 분위 지점을 np.percentile로 구함. \n",
    "    #fraud = df[df['label']==1][column]\n",
    "    fraud = df[column]\n",
    "    quantile_25 = np.percentile(fraud.values, 25)\n",
    "    quantile_75 = np.percentile(fraud.values, 75)\n",
    "    # IQR을 구하고, IQR에 1.5를 곱하여 최대값과 최소값 지점 구함. \n",
    "    iqr = quantile_75 - quantile_25\n",
    "    iqr_weight = iqr * weight\n",
    "    lowest_val = quantile_25 - iqr_weight\n",
    "    highest_val = quantile_75 + iqr_weight\n",
    "    # 최대값 보다 크거나, 최소값 보다 작은 값을 아웃라이어로 설정하고 DataFrame index 반환. \n",
    "    outlier_index = fraud[(fraud < lowest_val) | (fraud > highest_val)].index\n",
    "    return outlier_index\n",
    "\n",
    "def fill_elec(df):\n",
    "    list_ = list(df.columns[:-2])\n",
    "    for i in list_:\n",
    "        df[i] = df[i].apply(lambda x: np.nan if x==0 else x)\n",
    "        #df[i].fillna(df[i].mean(), inplace=True)\n",
    "        df=df.dropna()\n",
    "    return df\n",
    "\n",
    "def circum_plot(df,year,drop=False):\n",
    "    df_elec = df.iloc[:,18:137:2]\n",
    "    if drop==True:\n",
    "        list_ = list(df_elec.columns)\n",
    "        for i in list_:\n",
    "            df_elec[i] = df_elec[i].apply(lambda x: np.nan if x==0 else x)\n",
    "    df_elec=df_elec.dropna()\n",
    "    df_elec = df_elec.apply(lambda x: np.log10(1+x))\n",
    "    #list_col = list(df.columns)\n",
    "    #index = list_col.index('bldng_cnt')\n",
    "    #df_cir=df.iloc[:,index:index+3]\n",
    "    df_cir=df.iloc[:,12:17]\n",
    "    list_cir = list(df_cir.columns)\n",
    "    df_elec = pd.concat([df_elec,df_cir],axis=1)\n",
    "    df_elec['fr_yn']=df['fr_yn']\n",
    "    #df_elec['mon'] = df['dt_of_fr'].apply(lambda x: int(x.split('-')[1]))\n",
    "    col='ele_engry_us_'\n",
    "    year=str(year)\n",
    "    for i in range(1,11):\n",
    "        if(i<=9):\n",
    "            mon='0'+str(i)\n",
    "        else:\n",
    "            mon=str(i)\n",
    "        col_a =col+year+mon\n",
    "        fig =plt.figure(figsize=(10,12))\n",
    "        ax1 = fig.add_subplot(3, 2, 1)\n",
    "        ax2 = fig.add_subplot(3, 2, 2)\n",
    "        ax3 = fig.add_subplot(3, 2, 3)\n",
    "        ax4 = fig.add_subplot(3, 2, 4)\n",
    "        ax5 = fig.add_subplot(3, 2, 5)\n",
    "        list_ax=[ax1, ax2, ax3, ax4, ax5]\n",
    "        for index,j in enumerate(list_cir):\n",
    "            df_elec_1=df_elec[df_elec['mon']==i][[col_a,j]]\n",
    "            list_ax[index].set_xlabel(col_a)\n",
    "            list_ax[index].set_ylabel(j)\n",
    "            list_ax[index].set_title(year)\n",
    "            list_ax[index].scatter(df_elec_1.iloc[:,0],df_elec_1.iloc[:,1])\n",
    "            \n",
    "def building_plot(df,year,mon,drop=False):\n",
    "    df_elec = df.iloc[:,18:137:2]\n",
    "    list_col = list(df.columns)\n",
    "    index = list_col.index('bldng_cnt')\n",
    "    df_cir=df.iloc[:,index:index+3]\n",
    "    df_elec = pd.concat([df_elec,df_cir],axis=1)\n",
    "    list_cir = list(df_cir.columns)\n",
    "    if drop==True:\n",
    "        list_ = list(df_elec.columns[:-4])\n",
    "        for i in list_:\n",
    "            df_elec[i] = df_elec[i].apply(lambda x: np.nan if x==0 else x)\n",
    "            \n",
    "    df_elec=df_elec.dropna()\n",
    "    \n",
    "    df_elec.iloc[:,:-4] = df_elec.iloc[:,:-4].apply(lambda x: np.log10(1+x))\n",
    "    \n",
    "    col='ele_engry_us_'\n",
    "    year=str(year)\n",
    "    col_a =col+year+mon\n",
    "    for index,j in enumerate(list_cir):\n",
    "        df_elec_1=df_elec[[col_a,j]]\n",
    "        visualize_silhouette([2,3],df_elec_1)\n",
    "        \n",
    "def df_prepro(df,drop):\n",
    "    df=fill_circum(df)\n",
    "    list_col=list(df.columns)\n",
    "    df_elec = df.iloc[:,18:137:2]\n",
    "    list_x = list(df_elec.columns)\n",
    "    index2 = list_x.index('ele_engry_us_201401')\n",
    "    df_elec=df_elec.iloc[:,index2:]\n",
    "    index = list_col.index('bldng_cnt')\n",
    "    df_cir=df.iloc[:,index:index+3]\n",
    "    df_cir2 = df.iloc[:,12:17]\n",
    "    df_cir2.drop('prcpttn',axis=1,inplace=True)\n",
    "    df_elec = pd.concat([df_cir, df_cir2,df_elec],axis=1)\n",
    "    df_elec = df_elec.replace([np.inf, -np.inf], np.nan)\n",
    "    \n",
    "    a=get_outlier(df_cir,'bldng_cnt').tolist()\n",
    "    b=get_outlier(df_cir,'bldng_ar').tolist()\n",
    "    c=get_outlier(df_cir,'ttl_ar').tolist()\n",
    "    index_list=a+b+c\n",
    "    index_list = np.unique(index_list)\n",
    "    index_list=np.array(index_list)\n",
    "    index_list=index_list.reshape(-1,)\n",
    "    index_list=np.unique(index_list)\n",
    "    index_list.sort()\n",
    "    \n",
    "    q=pd.Series(index_list)\n",
    "    w=pd.DataFrame(q,columns=['col1'])\n",
    "    w.index=index_list\n",
    "    x=w.index\n",
    "    df_elec.drop(x,axis=0,inplace=True)\n",
    "    df_elec = df_elec.reset_index(drop=True)\n",
    "    \n",
    "    df_list=[]\n",
    "    \n",
    "    if drop==True:\n",
    "        list_x = list(df_elec.columns)\n",
    "        index2 = list_x.index('ele_engry_us_201401')\n",
    "        list_ = list(df_elec.columns[index2:])\n",
    "        for i in list_:\n",
    "            df_elec[i] = df_elec[i].apply(lambda x: np.nan if x==0 else x)\n",
    "            df_elec[i] = df_elec[i].replace([np.nan],'nan')\n",
    "    \n",
    "    for i in df_elec.iloc[:,7:].columns:\n",
    "        x=df_elec[(df_elec[i]!='nan')]\n",
    "        x=x[x[i]>=0]\n",
    "        y=x.iloc[:,0:7]\n",
    "        x[i]=x[i].apply(lambda x: np.log10(1+x))\n",
    "        y[i]=x[i]\n",
    "        df_list.append(y)\n",
    "            \n",
    "    #df_elec=df_elec.dropna()\n",
    "    \n",
    "    #df_elec.iloc[:,7:] = df_elec.iloc[:,7:].apply(lambda x: np.log10(1+x))\n",
    "    return df_list\n",
    "\n",
    "def df_prepro_gas(df,drop):\n",
    "    df=fill_circum(df)\n",
    "    list_col=list(df.columns)\n",
    "    df_elec = df.iloc[:,17:137:2]\n",
    "    list_x = list(df_elec.columns)\n",
    "    index2 = list_x.index('gas_engry_us_201401')\n",
    "    df_elec=df_elec.iloc[:,index2:]\n",
    "    index = list_col.index('bldng_cnt')\n",
    "    df_cir=df.iloc[:,index:index+3]\n",
    "    df_cir2 = df.iloc[:,12:17]\n",
    "    df_cir2.drop('prcpttn',axis=1,inplace=True)\n",
    "    df_elec = pd.concat([df_cir, df_cir2,df_elec],axis=1)\n",
    "    df_elec = df_elec.replace([np.inf, -np.inf], np.nan)\n",
    "    \n",
    "    a=get_outlier(df_cir,'bldng_cnt').tolist()\n",
    "    b=get_outlier(df_cir,'bldng_ar').tolist()\n",
    "    c=get_outlier(df_cir,'ttl_ar').tolist()\n",
    "    index_list=a+b+c\n",
    "    index_list = np.unique(index_list)\n",
    "    index_list=np.array(index_list)\n",
    "    index_list=index_list.reshape(-1,)\n",
    "    index_list=np.unique(index_list)\n",
    "    index_list.sort()\n",
    "    \n",
    "    q=pd.Series(index_list)\n",
    "    w=pd.DataFrame(q,columns=['col1'])\n",
    "    w.index=index_list\n",
    "    x=w.index\n",
    "    df_elec.drop(x,axis=0,inplace=True)\n",
    "    df_elec = df_elec.reset_index(drop=True)\n",
    "    \n",
    "    if drop==True:\n",
    "        list_x = list(df_elec.columns)\n",
    "        index2 = list_x.index('gas_engry_us_201401')\n",
    "        list_ = list(df_elec.columns[index2:])\n",
    "        for i in list_:\n",
    "            df_elec[i] = df_elec[i].apply(lambda x: np.nan if x==0 else x)\n",
    "            df_elec[i] = df_elec[i].replace([np.nan],'nan')\n",
    "            \n",
    "    df_list=[]\n",
    "            \n",
    "    for i in df_elec.iloc[:,7:].columns:\n",
    "        x=df_elec[(df_elec[i]!='nan')]\n",
    "        x=x[x[i]>=0]\n",
    "        y=x.iloc[:,0:7]\n",
    "        x[i]=x[i].apply(lambda x: np.log10(1+x))\n",
    "        y[i]=x[i]\n",
    "        df_list.append(y)\n",
    "            \n",
    "    #df_elec=df_elec.dropna()\n",
    "    \n",
    "    #df_elec.iloc[:,7:] = df_elec.iloc[:,7:].apply(lambda x: np.log10(1+x))\n",
    "    return df_list\n",
    "\n",
    "def sil_plot(X_features, cluster_labels):\n",
    "        n_cluster = len(np.unique(cluster_labels))\n",
    "        sil_avg = silhouette_score(X_features, cluster_labels)\n",
    "        sil_values = silhouette_samples(X_features, cluster_labels)\n",
    "        print(sil_avg)\n",
    "        \n",
    "def gmm_plot(clusterDF):\n",
    "    col=clusterDF.columns\n",
    "    gmm = GaussianMixture(n_components=3, random_state=0).fit(clusterDF)\n",
    "    cluster_labels = gmm.predict(clusterDF)\n",
    "\n",
    "    clusterDF['meanshift_label']  = cluster_labels\n",
    "    #centers = gmm.cluster_centers_\n",
    "    unique_labels = np.unique(cluster_labels)\n",
    "    markers=['o', 's', '^', 'x', '*']\n",
    "\n",
    "    for label in unique_labels:\n",
    "        label_cluster = clusterDF[clusterDF['meanshift_label']==label]\n",
    "        #center_x_y = centers[label]\n",
    "    # 군집별로 다른 marker로 scatter plot 적용\n",
    "        plt.scatter(x=label_cluster[col[0]], y=label_cluster[col[1]], edgecolor='k', \n",
    "                    marker=markers[label] )\n",
    "    \n",
    "    plt.show()\n",
    "    \n",
    "def make_df(df_elec):\n",
    "    list_year=['2017','2018']\n",
    "    list_mon=['01','02','03','04','05','06','07','08','09','10','11','12']\n",
    "    list_df =[]\n",
    "    X_list=[]\n",
    "    Y_list=[]\n",
    "    for i in list_year:\n",
    "        for j in list_mon:\n",
    "            col='ele_engry_us_' + i + j\n",
    "            a=df_elec.loc[:,[col,'bldng_cnt','bldng_ar','ttl_ar','tmprtr','wnd_spd','wnd_drctn','hmdt']]\n",
    "            list_df.append(a)\n",
    "            X_list.append(a.iloc[:,1:])\n",
    "            Y_list.append(a.iloc[:,0])\n",
    "    return list_df, X_list, Y_list\n",
    "\n",
    "def make_df_gas(df_elec):\n",
    "    list_year=['2014','2015','2016','2017','2018']\n",
    "    list_mon=['01','02','03','04','05','06','07','08','09','10','11','12']\n",
    "    list_df =[]\n",
    "    X_list=[]\n",
    "    Y_list=[]\n",
    "    for i in list_year:\n",
    "        for j in list_mon:\n",
    "            col='gas_engry_us_' + i + j\n",
    "            a=df_elec.loc[:,[col,'bldng_cnt','bldng_ar','ttl_ar','tmprtr','wnd_spd','wnd_drctn','hmdt']]\n",
    "            list_df.append(a)\n",
    "            X_list.append(a.iloc[:,1:])\n",
    "            Y_list.append(a.iloc[:,0])\n",
    "    return list_df, X_list, Y_list\n",
    "\n",
    "\n",
    "def fill_circum(df):\n",
    "    #df['dt_of_fr'] = df['dt_of_fr'].apply(lambda x: int(x.split('-')[1]))\n",
    "    list=['tmprtr','wnd_spd','wnd_drctn','hmdt']\n",
    "    for i in list:\n",
    "        df[i]=df[i].replace([np.inf,-np.inf],np.nan)\n",
    "        df[i]=df[i].fillna(df.groupby(by='fr_yn')[i].transform('mean'))\n",
    "\n",
    "    return df\n",
    "\n",
    "def df_prepro_vali(df,drop):\n",
    "    df=df.replace([np.inf, -np.inf], np.nan)\n",
    "    df=fill_circum(df)\n",
    "    list_col=list(df.columns)\n",
    "    df_elec = df.iloc[:,18:137:2]\n",
    "    list_x = list(df_elec.columns)\n",
    "    index2 = list_x.index('ele_engry_us_201701')\n",
    "    df_elec=df_elec.iloc[:,index2:]\n",
    "    index = list_col.index('bldng_cnt')\n",
    "    df_cir=df.iloc[:,index:index+3]\n",
    "    df_cir2 = df.iloc[:,12:17]\n",
    "    df_cir2.drop('prcpttn',axis=1,inplace=True)\n",
    "    df_elec = pd.concat([df_cir, df_cir2,df_elec],axis=1)\n",
    "    #df_elec = df_elec.replace([np.inf, -np.inf], np.nan)\n",
    "    \n",
    "    df_elec = df_elec.reset_index(drop=True)\n",
    "    \n",
    "    if drop==True:\n",
    "        list_x = list(df_elec.columns)\n",
    "        index2 = list_x.index('ele_engry_us_201701')\n",
    "        list_ = list(df_elec.columns[index2:])\n",
    "        for i in list_:\n",
    "            df_elec[i] = df_elec[i].apply(lambda x: np.nan if x==0 else x)\n",
    "    \n",
    "    df_elec.iloc[:,9:] = df_elec.iloc[:,9:].apply(lambda x: np.log10(1+x))\n",
    "    return df_elec"
   ]
  },
  {
   "cell_type": "code",
   "execution_count": 10,
   "metadata": {},
   "outputs": [
    {
     "data": {
      "text/html": [
       "<div>\n",
       "<style scoped>\n",
       "    .dataframe tbody tr th:only-of-type {\n",
       "        vertical-align: middle;\n",
       "    }\n",
       "\n",
       "    .dataframe tbody tr th {\n",
       "        vertical-align: top;\n",
       "    }\n",
       "\n",
       "    .dataframe thead th {\n",
       "        text-align: right;\n",
       "    }\n",
       "</style>\n",
       "<table border=\"1\" class=\"dataframe\">\n",
       "  <thead>\n",
       "    <tr style=\"text-align: right;\">\n",
       "      <th></th>\n",
       "      <th>dt_of_fr</th>\n",
       "      <th>fr_yn</th>\n",
       "      <th>bldng_us</th>\n",
       "      <th>bldng_archtctr</th>\n",
       "      <th>bldng_cnt</th>\n",
       "      <th>bldng_ar</th>\n",
       "      <th>ttl_ar</th>\n",
       "      <th>lnd_ar</th>\n",
       "      <th>dt_of_athrztn</th>\n",
       "      <th>ttl_grnd_flr</th>\n",
       "      <th>...</th>\n",
       "      <th>no_tbc_zn_dstnc</th>\n",
       "      <th>bldng_cnt_in_50m</th>\n",
       "      <th>trgt_crtr</th>\n",
       "      <th>fr_fghtng_fclt_spcl_css_5_yn</th>\n",
       "      <th>fr_fghtng_fclt_spcl_css_6_yn</th>\n",
       "      <th>us_yn</th>\n",
       "      <th>dngrs_thng_yn</th>\n",
       "      <th>slf_fr_brgd_yn</th>\n",
       "      <th>blk_dngrs_thng_mnfctr_yn</th>\n",
       "      <th>cltrl_hrtg_yn</th>\n",
       "    </tr>\n",
       "  </thead>\n",
       "  <tbody>\n",
       "    <tr>\n",
       "      <th>0</th>\n",
       "      <td>2017-10-20 05:54:00</td>\n",
       "      <td>Y</td>\n",
       "      <td>단독주택</td>\n",
       "      <td>블록구조</td>\n",
       "      <td>3</td>\n",
       "      <td>69.42</td>\n",
       "      <td>69.42</td>\n",
       "      <td>0.0</td>\n",
       "      <td>1977</td>\n",
       "      <td>1.0</td>\n",
       "      <td>...</td>\n",
       "      <td>88</td>\n",
       "      <td>0</td>\n",
       "      <td>NaN</td>\n",
       "      <td>NaN</td>\n",
       "      <td>NaN</td>\n",
       "      <td>NaN</td>\n",
       "      <td>NaN</td>\n",
       "      <td>NaN</td>\n",
       "      <td>NaN</td>\n",
       "      <td>NaN</td>\n",
       "    </tr>\n",
       "    <tr>\n",
       "      <th>1</th>\n",
       "      <td>2018-09-30 08:26:15</td>\n",
       "      <td>N</td>\n",
       "      <td>NaN</td>\n",
       "      <td>NaN</td>\n",
       "      <td>3</td>\n",
       "      <td>46.29</td>\n",
       "      <td>46.29</td>\n",
       "      <td>0.0</td>\n",
       "      <td>NaN</td>\n",
       "      <td>1.0</td>\n",
       "      <td>...</td>\n",
       "      <td>7727</td>\n",
       "      <td>0</td>\n",
       "      <td>NaN</td>\n",
       "      <td>NaN</td>\n",
       "      <td>NaN</td>\n",
       "      <td>NaN</td>\n",
       "      <td>NaN</td>\n",
       "      <td>NaN</td>\n",
       "      <td>NaN</td>\n",
       "      <td>NaN</td>\n",
       "    </tr>\n",
       "    <tr>\n",
       "      <th>2</th>\n",
       "      <td>2016-10-30 14:57:00</td>\n",
       "      <td>Y</td>\n",
       "      <td>공동주택</td>\n",
       "      <td>철근콘크리트구조</td>\n",
       "      <td>1</td>\n",
       "      <td>583.80</td>\n",
       "      <td>2516.76</td>\n",
       "      <td>1446.0</td>\n",
       "      <td>2.00011e+07</td>\n",
       "      <td>5.0</td>\n",
       "      <td>...</td>\n",
       "      <td>72</td>\n",
       "      <td>14</td>\n",
       "      <td>NaN</td>\n",
       "      <td>NaN</td>\n",
       "      <td>NaN</td>\n",
       "      <td>NaN</td>\n",
       "      <td>NaN</td>\n",
       "      <td>NaN</td>\n",
       "      <td>NaN</td>\n",
       "      <td>NaN</td>\n",
       "    </tr>\n",
       "    <tr>\n",
       "      <th>3</th>\n",
       "      <td>2016-06-14 05:23:58</td>\n",
       "      <td>N</td>\n",
       "      <td>단독주택</td>\n",
       "      <td>일반목구조</td>\n",
       "      <td>2</td>\n",
       "      <td>48.92</td>\n",
       "      <td>48.92</td>\n",
       "      <td>0.0</td>\n",
       "      <td>1936</td>\n",
       "      <td>1.0</td>\n",
       "      <td>...</td>\n",
       "      <td>508</td>\n",
       "      <td>11</td>\n",
       "      <td>NaN</td>\n",
       "      <td>NaN</td>\n",
       "      <td>NaN</td>\n",
       "      <td>NaN</td>\n",
       "      <td>NaN</td>\n",
       "      <td>NaN</td>\n",
       "      <td>NaN</td>\n",
       "      <td>NaN</td>\n",
       "    </tr>\n",
       "    <tr>\n",
       "      <th>4</th>\n",
       "      <td>2018-04-22 05:38:59</td>\n",
       "      <td>N</td>\n",
       "      <td>NaN</td>\n",
       "      <td>NaN</td>\n",
       "      <td>2</td>\n",
       "      <td>0.00</td>\n",
       "      <td>0.00</td>\n",
       "      <td>0.0</td>\n",
       "      <td>NaN</td>\n",
       "      <td>NaN</td>\n",
       "      <td>...</td>\n",
       "      <td>707</td>\n",
       "      <td>0</td>\n",
       "      <td>NaN</td>\n",
       "      <td>NaN</td>\n",
       "      <td>NaN</td>\n",
       "      <td>NaN</td>\n",
       "      <td>NaN</td>\n",
       "      <td>NaN</td>\n",
       "      <td>NaN</td>\n",
       "      <td>NaN</td>\n",
       "    </tr>\n",
       "  </tbody>\n",
       "</table>\n",
       "<p>5 rows × 180 columns</p>\n",
       "</div>"
      ],
      "text/plain": [
       "              dt_of_fr fr_yn bldng_us bldng_archtctr  bldng_cnt  bldng_ar  \\\n",
       "0  2017-10-20 05:54:00     Y     단독주택           블록구조          3     69.42   \n",
       "1  2018-09-30 08:26:15     N      NaN            NaN          3     46.29   \n",
       "2  2016-10-30 14:57:00     Y     공동주택       철근콘크리트구조          1    583.80   \n",
       "3  2016-06-14 05:23:58     N     단독주택          일반목구조          2     48.92   \n",
       "4  2018-04-22 05:38:59     N      NaN            NaN          2      0.00   \n",
       "\n",
       "    ttl_ar  lnd_ar dt_of_athrztn  ttl_grnd_flr  ...  no_tbc_zn_dstnc  \\\n",
       "0    69.42     0.0          1977           1.0  ...               88   \n",
       "1    46.29     0.0           NaN           1.0  ...             7727   \n",
       "2  2516.76  1446.0   2.00011e+07           5.0  ...               72   \n",
       "3    48.92     0.0          1936           1.0  ...              508   \n",
       "4     0.00     0.0           NaN           NaN  ...              707   \n",
       "\n",
       "  bldng_cnt_in_50m  trgt_crtr  fr_fghtng_fclt_spcl_css_5_yn  \\\n",
       "0                0        NaN                           NaN   \n",
       "1                0        NaN                           NaN   \n",
       "2               14        NaN                           NaN   \n",
       "3               11        NaN                           NaN   \n",
       "4                0        NaN                           NaN   \n",
       "\n",
       "   fr_fghtng_fclt_spcl_css_6_yn  us_yn  dngrs_thng_yn  slf_fr_brgd_yn  \\\n",
       "0                           NaN    NaN            NaN             NaN   \n",
       "1                           NaN    NaN            NaN             NaN   \n",
       "2                           NaN    NaN            NaN             NaN   \n",
       "3                           NaN    NaN            NaN             NaN   \n",
       "4                           NaN    NaN            NaN             NaN   \n",
       "\n",
       "   blk_dngrs_thng_mnfctr_yn  cltrl_hrtg_yn  \n",
       "0                       NaN            NaN  \n",
       "1                       NaN            NaN  \n",
       "2                       NaN            NaN  \n",
       "3                       NaN            NaN  \n",
       "4                       NaN            NaN  \n",
       "\n",
       "[5 rows x 180 columns]"
      ]
     },
     "execution_count": 10,
     "metadata": {},
     "output_type": "execute_result"
    }
   ],
   "source": [
    "df_cir = pd.read_csv('PJT002_train.csv')\n",
    "df_cir = fill_circum(df_cir)\n",
    "df_cir.iloc[:,12:17].isna().sum()\n",
    "df_cir.head()"
   ]
  },
  {
   "cell_type": "code",
   "execution_count": null,
   "metadata": {},
   "outputs": [],
   "source": [
    "df_cir = pd.read_csv('PJT002_train.csv')\n",
    "\n",
    "a=get_outlier(df_cir,'bldng_cnt').tolist()\n",
    "b=get_outlier(df_cir,'bldng_ar').tolist()\n",
    "c=get_outlier(df_cir,'ttl_ar').tolist()\n",
    "d=get_outlier(df_cir,'lnd_ar').tolist()\n",
    "\n",
    "print(len(a))\n",
    "print(len(b))\n",
    "print(len(c))\n",
    "print(len(d))"
   ]
  },
  {
   "cell_type": "code",
   "execution_count": 15,
   "metadata": {},
   "outputs": [
    {
     "data": {
      "text/plain": [
       "<matplotlib.axes._subplots.AxesSubplot at 0x1c6aff8b908>"
      ]
     },
     "execution_count": 15,
     "metadata": {},
     "output_type": "execute_result"
    },
    {
     "data": {
      "image/png": "[encoded data removed]",
      "text/plain": [
       "<Figure size 432x288 with 1 Axes>"
      ]
     },
     "metadata": {
      "needs_background": "light"
     },
     "output_type": "display_data"
    }
   ],
   "source": [
    "sns.boxplot(x='bldng_cnt',y='fr_yn',data = df_cir.drop(a,axis=0))"
   ]
  },
  {
   "cell_type": "code",
   "execution_count": 16,
   "metadata": {},
   "outputs": [
    {
     "data": {
      "text/plain": [
       "<matplotlib.axes._subplots.AxesSubplot at 0x1c6aff8b5f8>"
      ]
     },
     "execution_count": 16,
     "metadata": {},
     "output_type": "execute_result"
    },
    {
     "data": {
      "image/png": "[encoded data removed]",
      "text/plain": [
       "<Figure size 432x288 with 1 Axes>"
      ]
     },
     "metadata": {
      "needs_background": "light"
     },
     "output_type": "display_data"
    }
   ],
   "source": [
    "sns.boxplot(x='bldng_ar',y='fr_yn',data = df_cir.drop(b,axis=0))"
   ]
  },
  {
   "cell_type": "code",
   "execution_count": 17,
   "metadata": {},
   "outputs": [
    {
     "data": {
      "text/plain": [
       "<matplotlib.axes._subplots.AxesSubplot at 0x1c6afd48710>"
      ]
     },
     "execution_count": 17,
     "metadata": {},
     "output_type": "execute_result"
    },
    {
     "data": {
      "image/png": "[encoded data removed]",
      "text/plain": [
       "<Figure size 432x288 with 1 Axes>"
      ]
     },
     "metadata": {
      "needs_background": "light"
     },
     "output_type": "display_data"
    }
   ],
   "source": [
    "sns.boxplot(x='ttl_ar',y='fr_yn',data = df_cir.drop(c,axis=0))"
   ]
  },
  {
   "cell_type": "code",
   "execution_count": 18,
   "metadata": {},
   "outputs": [
    {
     "data": {
      "text/plain": [
       "<matplotlib.axes._subplots.AxesSubplot at 0x1c6afe0c6a0>"
      ]
     },
     "execution_count": 18,
     "metadata": {},
     "output_type": "execute_result"
    },
    {
     "data": {
      "image/png": "[encoded data removed]",
      "text/plain": [
       "<Figure size 432x288 with 1 Axes>"
      ]
     },
     "metadata": {
      "needs_background": "light"
     },
     "output_type": "display_data"
    }
   ],
   "source": [
    "sns.boxplot(x='lnd_ar',y='fr_yn',data = df_cir.drop(d,axis=0))"
   ]
  },
  {
   "cell_type": "code",
   "execution_count": 51,
   "metadata": {},
   "outputs": [
    {
     "data": {
      "text/plain": [
       "dict_keys(['explained_variance', 'r2', 'max_error', 'neg_median_absolute_error', 'neg_mean_absolute_error', 'neg_mean_squared_error', 'neg_mean_squared_log_error', 'accuracy', 'roc_auc', 'balanced_accuracy', 'average_precision', 'neg_log_loss', 'brier_score_loss', 'adjusted_rand_score', 'homogeneity_score', 'completeness_score', 'v_measure_score', 'mutual_info_score', 'adjusted_mutual_info_score', 'normalized_mutual_info_score', 'fowlkes_mallows_score', 'precision', 'precision_macro', 'precision_micro', 'precision_samples', 'precision_weighted', 'recall', 'recall_macro', 'recall_micro', 'recall_samples', 'recall_weighted', 'f1', 'f1_macro', 'f1_micro', 'f1_samples', 'f1_weighted', 'jaccard', 'jaccard_macro', 'jaccard_micro', 'jaccard_samples', 'jaccard_weighted'])"
      ]
     },
     "execution_count": 51,
     "metadata": {},
     "output_type": "execute_result"
    }
   ],
   "source": [
    "SCORERS.keys()"
   ]
  },
  {
   "cell_type": "code",
   "execution_count": 126,
   "metadata": {},
   "outputs": [
    {
     "name": "stdout",
     "output_type": "stream",
     "text": [
      "gas_engry_us_201401\n",
      "(286,)\n",
      "gas_engry_us_201402\n",
      "(281,)\n",
      "gas_engry_us_201403\n",
      "(261,)\n",
      "gas_engry_us_201404\n",
      "(243,)\n",
      "gas_engry_us_201405\n",
      "(204,)\n",
      "gas_engry_us_201406\n",
      "(142,)\n",
      "gas_engry_us_201407\n",
      "(53,)\n",
      "gas_engry_us_201408\n",
      "(102,)\n",
      "gas_engry_us_201409\n",
      "(216,)\n",
      "gas_engry_us_201410\n",
      "(291,)\n",
      "gas_engry_us_201411\n",
      "(370,)\n",
      "gas_engry_us_201412\n",
      "(464,)\n",
      "gas_engry_us_201501\n",
      "(508,)\n",
      "gas_engry_us_201502\n",
      "(562,)\n",
      "gas_engry_us_201503\n",
      "(595,)\n",
      "gas_engry_us_201504\n",
      "(627,)\n",
      "gas_engry_us_201505\n",
      "(654,)\n",
      "gas_engry_us_201506\n",
      "(684,)\n",
      "gas_engry_us_201507\n",
      "(698,)\n",
      "gas_engry_us_201508\n",
      "(727,)\n",
      "gas_engry_us_201509\n",
      "(765,)\n",
      "gas_engry_us_201510\n",
      "(785,)\n",
      "gas_engry_us_201511\n",
      "(827,)\n",
      "gas_engry_us_201512\n",
      "(862,)\n",
      "gas_engry_us_201601\n",
      "(868,)\n",
      "gas_engry_us_201602\n",
      "(871,)\n",
      "gas_engry_us_201603\n",
      "(879,)\n",
      "gas_engry_us_201604\n",
      "(868,)\n",
      "gas_engry_us_201605\n",
      "(856,)\n",
      "gas_engry_us_201606\n",
      "(846,)\n",
      "gas_engry_us_201607\n",
      "(1335,)\n",
      "gas_engry_us_201608\n",
      "(1344,)\n",
      "gas_engry_us_201609\n",
      "(1330,)\n",
      "gas_engry_us_201610\n",
      "(1370,)\n",
      "gas_engry_us_201611\n",
      "(1378,)\n",
      "gas_engry_us_201612\n",
      "(1393,)\n",
      "gas_engry_us_201701\n",
      "(1179,)\n",
      "gas_engry_us_201702\n",
      "(1394,)\n",
      "gas_engry_us_201703\n",
      "(876,)\n",
      "gas_engry_us_201704\n",
      "(874,)\n",
      "gas_engry_us_201705\n",
      "(869,)\n",
      "gas_engry_us_201706\n",
      "(864,)\n",
      "gas_engry_us_201707\n",
      "(860,)\n",
      "gas_engry_us_201708\n",
      "(850,)\n",
      "gas_engry_us_201709\n",
      "(849,)\n",
      "gas_engry_us_201710\n",
      "(862,)\n",
      "gas_engry_us_201711\n",
      "(859,)\n",
      "gas_engry_us_201712\n",
      "(866,)\n",
      "gas_engry_us_201801\n",
      "(865,)\n",
      "gas_engry_us_201802\n",
      "(829,)\n",
      "gas_engry_us_201803\n",
      "(825,)\n",
      "gas_engry_us_201804\n",
      "(901,)\n",
      "gas_engry_us_201805\n",
      "(909,)\n",
      "gas_engry_us_201806\n",
      "(904,)\n",
      "gas_engry_us_201807\n",
      "(893,)\n",
      "gas_engry_us_201808\n",
      "(933,)\n",
      "gas_engry_us_201809\n",
      "(935,)\n",
      "gas_engry_us_201810\n",
      "(941,)\n",
      "gas_engry_us_201811\n",
      "(945,)\n",
      "gas_engry_us_201812\n",
      "(953,)\n"
     ]
    },
    {
     "data": {
      "text/plain": [
       "gas_engry_us_201401      142.0\n",
       "gas_engry_us_201402       36.0\n",
       "gas_engry_us_201403      144.0\n",
       "gas_engry_us_201404       96.0\n",
       "gas_engry_us_201405       60.0\n",
       "gas_engry_us_201406      192.0\n",
       "gas_engry_us_201407      612.0\n",
       "gas_engry_us_201408      228.0\n",
       "gas_engry_us_201409      180.0\n",
       "gas_engry_us_201410      144.0\n",
       "gas_engry_us_201411      132.0\n",
       "gas_engry_us_201412       36.0\n",
       "gas_engry_us_201501      204.0\n",
       "gas_engry_us_201502      132.0\n",
       "gas_engry_us_201503       84.0\n",
       "gas_engry_us_201504       84.0\n",
       "gas_engry_us_201505       60.0\n",
       "gas_engry_us_201506       48.0\n",
       "gas_engry_us_201507   -11100.0\n",
       "gas_engry_us_201508       48.0\n",
       "gas_engry_us_201509       24.0\n",
       "gas_engry_us_201510       36.0\n",
       "gas_engry_us_201511       12.0\n",
       "gas_engry_us_201512       12.0\n",
       "gas_engry_us_201601       12.0\n",
       "gas_engry_us_201602       35.0\n",
       "gas_engry_us_201603       36.0\n",
       "gas_engry_us_201604       47.0\n",
       "gas_engry_us_201605       35.0\n",
       "gas_engry_us_201606       24.0\n",
       "gas_engry_us_201607       12.0\n",
       "gas_engry_us_201608       12.0\n",
       "gas_engry_us_201609       12.0\n",
       "gas_engry_us_201610       12.0\n",
       "gas_engry_us_201611       12.0\n",
       "gas_engry_us_201612       12.0\n",
       "gas_engry_us_201701       12.0\n",
       "gas_engry_us_201702       12.0\n",
       "gas_engry_us_201703       47.0\n",
       "gas_engry_us_201704       47.0\n",
       "gas_engry_us_201705       71.0\n",
       "gas_engry_us_201706       47.0\n",
       "gas_engry_us_201707       59.0\n",
       "gas_engry_us_201708       42.0\n",
       "gas_engry_us_201709       84.0\n",
       "gas_engry_us_201710       12.0\n",
       "gas_engry_us_201711      360.0\n",
       "gas_engry_us_201712      281.0\n",
       "gas_engry_us_201801      105.0\n",
       "gas_engry_us_201802       94.0\n",
       "gas_engry_us_201803      142.0\n",
       "gas_engry_us_201804      180.0\n",
       "gas_engry_us_201805       70.0\n",
       "gas_engry_us_201806       93.0\n",
       "gas_engry_us_201807       59.0\n",
       "gas_engry_us_201808       35.0\n",
       "gas_engry_us_201809      211.0\n",
       "gas_engry_us_201810       23.0\n",
       "gas_engry_us_201811      117.0\n",
       "gas_engry_us_201812      105.0\n",
       "dtype: float64"
      ]
     },
     "execution_count": 126,
     "metadata": {},
     "output_type": "execute_result"
    }
   ],
   "source": [
    "df = pd.read_csv(\"PJT002_train.csv\")\n",
    "df_ = df.iloc[:,17:137:2]\n",
    "df_ = df_.replace([0],np.nan)\n",
    "#df_dropna(inplace=True)\n",
    "for i in  df_.columns:\n",
    "    x=df_[i].dropna()\n",
    "    print(i)\n",
    "    print(x.shape)\n",
    "df_.min()"
   ]
  },
  {
   "cell_type": "code",
   "execution_count": 123,
   "metadata": {
    "collapsed": true
   },
   "outputs": [
    {
     "name": "stdout",
     "output_type": "stream",
     "text": [
      "ele_engry_us_201401\n",
      "(429,)\n",
      "ele_engry_us_201402\n",
      "(417,)\n",
      "ele_engry_us_201403\n",
      "(412,)\n",
      "ele_engry_us_201404\n",
      "(390,)\n",
      "ele_engry_us_201405\n",
      "(404,)\n",
      "ele_engry_us_201406\n",
      "(405,)\n",
      "ele_engry_us_201407\n",
      "(412,)\n",
      "ele_engry_us_201408\n",
      "(554,)\n",
      "ele_engry_us_201409\n",
      "(632,)\n",
      "ele_engry_us_201410\n",
      "(790,)\n",
      "ele_engry_us_201411\n",
      "(740,)\n",
      "ele_engry_us_201412\n",
      "(797,)\n",
      "ele_engry_us_201501\n",
      "(833,)\n",
      "ele_engry_us_201502\n",
      "(894,)\n",
      "ele_engry_us_201503\n",
      "(917,)\n",
      "ele_engry_us_201504\n",
      "(931,)\n",
      "ele_engry_us_201505\n",
      "(991,)\n",
      "ele_engry_us_201506\n",
      "(1020,)\n",
      "ele_engry_us_201507\n",
      "(1077,)\n",
      "ele_engry_us_201508\n",
      "(1149,)\n",
      "ele_engry_us_201509\n",
      "(1160,)\n",
      "ele_engry_us_201510\n",
      "(1276,)\n",
      "ele_engry_us_201511\n",
      "(1314,)\n",
      "ele_engry_us_201512\n",
      "(1322,)\n",
      "ele_engry_us_201601\n",
      "(1319,)\n",
      "ele_engry_us_201602\n",
      "(1303,)\n",
      "ele_engry_us_201603\n",
      "(1301,)\n",
      "ele_engry_us_201604\n",
      "(1289,)\n",
      "ele_engry_us_201605\n",
      "(1275,)\n",
      "ele_engry_us_201606\n",
      "(1271,)\n",
      "ele_engry_us_201607\n",
      "(6943,)\n",
      "ele_engry_us_201608\n",
      "(6983,)\n",
      "ele_engry_us_201609\n",
      "(7009,)\n",
      "ele_engry_us_201610\n",
      "(7009,)\n",
      "ele_engry_us_201611\n",
      "(7032,)\n",
      "ele_engry_us_201612\n",
      "(7016,)\n",
      "ele_engry_us_201701\n",
      "(6993,)\n",
      "ele_engry_us_201702\n",
      "(6968,)\n",
      "ele_engry_us_201703\n",
      "(5845,)\n",
      "ele_engry_us_201704\n",
      "(5836,)\n",
      "ele_engry_us_201705\n",
      "(5809,)\n",
      "ele_engry_us_201706\n",
      "(5789,)\n",
      "ele_engry_us_201707\n",
      "(6078,)\n",
      "ele_engry_us_201708\n",
      "(6008,)\n",
      "ele_engry_us_201709\n",
      "(6025,)\n",
      "ele_engry_us_201710\n",
      "(6123,)\n",
      "ele_engry_us_201711\n",
      "(6168,)\n",
      "ele_engry_us_201712\n",
      "(6228,)\n",
      "ele_engry_us_201801\n",
      "(6174,)\n",
      "ele_engry_us_201802\n",
      "(6158,)\n",
      "ele_engry_us_201803\n",
      "(6154,)\n",
      "ele_engry_us_201804\n",
      "(6138,)\n",
      "ele_engry_us_201805\n",
      "(6114,)\n",
      "ele_engry_us_201806\n",
      "(6109,)\n",
      "ele_engry_us_201807\n",
      "(6098,)\n",
      "ele_engry_us_201808\n",
      "(6153,)\n",
      "ele_engry_us_201809\n",
      "(6142,)\n",
      "ele_engry_us_201810\n",
      "(6125,)\n",
      "ele_engry_us_201811\n",
      "(6144,)\n",
      "ele_engry_us_201812\n",
      "(6169,)\n"
     ]
    },
    {
     "data": {
      "text/plain": [
       "ele_engry_us_201401     2.0\n",
       "ele_engry_us_201402    39.0\n",
       "ele_engry_us_201403    13.0\n",
       "ele_engry_us_201404    13.0\n",
       "ele_engry_us_201405    13.0\n",
       "ele_engry_us_201406    16.0\n",
       "ele_engry_us_201407    24.0\n",
       "ele_engry_us_201408    16.0\n",
       "ele_engry_us_201409    13.0\n",
       "ele_engry_us_201410     2.0\n",
       "ele_engry_us_201411    10.0\n",
       "ele_engry_us_201412     8.0\n",
       "ele_engry_us_201501    10.0\n",
       "ele_engry_us_201502    14.0\n",
       "ele_engry_us_201503    14.0\n",
       "ele_engry_us_201504    12.0\n",
       "ele_engry_us_201505     9.0\n",
       "ele_engry_us_201506     8.0\n",
       "ele_engry_us_201507     3.0\n",
       "ele_engry_us_201508     2.0\n",
       "ele_engry_us_201509     2.0\n",
       "ele_engry_us_201510     1.0\n",
       "ele_engry_us_201511     1.0\n",
       "ele_engry_us_201512     1.0\n",
       "ele_engry_us_201601     1.0\n",
       "ele_engry_us_201602     1.0\n",
       "ele_engry_us_201603     1.0\n",
       "ele_engry_us_201604     1.0\n",
       "ele_engry_us_201605     1.0\n",
       "ele_engry_us_201606     1.0\n",
       "ele_engry_us_201607     1.0\n",
       "ele_engry_us_201608     1.0\n",
       "ele_engry_us_201609     1.0\n",
       "ele_engry_us_201610     1.0\n",
       "ele_engry_us_201611     1.0\n",
       "ele_engry_us_201612     1.0\n",
       "ele_engry_us_201701     1.0\n",
       "ele_engry_us_201702     1.0\n",
       "ele_engry_us_201703     1.0\n",
       "ele_engry_us_201704     1.0\n",
       "ele_engry_us_201705     1.0\n",
       "ele_engry_us_201706     1.0\n",
       "ele_engry_us_201707     1.0\n",
       "ele_engry_us_201708     1.0\n",
       "ele_engry_us_201709     1.0\n",
       "ele_engry_us_201710     1.0\n",
       "ele_engry_us_201711     1.0\n",
       "ele_engry_us_201712     1.0\n",
       "ele_engry_us_201801     1.0\n",
       "ele_engry_us_201802     1.0\n",
       "ele_engry_us_201803     1.0\n",
       "ele_engry_us_201804     1.0\n",
       "ele_engry_us_201805     1.0\n",
       "ele_engry_us_201806     1.0\n",
       "ele_engry_us_201807     1.0\n",
       "ele_engry_us_201808     1.0\n",
       "ele_engry_us_201809     1.0\n",
       "ele_engry_us_201810     1.0\n",
       "ele_engry_us_201811     1.0\n",
       "ele_engry_us_201812     1.0\n",
       "dtype: float64"
      ]
     },
     "execution_count": 123,
     "metadata": {},
     "output_type": "execute_result"
    }
   ],
   "source": [
    "df = pd.read_csv(\"PJT002_train.csv\")\n",
    "df_ = df.iloc[:,18:137:2]\n",
    "df_ = df_.replace([0],np.nan)\n",
    "#df_dropna(inplace=True)\n",
    "for i in  df_.columns:\n",
    "    x=df_[i].dropna()\n",
    "    print(i)\n",
    "    print(x.shape)\n",
    "df_.min()"
   ]
  },
  {
   "cell_type": "code",
   "execution_count": 67,
   "metadata": {},
   "outputs": [
    {
     "data": {
      "text/html": [
       "<div>\n",
       "<style scoped>\n",
       "    .dataframe tbody tr th:only-of-type {\n",
       "        vertical-align: middle;\n",
       "    }\n",
       "\n",
       "    .dataframe tbody tr th {\n",
       "        vertical-align: top;\n",
       "    }\n",
       "\n",
       "    .dataframe thead th {\n",
       "        text-align: right;\n",
       "    }\n",
       "</style>\n",
       "<table border=\"1\" class=\"dataframe\">\n",
       "  <thead>\n",
       "    <tr style=\"text-align: right;\">\n",
       "      <th></th>\n",
       "      <th>dt_of_fr</th>\n",
       "      <th>fr_yn</th>\n",
       "      <th>bldng_us</th>\n",
       "      <th>bldng_archtctr</th>\n",
       "      <th>bldng_cnt</th>\n",
       "      <th>bldng_ar</th>\n",
       "      <th>ttl_ar</th>\n",
       "      <th>lnd_ar</th>\n",
       "      <th>dt_of_athrztn</th>\n",
       "      <th>ttl_grnd_flr</th>\n",
       "      <th>...</th>\n",
       "      <th>no_tbc_zn_dstnc</th>\n",
       "      <th>bldng_cnt_in_50m</th>\n",
       "      <th>trgt_crtr</th>\n",
       "      <th>fr_fghtng_fclt_spcl_css_5_yn</th>\n",
       "      <th>fr_fghtng_fclt_spcl_css_6_yn</th>\n",
       "      <th>us_yn</th>\n",
       "      <th>dngrs_thng_yn</th>\n",
       "      <th>slf_fr_brgd_yn</th>\n",
       "      <th>blk_dngrs_thng_mnfctr_yn</th>\n",
       "      <th>cltrl_hrtg_yn</th>\n",
       "    </tr>\n",
       "  </thead>\n",
       "  <tbody>\n",
       "    <tr>\n",
       "      <th>0</th>\n",
       "      <td>2017-10-20 05:54:00</td>\n",
       "      <td>Y</td>\n",
       "      <td>단독주택</td>\n",
       "      <td>블록구조</td>\n",
       "      <td>3</td>\n",
       "      <td>69.42</td>\n",
       "      <td>69.42</td>\n",
       "      <td>0.0</td>\n",
       "      <td>1977</td>\n",
       "      <td>1.0</td>\n",
       "      <td>...</td>\n",
       "      <td>88</td>\n",
       "      <td>0</td>\n",
       "      <td>NaN</td>\n",
       "      <td>NaN</td>\n",
       "      <td>NaN</td>\n",
       "      <td>NaN</td>\n",
       "      <td>NaN</td>\n",
       "      <td>NaN</td>\n",
       "      <td>NaN</td>\n",
       "      <td>NaN</td>\n",
       "    </tr>\n",
       "    <tr>\n",
       "      <th>1</th>\n",
       "      <td>2018-09-30 08:26:15</td>\n",
       "      <td>N</td>\n",
       "      <td>NaN</td>\n",
       "      <td>NaN</td>\n",
       "      <td>3</td>\n",
       "      <td>46.29</td>\n",
       "      <td>46.29</td>\n",
       "      <td>0.0</td>\n",
       "      <td>NaN</td>\n",
       "      <td>1.0</td>\n",
       "      <td>...</td>\n",
       "      <td>7727</td>\n",
       "      <td>0</td>\n",
       "      <td>NaN</td>\n",
       "      <td>NaN</td>\n",
       "      <td>NaN</td>\n",
       "      <td>NaN</td>\n",
       "      <td>NaN</td>\n",
       "      <td>NaN</td>\n",
       "      <td>NaN</td>\n",
       "      <td>NaN</td>\n",
       "    </tr>\n",
       "    <tr>\n",
       "      <th>2</th>\n",
       "      <td>2016-10-30 14:57:00</td>\n",
       "      <td>Y</td>\n",
       "      <td>공동주택</td>\n",
       "      <td>철근콘크리트구조</td>\n",
       "      <td>1</td>\n",
       "      <td>583.80</td>\n",
       "      <td>2516.76</td>\n",
       "      <td>1446.0</td>\n",
       "      <td>2.00011e+07</td>\n",
       "      <td>5.0</td>\n",
       "      <td>...</td>\n",
       "      <td>72</td>\n",
       "      <td>14</td>\n",
       "      <td>NaN</td>\n",
       "      <td>NaN</td>\n",
       "      <td>NaN</td>\n",
       "      <td>NaN</td>\n",
       "      <td>NaN</td>\n",
       "      <td>NaN</td>\n",
       "      <td>NaN</td>\n",
       "      <td>NaN</td>\n",
       "    </tr>\n",
       "    <tr>\n",
       "      <th>3</th>\n",
       "      <td>2016-06-14 05:23:58</td>\n",
       "      <td>N</td>\n",
       "      <td>단독주택</td>\n",
       "      <td>일반목구조</td>\n",
       "      <td>2</td>\n",
       "      <td>48.92</td>\n",
       "      <td>48.92</td>\n",
       "      <td>0.0</td>\n",
       "      <td>1936</td>\n",
       "      <td>1.0</td>\n",
       "      <td>...</td>\n",
       "      <td>508</td>\n",
       "      <td>11</td>\n",
       "      <td>NaN</td>\n",
       "      <td>NaN</td>\n",
       "      <td>NaN</td>\n",
       "      <td>NaN</td>\n",
       "      <td>NaN</td>\n",
       "      <td>NaN</td>\n",
       "      <td>NaN</td>\n",
       "      <td>NaN</td>\n",
       "    </tr>\n",
       "    <tr>\n",
       "      <th>4</th>\n",
       "      <td>2018-04-22 05:38:59</td>\n",
       "      <td>N</td>\n",
       "      <td>NaN</td>\n",
       "      <td>NaN</td>\n",
       "      <td>2</td>\n",
       "      <td>0.00</td>\n",
       "      <td>0.00</td>\n",
       "      <td>0.0</td>\n",
       "      <td>NaN</td>\n",
       "      <td>NaN</td>\n",
       "      <td>...</td>\n",
       "      <td>707</td>\n",
       "      <td>0</td>\n",
       "      <td>NaN</td>\n",
       "      <td>NaN</td>\n",
       "      <td>NaN</td>\n",
       "      <td>NaN</td>\n",
       "      <td>NaN</td>\n",
       "      <td>NaN</td>\n",
       "      <td>NaN</td>\n",
       "      <td>NaN</td>\n",
       "    </tr>\n",
       "  </tbody>\n",
       "</table>\n",
       "<p>5 rows × 180 columns</p>\n",
       "</div>"
      ],
      "text/plain": [
       "              dt_of_fr fr_yn bldng_us bldng_archtctr  bldng_cnt  bldng_ar  \\\n",
       "0  2017-10-20 05:54:00     Y     단독주택           블록구조          3     69.42   \n",
       "1  2018-09-30 08:26:15     N      NaN            NaN          3     46.29   \n",
       "2  2016-10-30 14:57:00     Y     공동주택       철근콘크리트구조          1    583.80   \n",
       "3  2016-06-14 05:23:58     N     단독주택          일반목구조          2     48.92   \n",
       "4  2018-04-22 05:38:59     N      NaN            NaN          2      0.00   \n",
       "\n",
       "    ttl_ar  lnd_ar dt_of_athrztn  ttl_grnd_flr  ...  no_tbc_zn_dstnc  \\\n",
       "0    69.42     0.0          1977           1.0  ...               88   \n",
       "1    46.29     0.0           NaN           1.0  ...             7727   \n",
       "2  2516.76  1446.0   2.00011e+07           5.0  ...               72   \n",
       "3    48.92     0.0          1936           1.0  ...              508   \n",
       "4     0.00     0.0           NaN           NaN  ...              707   \n",
       "\n",
       "  bldng_cnt_in_50m  trgt_crtr  fr_fghtng_fclt_spcl_css_5_yn  \\\n",
       "0                0        NaN                           NaN   \n",
       "1                0        NaN                           NaN   \n",
       "2               14        NaN                           NaN   \n",
       "3               11        NaN                           NaN   \n",
       "4                0        NaN                           NaN   \n",
       "\n",
       "   fr_fghtng_fclt_spcl_css_6_yn  us_yn  dngrs_thng_yn  slf_fr_brgd_yn  \\\n",
       "0                           NaN    NaN            NaN             NaN   \n",
       "1                           NaN    NaN            NaN             NaN   \n",
       "2                           NaN    NaN            NaN             NaN   \n",
       "3                           NaN    NaN            NaN             NaN   \n",
       "4                           NaN    NaN            NaN             NaN   \n",
       "\n",
       "   blk_dngrs_thng_mnfctr_yn  cltrl_hrtg_yn  \n",
       "0                       NaN            NaN  \n",
       "1                       NaN            NaN  \n",
       "2                       NaN            NaN  \n",
       "3                       NaN            NaN  \n",
       "4                       NaN            NaN  \n",
       "\n",
       "[5 rows x 180 columns]"
      ]
     },
     "execution_count": 67,
     "metadata": {},
     "output_type": "execute_result"
    }
   ],
   "source": [
    "df = pd.read_csv(\"PJT002_train.csv\")\n",
    "#df_vali = pd.read_csv('PJT002_validation.csv')\n",
    "\n",
    "#df_elec = df_prepro(df,True)\n",
    "#df_elec_vali = df_prepro_vali(df_vali,True)\n",
    "\n",
    "#a=df_k.loc[:,['ele_engry_us_201807','bldng_cnt','bldng_ar','ttl_ar']]\n",
    "#b=df_k.loc[:,['ele_engry_us_201807','bldng_cnt']]\n",
    "#c=df_k.loc[:,['ele_engry_us_201807','bldng_ar']]\n",
    "#d=df_k.loc[:,['ele_engry_us_201807','ttl_ar']]\n",
    "#c=pd.DataFrame(np.dot(c.values,transformation),columns=['ele_engry_us_201807','bldng_ar'])\n",
    "#d=pd.DataFrame(np.dot(c.values,transformation),columns=['ele_engry_us_201807','ttl_ar'])\n",
    "#df_list,X_list,Y_list = make_df(df_elec)\n",
    "#df_elec.columns\n",
    "df.head()"
   ]
  },
  {
   "cell_type": "code",
   "execution_count": 11,
   "metadata": {
    "collapsed": true
   },
   "outputs": [
    {
     "data": {
      "text/plain": [
       "[955      3.959661\n",
       " 987      4.318585\n",
       " 1174     3.705094\n",
       " 1178     3.583992\n",
       " 1474     3.933943\n",
       "            ...   \n",
       " 47517    4.348908\n",
       " 47617    4.576675\n",
       " 48473    3.508260\n",
       " 48498    3.603036\n",
       " 48499    3.052694\n",
       " Name: gas_engry_us_201401, Length: 139, dtype: float64, 955      4.069964\n",
       " 987      4.095030\n",
       " 1174     3.803525\n",
       " 1178     3.453777\n",
       " 1474     3.911264\n",
       "            ...   \n",
       " 47517    4.516654\n",
       " 47617    4.543310\n",
       " 48473    3.508260\n",
       " 48498    3.879268\n",
       " 48499    3.228657\n",
       " Name: gas_engry_us_201402, Length: 139, dtype: float64, 955      3.906281\n",
       " 987      4.093702\n",
       " 1174     3.709694\n",
       " 1178     3.263636\n",
       " 1474     3.653598\n",
       "            ...   \n",
       " 47517    4.521988\n",
       " 47617    4.311436\n",
       " 48473    3.407731\n",
       " 48498    3.958898\n",
       " 48499    4.088774\n",
       " Name: gas_engry_us_201403, Length: 122, dtype: float64, 955      3.533772\n",
       " 987      3.942504\n",
       " 1174     3.628900\n",
       " 1178     3.260310\n",
       " 1539     4.384622\n",
       "            ...   \n",
       " 47024    3.629512\n",
       " 47517    4.611224\n",
       " 47617    4.310290\n",
       " 48473    3.026533\n",
       " 48499    3.216430\n",
       " Name: gas_engry_us_201404, Length: 114, dtype: float64, 955      3.719083\n",
       " 987      3.431203\n",
       " 1174     3.395326\n",
       " 1557     3.734320\n",
       " 1565     3.780749\n",
       "            ...   \n",
       " 45032    3.900094\n",
       " 47024    3.930491\n",
       " 47617    4.099784\n",
       " 48473    3.106871\n",
       " 48499    3.052694\n",
       " Name: gas_engry_us_201405, Length: 89, dtype: float64, 987      3.308351\n",
       " 1174     3.249687\n",
       " 1565     3.255996\n",
       " 1571     3.783975\n",
       " 1883     3.879039\n",
       " 2198     3.743902\n",
       " 6009     4.571907\n",
       " 6132     3.582063\n",
       " 6271     3.690019\n",
       " 6495     3.498999\n",
       " 6502     3.152594\n",
       " 6528     2.786751\n",
       " 6589     3.334253\n",
       " 6601     2.311754\n",
       " 6768     3.726646\n",
       " 6881     4.352125\n",
       " 6897     3.174641\n",
       " 6901     2.960471\n",
       " 11330    3.049993\n",
       " 11750    3.678700\n",
       " 11784    3.665112\n",
       " 11820    4.479071\n",
       " 11832    3.814114\n",
       " 11865    3.302547\n",
       " 11882    3.814114\n",
       " 12124    4.265549\n",
       " 12173    3.666050\n",
       " 17334    3.027757\n",
       " 17423    4.051114\n",
       " 17515    3.248219\n",
       " 17692    3.280806\n",
       " 17695    3.820924\n",
       " 18070    4.384013\n",
       " 18086    3.851931\n",
       " 22405    2.965672\n",
       " 22532    2.285557\n",
       " 27276    3.087426\n",
       " 27286    2.628389\n",
       " 27757    2.460898\n",
       " 32945    3.407731\n",
       " 32957    3.390582\n",
       " 36385    3.300161\n",
       " 37788    3.684037\n",
       " 38414    3.767379\n",
       " 38556    3.767379\n",
       " 38733    3.318272\n",
       " 38994    3.607562\n",
       " 39044    3.304275\n",
       " 39128    3.951677\n",
       " 39149    3.583765\n",
       " 42164    3.290257\n",
       " 45032    3.206556\n",
       " 47024    3.629512\n",
       " 47617    3.930185\n",
       " 48473    2.927883\n",
       " Name: gas_engry_us_201406, dtype: float64, 6009     4.418019\n",
       " 6881     4.186193\n",
       " 6901     3.431203\n",
       " 6989     2.857935\n",
       " 8155     3.426674\n",
       " 11820    4.370791\n",
       " 12124    4.256501\n",
       " 12987    3.506640\n",
       " 13440    4.865317\n",
       " 13526    3.506640\n",
       " 18070    4.251663\n",
       " 18086    3.552790\n",
       " 18842    2.857935\n",
       " 23542    3.293584\n",
       " 24060    4.114644\n",
       " 31776    3.293584\n",
       " 36385    3.304706\n",
       " 37107    4.016866\n",
       " 38556    3.609274\n",
       " 40599    3.941809\n",
       " 40669    3.205746\n",
       " 47024    3.853759\n",
       " Name: gas_engry_us_201407, dtype: float64, 6009     4.369383\n",
       " 6132     2.659916\n",
       " 6588     2.828015\n",
       " 6881     3.996468\n",
       " 6901     3.252125\n",
       " 6989     3.205746\n",
       " 8129     3.331630\n",
       " 8155     3.331630\n",
       " 8177     3.221936\n",
       " 11245    2.359835\n",
       " 11331    2.703291\n",
       " 11820    4.210238\n",
       " 12124    4.266443\n",
       " 12987    3.158664\n",
       " 13440    4.752325\n",
       " 13526    3.158664\n",
       " 14429    2.924796\n",
       " 17695    2.382017\n",
       " 18070    4.144605\n",
       " 18086    3.594503\n",
       " 18347    2.828015\n",
       " 18842    2.733197\n",
       " 18886    3.398981\n",
       " 20584    2.924796\n",
       " 23542    3.095518\n",
       " 24060    3.934296\n",
       " 25844    2.971740\n",
       " 28374    2.703291\n",
       " 31776    3.293584\n",
       " 36385    3.355834\n",
       " 37107    3.334655\n",
       " 37110    4.502550\n",
       " 37152    3.304706\n",
       " 37159    5.449628\n",
       " 38415    2.828015\n",
       " 39325    2.885926\n",
       " 39799    3.656769\n",
       " 40599    4.000911\n",
       " 40669    2.733197\n",
       " 47024    3.334655\n",
       " 47208    4.152686\n",
       " Name: gas_engry_us_201408, dtype: float64, 987      2.835691\n",
       " 1539     4.278776\n",
       " 1571     2.835691\n",
       " 1733     3.721481\n",
       " 1885     2.982723\n",
       "            ...   \n",
       " 46540    3.758458\n",
       " 47024    3.857393\n",
       " 47208    3.421768\n",
       " 48321    4.009408\n",
       " 48404    3.621903\n",
       " Name: gas_engry_us_201409, Length: 84, dtype: float64, 955      3.212986\n",
       " 987      2.659916\n",
       " 1474     3.634880\n",
       " 1539     3.887336\n",
       " 1557     2.611723\n",
       "            ...   \n",
       " 48162    4.344255\n",
       " 48207    4.344255\n",
       " 48321    3.907089\n",
       " 48404    3.804208\n",
       " 48546    2.460898\n",
       " Name: gas_engry_us_201410, Length: 134, dtype: float64, 955      3.450711\n",
       " 987      3.816639\n",
       " 1256     4.712473\n",
       " 1301     4.050032\n",
       " 1454     3.371991\n",
       "            ...   \n",
       " 48207    4.777985\n",
       " 48321    4.046963\n",
       " 48404    4.133922\n",
       " 48499    4.126975\n",
       " 48546    2.998695\n",
       " Name: gas_engry_us_201411, Length: 179, dtype: float64, 499      4.257703\n",
       " 955      4.162953\n",
       " 987      4.222768\n",
       " 1178     2.527630\n",
       " 1256     5.159083\n",
       "            ...   \n",
       " 48472    3.283527\n",
       " 48473    2.812245\n",
       " 48474    4.274573\n",
       " 48499    4.580058\n",
       " 48546    3.269746\n",
       " Name: gas_engry_us_201412, Length: 243, dtype: float64, 499      4.403652\n",
       " 955      4.347076\n",
       " 987      4.354320\n",
       " 1169     3.970068\n",
       " 1178     4.027553\n",
       "            ...   \n",
       " 48473    3.174641\n",
       " 48474    4.703291\n",
       " 48498    2.850646\n",
       " 48499    3.443106\n",
       " 48546    3.269746\n",
       " Name: gas_engry_us_201501, Length: 269, dtype: float64, 499      4.523109\n",
       " 955      4.322137\n",
       " 987      4.228657\n",
       " 992      4.142421\n",
       " 1169     4.204934\n",
       "            ...   \n",
       " 48473    2.812245\n",
       " 48474    4.759245\n",
       " 48498    2.460898\n",
       " 48499    3.649919\n",
       " 48546    2.930949\n",
       " Name: gas_engry_us_201502, Length: 311, dtype: float64, 499      4.564086\n",
       " 955      4.315046\n",
       " 987      4.375682\n",
       " 992      4.253168\n",
       " 1090     2.962843\n",
       "            ...   \n",
       " 48472    4.108599\n",
       " 48473    2.636488\n",
       " 48474    4.891214\n",
       " 48499    4.316557\n",
       " 48546    3.057286\n",
       " Name: gas_engry_us_201503, Length: 338, dtype: float64, 499      4.232513\n",
       " 955      3.938920\n",
       " 987      4.217300\n",
       " 992      3.798029\n",
       " 1090     3.095866\n",
       "            ...   \n",
       " 48472    3.719414\n",
       " 48473    2.336460\n",
       " 48474    4.765296\n",
       " 48499    3.523486\n",
       " 48546    2.998695\n",
       " Name: gas_engry_us_201504, Length: 358, dtype: float64, 499      3.900422\n",
       " 889      3.418467\n",
       " 955      3.703291\n",
       " 967      2.619093\n",
       " 987      4.102262\n",
       "            ...   \n",
       " 48472    3.579898\n",
       " 48474    4.521164\n",
       " 48498    2.930949\n",
       " 48499    3.523486\n",
       " 48546    2.761176\n",
       " Name: gas_engry_us_201505, Length: 375, dtype: float64, 499      3.789651\n",
       " 889      3.222976\n",
       " 955      3.509337\n",
       " 967      2.372912\n",
       " 987      3.466423\n",
       "            ...   \n",
       " 48472    3.453471\n",
       " 48474    4.145569\n",
       " 48498    2.636488\n",
       " 48499    3.523486\n",
       " 48546    2.460898\n",
       " Name: gas_engry_us_201506, Length: 392, dtype: float64, 499      3.642563\n",
       " 889      2.919601\n",
       " 955      3.481012\n",
       " 967      1.785330\n",
       " 987      3.308351\n",
       "            ...   \n",
       " 48472    3.453471\n",
       " 48474    4.084683\n",
       " 48498    2.460898\n",
       " 48499    3.649919\n",
       " 48546    3.384712\n",
       " Name: gas_engry_us_201507, Length: 389, dtype: float64, 499      3.550351\n",
       " 889      2.816904\n",
       " 955      3.418135\n",
       " 987      2.951338\n",
       " 992      3.339451\n",
       "            ...   \n",
       " 48472    3.521269\n",
       " 48474    4.133858\n",
       " 48498    2.636488\n",
       " 48499    3.591287\n",
       " 48546    3.234770\n",
       " Name: gas_engry_us_201508, Length: 414, dtype: float64, 499      3.416807\n",
       " 889      2.889862\n",
       " 955      3.260071\n",
       " 987      3.434249\n",
       " 992      3.153815\n",
       "            ...   \n",
       " 48474    3.469233\n",
       " 48498    2.636488\n",
       " 48499    3.591287\n",
       " 48546    3.360404\n",
       " 48688    3.738701\n",
       " Name: gas_engry_us_201509, Length: 444, dtype: float64, 499      3.537945\n",
       " 889      3.344589\n",
       " 955      3.347915\n",
       " 962      2.857935\n",
       " 967      2.677607\n",
       "            ...   \n",
       " 48474    3.999261\n",
       " 48498    2.761176\n",
       " 48499    3.450403\n",
       " 48546    3.499275\n",
       " 48688    3.956313\n",
       " Name: gas_engry_us_201510, Length: 458, dtype: float64, 499      3.913867\n",
       " 889      3.580469\n",
       " 955      3.607133\n",
       " 962      2.557507\n",
       " 967      2.551450\n",
       "            ...   \n",
       " 48474    4.386802\n",
       " 48498    3.535674\n",
       " 48499    3.747722\n",
       " 48546    3.585799\n",
       " 48688    4.496251\n",
       " Name: gas_engry_us_201511, Length: 486, dtype: float64, 499      4.389361\n",
       " 889      3.690285\n",
       " 955      3.835817\n",
       " 962      3.149527\n",
       " 967      2.551450\n",
       "            ...   \n",
       " 48474    4.750485\n",
       " 48498    3.806790\n",
       " 48499    3.701568\n",
       " 48546    3.724685\n",
       " 48688    4.526275\n",
       " Name: gas_engry_us_201512, Length: 510, dtype: float64, 499      4.600657\n",
       " 889      3.876853\n",
       " 955      4.053962\n",
       " 967      3.733278\n",
       " 978      2.158362\n",
       "            ...   \n",
       " 48474    4.991603\n",
       " 48498    3.973543\n",
       " 48499    4.109882\n",
       " 48546    3.615845\n",
       " 48688    4.098332\n",
       " Name: gas_engry_us_201601, Length: 518, dtype: float64, 499      4.610032\n",
       " 889      3.721068\n",
       " 955      4.307838\n",
       " 962      2.857935\n",
       " 967      3.519303\n",
       "            ...   \n",
       " 48474    5.008298\n",
       " 48498    3.991448\n",
       " 48499    4.435542\n",
       " 48546    3.656769\n",
       " 48688    5.259116\n",
       " Name: gas_engry_us_201602, Length: 523, dtype: float64, 499      4.500662\n",
       " 889      3.680879\n",
       " 955      4.315404\n",
       " 962      3.450403\n",
       " 967      3.423410\n",
       "            ...   \n",
       " 48474    4.962951\n",
       " 48498    4.095832\n",
       " 48499    4.334876\n",
       " 48546    3.720738\n",
       " 48688    5.193653\n",
       " Name: gas_engry_us_201603, Length: 527, dtype: float64, 499      4.284002\n",
       " 889      3.505286\n",
       " 955      4.010809\n",
       " 962      2.557507\n",
       " 967      3.025715\n",
       "            ...   \n",
       " 48474    4.826625\n",
       " 48498    3.958325\n",
       " 48499    4.175918\n",
       " 48546    3.684576\n",
       " 48688    5.093936\n",
       " Name: gas_engry_us_201604, Length: 520, dtype: float64, 499      4.076313\n",
       " 889      3.316180\n",
       " 955      3.809156\n",
       " 962      3.021603\n",
       " 967      2.619093\n",
       "            ...   \n",
       " 48474    4.384031\n",
       " 48498    3.805976\n",
       " 48499    4.087107\n",
       " 48546    3.584444\n",
       " 48688    5.018755\n",
       " Name: gas_engry_us_201605, Length: 508, dtype: float64, 499      3.818951\n",
       " 889      2.851870\n",
       " 955      3.717671\n",
       " 962      3.021603\n",
       " 967      2.245513\n",
       "            ...   \n",
       " 48474    3.993833\n",
       " 48498    3.405688\n",
       " 48499    3.948609\n",
       " 48546    3.405688\n",
       " 48688    4.664961\n",
       " Name: gas_engry_us_201606, Length: 500, dtype: float64, 335      5.363501\n",
       " 955      3.778296\n",
       " 962      2.557507\n",
       " 987      2.951338\n",
       " 992      3.276232\n",
       "            ...   \n",
       " 48472    3.373096\n",
       " 48474    3.977129\n",
       " 48477    4.211147\n",
       " 48498    2.624282\n",
       " 48499    4.635423\n",
       " Name: gas_engry_us_201607, Length: 595, dtype: float64, 335      5.298309\n",
       " 955      3.683857\n",
       " 962      2.557507\n",
       " 987      2.359835\n",
       " 992      3.318272\n",
       "            ...   \n",
       " 48472    3.274389\n",
       " 48474    3.885870\n",
       " 48477    4.193152\n",
       " 48498    2.850646\n",
       " 48499    4.536622\n",
       " Name: gas_engry_us_201608, Length: 602, dtype: float64, 335      5.266775\n",
       " 955      3.382917\n",
       " 962      3.021603\n",
       " 987      2.359835\n",
       " 992      3.088136\n",
       "            ...   \n",
       " 48472    3.373096\n",
       " 48474    3.767898\n",
       " 48477    4.161997\n",
       " 48498    2.624282\n",
       " 48499    4.312600\n",
       " Name: gas_engry_us_201609, Length: 591, dtype: float64, 335      5.002430\n",
       " 955      3.643847\n",
       " 962      3.396374\n",
       " 987      2.823474\n",
       " 992      3.316599\n",
       "            ...   \n",
       " 48473    2.336460\n",
       " 48474    3.708931\n",
       " 48477    4.171756\n",
       " 48498    2.930949\n",
       " 48499    4.589089\n",
       " Name: gas_engry_us_201610, Length: 620, dtype: float64, 335      5.006556\n",
       " 955      3.203848\n",
       " 962      3.248219\n",
       " 980      4.935613\n",
       " 987      3.392873\n",
       "            ...   \n",
       " 48473    2.336460\n",
       " 48474    4.325803\n",
       " 48477    4.272329\n",
       " 48498    3.763203\n",
       " 48499    4.677288\n",
       " Name: gas_engry_us_201611, Length: 623, dtype: float64, 335      5.207987\n",
       " 955      4.415441\n",
       " 962      3.450403\n",
       " 980      4.919449\n",
       " 987      3.893706\n",
       "            ...   \n",
       " 48473    2.636488\n",
       " 48474    4.824614\n",
       " 48477    4.652063\n",
       " 48498    3.874424\n",
       " 48499    4.991000\n",
       " Name: gas_engry_us_201612, Length: 633, dtype: float64, 335      5.310780\n",
       " 955      4.483316\n",
       " 962      3.328583\n",
       " 980      4.988742\n",
       " 987      4.090364\n",
       "            ...   \n",
       " 48473    3.026533\n",
       " 48474    5.106473\n",
       " 48477    4.678527\n",
       " 48498    3.942554\n",
       " 48499    5.339926\n",
       " Name: gas_engry_us_201701, Length: 571, dtype: float64, 335      5.345180\n",
       " 955      4.480395\n",
       " 962      3.328583\n",
       " 980      5.109177\n",
       " 987      3.962748\n",
       "            ...   \n",
       " 48473    3.228657\n",
       " 48474    5.099142\n",
       " 48477    4.724120\n",
       " 48498    3.898122\n",
       " 48499    5.199473\n",
       " Name: gas_engry_us_201702, Length: 640, dtype: float64, 335      5.330943\n",
       " 962      3.149527\n",
       " 1103     4.528287\n",
       " 1170     4.639098\n",
       " 1184     5.018829\n",
       "            ...   \n",
       " 48454    3.587823\n",
       " 48469    4.352202\n",
       " 48472    4.731436\n",
       " 48477    4.660116\n",
       " 48499    5.220858\n",
       " Name: gas_engry_us_201703, Length: 282, dtype: float64, 335      5.338359\n",
       " 962      3.248219\n",
       " 1103     4.190640\n",
       " 1170     4.325331\n",
       " 1184     4.968768\n",
       "            ...   \n",
       " 48454    3.149527\n",
       " 48469    4.245784\n",
       " 48472    4.511094\n",
       " 48477    4.640293\n",
       " 48499    5.255299\n",
       " Name: gas_engry_us_201704, Length: 284, dtype: float64, 335      5.126070\n",
       " 962      3.248219\n",
       " 1103     3.450403\n",
       " 1170     3.928959\n",
       " 1184     4.658974\n",
       "            ...   \n",
       " 48454    2.857935\n",
       " 48469    4.230730\n",
       " 48472    4.178430\n",
       " 48477    4.128432\n",
       " 48499    4.976593\n",
       " Name: gas_engry_us_201705, Length: 283, dtype: float64, 335      5.162956\n",
       " 962      3.248219\n",
       " 1170     3.827434\n",
       " 1184     4.487011\n",
       " 1256     4.948447\n",
       "            ...   \n",
       " 48454    2.557507\n",
       " 48469    4.181300\n",
       " 48472    3.876276\n",
       " 48477    4.210345\n",
       " 48499    4.821631\n",
       " Name: gas_engry_us_201706, Length: 278, dtype: float64, 335      5.122449\n",
       " 962      3.149527\n",
       " 1170     3.725176\n",
       " 1184     4.399345\n",
       " 1256     4.919429\n",
       "            ...   \n",
       " 48454    2.557507\n",
       " 48469    4.127461\n",
       " 48472    3.789651\n",
       " 48477    4.220657\n",
       " 48499    4.702301\n",
       " Name: gas_engry_us_201707, Length: 276, dtype: float64, 335      5.900433\n",
       " 962      3.401573\n",
       " 1170     4.004794\n",
       " 1184     5.051041\n",
       " 1256     5.436064\n",
       "            ...   \n",
       " 48454    3.100715\n",
       " 48469    4.681522\n",
       " 48472    4.226368\n",
       " 48477    4.645629\n",
       " 48499    5.020991\n",
       " Name: gas_engry_us_201708, Length: 272, dtype: float64, 335      5.609382\n",
       " 962      3.799409\n",
       " 1170     4.055799\n",
       " 1184     4.180441\n",
       " 1256     5.410192\n",
       "            ...   \n",
       " 48451    4.589871\n",
       " 48469    4.692239\n",
       " 48472    4.226368\n",
       " 48477    4.645334\n",
       " 48499    4.939744\n",
       " Name: gas_engry_us_201709, Length: 272, dtype: float64, 335      3.445760\n",
       " 962      3.248219\n",
       " 1103     2.557507\n",
       " 1170     3.498448\n",
       " 1184     5.198935\n",
       "            ...   \n",
       " 48451    4.189125\n",
       " 48469    4.077041\n",
       " 48472    3.819610\n",
       " 48477    4.147398\n",
       " 48499    4.579521\n",
       " Name: gas_engry_us_201710, Length: 277, dtype: float64, 335      5.114914\n",
       " 962      3.248219\n",
       " 1170     3.993039\n",
       " 1184     5.012040\n",
       " 1256     4.896091\n",
       "            ...   \n",
       " 48469    4.245044\n",
       " 48472    3.926394\n",
       " 48477    4.169116\n",
       " 48499    4.731669\n",
       " 48544    3.606919\n",
       " Name: gas_engry_us_201711, Length: 277, dtype: float64, 335      5.148482\n",
       " 962      3.450403\n",
       " 1103     4.481027\n",
       " 1170     4.209542\n",
       " 1184     5.251349\n",
       "            ...   \n",
       " 48469    4.286703\n",
       " 48472    4.262000\n",
       " 48477    4.528673\n",
       " 48499    5.259811\n",
       " 48544    3.888797\n",
       " Name: gas_engry_us_201712, Length: 280, dtype: float64, 335      5.438971\n",
       " 962      3.450403\n",
       " 1103     4.995245\n",
       " 1170     4.807542\n",
       " 1184     5.537669\n",
       "            ...   \n",
       " 48469    4.617011\n",
       " 48472    4.848811\n",
       " 48477    4.726817\n",
       " 48499    5.466657\n",
       " 48544    3.150142\n",
       " Name: gas_engry_us_201801, Length: 282, dtype: float64, 335      5.242867\n",
       " 962      3.391112\n",
       " 1103     5.202709\n",
       " 1170     4.801822\n",
       " 1184     5.399745\n",
       "            ...   \n",
       " 48454    4.309651\n",
       " 48469    4.722889\n",
       " 48472    4.929220\n",
       " 48477    4.737201\n",
       " 48499    5.532197\n",
       " Name: gas_engry_us_201802, Length: 279, dtype: float64, 335      5.333731\n",
       " 962      3.248219\n",
       " 1103     5.091072\n",
       " 1170     4.740055\n",
       " 1184     5.427877\n",
       "            ...   \n",
       " 48454    3.391112\n",
       " 48469    4.541217\n",
       " 48472    4.687716\n",
       " 48477    4.770270\n",
       " 48499    5.449599\n",
       " Name: gas_engry_us_201803, Length: 275, dtype: float64, 335      5.260098\n",
       " 962      3.248219\n",
       " 1103     4.580252\n",
       " 1170     4.410119\n",
       " 1184     5.275774\n",
       "            ...   \n",
       " 48454    3.248219\n",
       " 48469    4.332054\n",
       " 48472    4.504076\n",
       " 48477    4.558481\n",
       " 48499    5.410563\n",
       " Name: gas_engry_us_201804, Length: 300, dtype: float64, 335      5.189605\n",
       " 962      3.149527\n",
       " 1103     3.885418\n",
       " 1170     4.048869\n",
       " 1184     4.992470\n",
       "            ...   \n",
       " 48454    2.839478\n",
       " 48469    4.259618\n",
       " 48472    4.237569\n",
       " 48477    4.407068\n",
       " 48499    4.795630\n",
       " Name: gas_engry_us_201805, Length: 299, dtype: float64, 335      5.119985\n",
       " 962      3.322426\n",
       " 1170     4.112639\n",
       " 1184     5.081783\n",
       " 1256     4.864428\n",
       "            ...   \n",
       " 48454    3.149527\n",
       " 48469    4.268835\n",
       " 48472    4.146159\n",
       " 48477    4.135164\n",
       " 48499    4.647539\n",
       " Name: gas_engry_us_201806, Length: 296, dtype: float64, 335      5.080919\n",
       " 962      3.391112\n",
       " 1103     3.248219\n",
       " 1170     3.925879\n",
       " 1184     5.088636\n",
       "            ...   \n",
       " 48454    2.557507\n",
       " 48469    4.218299\n",
       " 48472    3.973174\n",
       " 48477    4.125514\n",
       " 48499    4.374547\n",
       " Name: gas_engry_us_201807, Length: 294, dtype: float64, 335      5.177049\n",
       " 962      3.322426\n",
       " 1170     3.623353\n",
       " 1184     4.951634\n",
       " 1256     4.513164\n",
       "            ...   \n",
       " 48454    2.557507\n",
       " 48469    4.125514\n",
       " 48472    3.845160\n",
       " 48477    4.113643\n",
       " 48499    4.421077\n",
       " Name: gas_engry_us_201808, Length: 313, dtype: float64, 335      5.085116\n",
       " 962      3.322426\n",
       " 1167     2.924796\n",
       " 1170     3.240799\n",
       " 1184     5.025023\n",
       "            ...   \n",
       " 48451    3.703549\n",
       " 48469    4.168232\n",
       " 48472    3.623353\n",
       " 48477    4.007364\n",
       " 48499    4.393101\n",
       " Name: gas_engry_us_201809, Length: 310, dtype: float64, 335      5.058506\n",
       " 962      3.391112\n",
       " 1167     3.294246\n",
       " 1170     3.958612\n",
       " 1177     3.699491\n",
       "            ...   \n",
       " 48454    2.839478\n",
       " 48469    4.215928\n",
       " 48472    3.898780\n",
       " 48477    3.975478\n",
       " 48499    4.531849\n",
       " Name: gas_engry_us_201810, Length: 320, dtype: float64, 335      5.136851\n",
       " 962      3.322426\n",
       " 1103     2.557507\n",
       " 1170     3.887111\n",
       " 1177     3.699491\n",
       "            ...   \n",
       " 48454    2.839478\n",
       " 48469    4.268133\n",
       " 48472    4.160799\n",
       " 48477    4.284002\n",
       " 48499    4.920567\n",
       " Name: gas_engry_us_201811, Length: 320, dtype: float64, 335      5.217881\n",
       " 962      3.322426\n",
       " 1103     3.689398\n",
       " 1167     4.091210\n",
       " 1170     4.177854\n",
       "            ...   \n",
       " 48454    3.659060\n",
       " 48469    4.330231\n",
       " 48472    3.781109\n",
       " 48477    4.531747\n",
       " 48499    5.200246\n",
       " Name: gas_engry_us_201812, Length: 323, dtype: float64]"
      ]
     },
     "execution_count": 11,
     "metadata": {},
     "output_type": "execute_result"
    }
   ],
   "source": [
    "df = pd.read_csv(\"PJT002_train.csv\")\n",
    "df_gas = df_prepro_gas(df,True)\n",
    "#print(df_gas)\n",
    "X_list = [i.iloc[:,:-1] for i in df_gas]\n",
    "Y_list = [i.iloc[:,-1] for i in df_gas]\n",
    "#for i in X_list:\n",
    "   # print(i.isna().sum())\n",
    "#for i in Y_list:\n",
    "    #print(i.isna().sum())\n",
    "#print(df_gas[0].iloc[:,-1])"
   ]
  },
  {
   "cell_type": "code",
   "execution_count": 140,
   "metadata": {
    "collapsed": true
   },
   "outputs": [
    {
     "name": "stdout",
     "output_type": "stream",
     "text": [
      "Fitting 3 folds for each of 96 candidates, totalling 288 fits\n"
     ]
    },
    {
     "name": "stderr",
     "output_type": "stream",
     "text": [
      "[Parallel(n_jobs=10)]: Using backend LokyBackend with 10 concurrent workers.\n",
      "[Parallel(n_jobs=10)]: Done  30 tasks      | elapsed:    4.2s\n",
      "[Parallel(n_jobs=10)]: Done 288 out of 288 | elapsed:    8.1s finished\n",
      "[Parallel(n_jobs=10)]: Using backend LokyBackend with 10 concurrent workers.\n"
     ]
    },
    {
     "name": "stdout",
     "output_type": "stream",
     "text": [
      "Fitting 3 folds for each of 96 candidates, totalling 288 fits\n"
     ]
    },
    {
     "name": "stderr",
     "output_type": "stream",
     "text": [
      "[Parallel(n_jobs=10)]: Done 288 out of 288 | elapsed:    4.0s finished\n",
      "[Parallel(n_jobs=10)]: Using backend LokyBackend with 10 concurrent workers.\n"
     ]
    },
    {
     "name": "stdout",
     "output_type": "stream",
     "text": [
      "Fitting 3 folds for each of 96 candidates, totalling 288 fits\n"
     ]
    },
    {
     "name": "stderr",
     "output_type": "stream",
     "text": [
      "[Parallel(n_jobs=10)]: Done  80 tasks      | elapsed:    1.4s\n",
      "[Parallel(n_jobs=10)]: Done 288 out of 288 | elapsed:    4.0s finished\n",
      "C:\\Users\\jaeyong\\Anaconda3\\envs\\cuda\\lib\\site-packages\\sklearn\\model_selection\\_search.py:813: DeprecationWarning: The default of the `iid` parameter will change from True to False in version 0.22 and will be removed in 0.24. This will change numeric results when test-set sizes are unequal.\n",
      "  DeprecationWarning)\n",
      "[Parallel(n_jobs=10)]: Using backend LokyBackend with 10 concurrent workers.\n"
     ]
    },
    {
     "name": "stdout",
     "output_type": "stream",
     "text": [
      "Fitting 3 folds for each of 96 candidates, totalling 288 fits\n"
     ]
    },
    {
     "name": "stderr",
     "output_type": "stream",
     "text": [
      "[Parallel(n_jobs=10)]: Done 288 out of 288 | elapsed:    3.8s finished\n",
      "C:\\Users\\jaeyong\\Anaconda3\\envs\\cuda\\lib\\site-packages\\sklearn\\model_selection\\_search.py:813: DeprecationWarning: The default of the `iid` parameter will change from True to False in version 0.22 and will be removed in 0.24. This will change numeric results when test-set sizes are unequal.\n",
      "  DeprecationWarning)\n",
      "[Parallel(n_jobs=10)]: Using backend LokyBackend with 10 concurrent workers.\n"
     ]
    },
    {
     "name": "stdout",
     "output_type": "stream",
     "text": [
      "Fitting 3 folds for each of 96 candidates, totalling 288 fits\n"
     ]
    },
    {
     "name": "stderr",
     "output_type": "stream",
     "text": [
      "[Parallel(n_jobs=10)]: Done 100 tasks      | elapsed:    1.6s\n",
      "[Parallel(n_jobs=10)]: Done 288 out of 288 | elapsed:    3.8s finished\n",
      "C:\\Users\\jaeyong\\Anaconda3\\envs\\cuda\\lib\\site-packages\\sklearn\\model_selection\\_search.py:813: DeprecationWarning: The default of the `iid` parameter will change from True to False in version 0.22 and will be removed in 0.24. This will change numeric results when test-set sizes are unequal.\n",
      "  DeprecationWarning)\n",
      "[Parallel(n_jobs=10)]: Using backend LokyBackend with 10 concurrent workers.\n"
     ]
    },
    {
     "name": "stdout",
     "output_type": "stream",
     "text": [
      "Fitting 3 folds for each of 96 candidates, totalling 288 fits\n"
     ]
    },
    {
     "name": "stderr",
     "output_type": "stream",
     "text": [
      "[Parallel(n_jobs=10)]: Done  80 tasks      | elapsed:    1.2s\n",
      "[Parallel(n_jobs=10)]: Done 288 out of 288 | elapsed:    3.3s finished\n",
      "C:\\Users\\jaeyong\\Anaconda3\\envs\\cuda\\lib\\site-packages\\sklearn\\model_selection\\_search.py:813: DeprecationWarning: The default of the `iid` parameter will change from True to False in version 0.22 and will be removed in 0.24. This will change numeric results when test-set sizes are unequal.\n",
      "  DeprecationWarning)\n",
      "[Parallel(n_jobs=10)]: Using backend LokyBackend with 10 concurrent workers.\n"
     ]
    },
    {
     "name": "stdout",
     "output_type": "stream",
     "text": [
      "Fitting 3 folds for each of 96 candidates, totalling 288 fits\n"
     ]
    },
    {
     "name": "stderr",
     "output_type": "stream",
     "text": [
      "[Parallel(n_jobs=10)]: Done  80 tasks      | elapsed:    1.0s\n",
      "[Parallel(n_jobs=10)]: Done 288 out of 288 | elapsed:    2.7s finished\n",
      "C:\\Users\\jaeyong\\Anaconda3\\envs\\cuda\\lib\\site-packages\\sklearn\\model_selection\\_search.py:813: DeprecationWarning: The default of the `iid` parameter will change from True to False in version 0.22 and will be removed in 0.24. This will change numeric results when test-set sizes are unequal.\n",
      "  DeprecationWarning)\n",
      "[Parallel(n_jobs=10)]: Using backend LokyBackend with 10 concurrent workers.\n"
     ]
    },
    {
     "name": "stdout",
     "output_type": "stream",
     "text": [
      "Fitting 3 folds for each of 96 candidates, totalling 288 fits\n"
     ]
    },
    {
     "name": "stderr",
     "output_type": "stream",
     "text": [
      "[Parallel(n_jobs=10)]: Done  80 tasks      | elapsed:    1.2s\n",
      "[Parallel(n_jobs=10)]: Done 288 out of 288 | elapsed:    3.1s finished\n",
      "C:\\Users\\jaeyong\\Anaconda3\\envs\\cuda\\lib\\site-packages\\sklearn\\model_selection\\_search.py:813: DeprecationWarning: The default of the `iid` parameter will change from True to False in version 0.22 and will be removed in 0.24. This will change numeric results when test-set sizes are unequal.\n",
      "  DeprecationWarning)\n",
      "[Parallel(n_jobs=10)]: Using backend LokyBackend with 10 concurrent workers.\n"
     ]
    },
    {
     "name": "stdout",
     "output_type": "stream",
     "text": [
      "Fitting 3 folds for each of 96 candidates, totalling 288 fits\n"
     ]
    },
    {
     "name": "stderr",
     "output_type": "stream",
     "text": [
      "[Parallel(n_jobs=10)]: Done 288 out of 288 | elapsed:    3.7s finished\n",
      "C:\\Users\\jaeyong\\Anaconda3\\envs\\cuda\\lib\\site-packages\\sklearn\\model_selection\\_search.py:813: DeprecationWarning: The default of the `iid` parameter will change from True to False in version 0.22 and will be removed in 0.24. This will change numeric results when test-set sizes are unequal.\n",
      "  DeprecationWarning)\n",
      "[Parallel(n_jobs=10)]: Using backend LokyBackend with 10 concurrent workers.\n"
     ]
    },
    {
     "name": "stdout",
     "output_type": "stream",
     "text": [
      "Fitting 3 folds for each of 96 candidates, totalling 288 fits\n"
     ]
    },
    {
     "name": "stderr",
     "output_type": "stream",
     "text": [
      "[Parallel(n_jobs=10)]: Done 288 out of 288 | elapsed:    4.2s finished\n",
      "C:\\Users\\jaeyong\\Anaconda3\\envs\\cuda\\lib\\site-packages\\sklearn\\model_selection\\_search.py:813: DeprecationWarning: The default of the `iid` parameter will change from True to False in version 0.22 and will be removed in 0.24. This will change numeric results when test-set sizes are unequal.\n",
      "  DeprecationWarning)\n",
      "[Parallel(n_jobs=10)]: Using backend LokyBackend with 10 concurrent workers.\n"
     ]
    },
    {
     "name": "stdout",
     "output_type": "stream",
     "text": [
      "Fitting 3 folds for each of 96 candidates, totalling 288 fits\n"
     ]
    },
    {
     "name": "stderr",
     "output_type": "stream",
     "text": [
      "[Parallel(n_jobs=10)]: Done 288 out of 288 | elapsed:    4.7s finished\n",
      "C:\\Users\\jaeyong\\Anaconda3\\envs\\cuda\\lib\\site-packages\\sklearn\\model_selection\\_search.py:813: DeprecationWarning: The default of the `iid` parameter will change from True to False in version 0.22 and will be removed in 0.24. This will change numeric results when test-set sizes are unequal.\n",
      "  DeprecationWarning)\n",
      "[Parallel(n_jobs=10)]: Using backend LokyBackend with 10 concurrent workers.\n"
     ]
    },
    {
     "name": "stdout",
     "output_type": "stream",
     "text": [
      "Fitting 3 folds for each of 96 candidates, totalling 288 fits\n"
     ]
    },
    {
     "name": "stderr",
     "output_type": "stream",
     "text": [
      "[Parallel(n_jobs=10)]: Done 288 out of 288 | elapsed:    4.9s finished\n",
      "C:\\Users\\jaeyong\\Anaconda3\\envs\\cuda\\lib\\site-packages\\sklearn\\model_selection\\_search.py:813: DeprecationWarning: The default of the `iid` parameter will change from True to False in version 0.22 and will be removed in 0.24. This will change numeric results when test-set sizes are unequal.\n",
      "  DeprecationWarning)\n",
      "[Parallel(n_jobs=10)]: Using backend LokyBackend with 10 concurrent workers.\n"
     ]
    },
    {
     "name": "stdout",
     "output_type": "stream",
     "text": [
      "Fitting 3 folds for each of 96 candidates, totalling 288 fits\n"
     ]
    },
    {
     "name": "stderr",
     "output_type": "stream",
     "text": [
      "[Parallel(n_jobs=10)]: Done 100 tasks      | elapsed:    2.5s\n",
      "[Parallel(n_jobs=10)]: Done 288 out of 288 | elapsed:    5.3s finished\n",
      "C:\\Users\\jaeyong\\Anaconda3\\envs\\cuda\\lib\\site-packages\\sklearn\\model_selection\\_search.py:813: DeprecationWarning: The default of the `iid` parameter will change from True to False in version 0.22 and will be removed in 0.24. This will change numeric results when test-set sizes are unequal.\n",
      "  DeprecationWarning)\n",
      "[Parallel(n_jobs=10)]: Using backend LokyBackend with 10 concurrent workers.\n"
     ]
    },
    {
     "name": "stdout",
     "output_type": "stream",
     "text": [
      "Fitting 3 folds for each of 96 candidates, totalling 288 fits\n"
     ]
    },
    {
     "name": "stderr",
     "output_type": "stream",
     "text": [
      "[Parallel(n_jobs=10)]: Done 288 out of 288 | elapsed:    4.9s finished\n",
      "C:\\Users\\jaeyong\\Anaconda3\\envs\\cuda\\lib\\site-packages\\sklearn\\model_selection\\_search.py:813: DeprecationWarning: The default of the `iid` parameter will change from True to False in version 0.22 and will be removed in 0.24. This will change numeric results when test-set sizes are unequal.\n",
      "  DeprecationWarning)\n",
      "[Parallel(n_jobs=10)]: Using backend LokyBackend with 10 concurrent workers.\n"
     ]
    },
    {
     "name": "stdout",
     "output_type": "stream",
     "text": [
      "Fitting 3 folds for each of 96 candidates, totalling 288 fits\n"
     ]
    },
    {
     "name": "stderr",
     "output_type": "stream",
     "text": [
      "[Parallel(n_jobs=10)]: Done 288 out of 288 | elapsed:    5.3s finished\n",
      "[Parallel(n_jobs=10)]: Using backend LokyBackend with 10 concurrent workers.\n"
     ]
    },
    {
     "name": "stdout",
     "output_type": "stream",
     "text": [
      "Fitting 3 folds for each of 96 candidates, totalling 288 fits\n"
     ]
    },
    {
     "name": "stderr",
     "output_type": "stream",
     "text": [
      "[Parallel(n_jobs=10)]: Done 288 out of 288 | elapsed:    5.4s finished\n",
      "C:\\Users\\jaeyong\\Anaconda3\\envs\\cuda\\lib\\site-packages\\sklearn\\model_selection\\_search.py:813: DeprecationWarning: The default of the `iid` parameter will change from True to False in version 0.22 and will be removed in 0.24. This will change numeric results when test-set sizes are unequal.\n",
      "  DeprecationWarning)\n",
      "[Parallel(n_jobs=10)]: Using backend LokyBackend with 10 concurrent workers.\n"
     ]
    },
    {
     "name": "stdout",
     "output_type": "stream",
     "text": [
      "Fitting 3 folds for each of 96 candidates, totalling 288 fits\n"
     ]
    },
    {
     "name": "stderr",
     "output_type": "stream",
     "text": [
      "[Parallel(n_jobs=10)]: Done 100 tasks      | elapsed:    2.7s\n",
      "[Parallel(n_jobs=10)]: Done 288 out of 288 | elapsed:    5.6s finished\n",
      "[Parallel(n_jobs=10)]: Using backend LokyBackend with 10 concurrent workers.\n"
     ]
    },
    {
     "name": "stdout",
     "output_type": "stream",
     "text": [
      "Fitting 3 folds for each of 96 candidates, totalling 288 fits\n"
     ]
    },
    {
     "name": "stderr",
     "output_type": "stream",
     "text": [
      "[Parallel(n_jobs=10)]: Done 100 tasks      | elapsed:    2.8s\n",
      "[Parallel(n_jobs=10)]: Done 288 out of 288 | elapsed:    6.0s finished\n",
      "C:\\Users\\jaeyong\\Anaconda3\\envs\\cuda\\lib\\site-packages\\sklearn\\model_selection\\_search.py:813: DeprecationWarning: The default of the `iid` parameter will change from True to False in version 0.22 and will be removed in 0.24. This will change numeric results when test-set sizes are unequal.\n",
      "  DeprecationWarning)\n",
      "[Parallel(n_jobs=10)]: Using backend LokyBackend with 10 concurrent workers.\n"
     ]
    },
    {
     "name": "stdout",
     "output_type": "stream",
     "text": [
      "Fitting 3 folds for each of 96 candidates, totalling 288 fits\n"
     ]
    },
    {
     "name": "stderr",
     "output_type": "stream",
     "text": [
      "[Parallel(n_jobs=10)]: Done 120 tasks      | elapsed:    3.3s\n",
      "[Parallel(n_jobs=10)]: Done 288 out of 288 | elapsed:    6.1s finished\n",
      "C:\\Users\\jaeyong\\Anaconda3\\envs\\cuda\\lib\\site-packages\\sklearn\\model_selection\\_search.py:813: DeprecationWarning: The default of the `iid` parameter will change from True to False in version 0.22 and will be removed in 0.24. This will change numeric results when test-set sizes are unequal.\n",
      "  DeprecationWarning)\n",
      "[Parallel(n_jobs=10)]: Using backend LokyBackend with 10 concurrent workers.\n"
     ]
    },
    {
     "name": "stdout",
     "output_type": "stream",
     "text": [
      "Fitting 3 folds for each of 96 candidates, totalling 288 fits\n"
     ]
    },
    {
     "name": "stderr",
     "output_type": "stream",
     "text": [
      "[Parallel(n_jobs=10)]: Done 100 tasks      | elapsed:    2.6s\n",
      "[Parallel(n_jobs=10)]: Done 288 out of 288 | elapsed:    6.0s finished\n",
      "C:\\Users\\jaeyong\\Anaconda3\\envs\\cuda\\lib\\site-packages\\sklearn\\model_selection\\_search.py:813: DeprecationWarning: The default of the `iid` parameter will change from True to False in version 0.22 and will be removed in 0.24. This will change numeric results when test-set sizes are unequal.\n",
      "  DeprecationWarning)\n",
      "[Parallel(n_jobs=10)]: Using backend LokyBackend with 10 concurrent workers.\n"
     ]
    },
    {
     "name": "stdout",
     "output_type": "stream",
     "text": [
      "Fitting 3 folds for each of 96 candidates, totalling 288 fits\n"
     ]
    },
    {
     "name": "stderr",
     "output_type": "stream",
     "text": [
      "[Parallel(n_jobs=10)]: Done 288 out of 288 | elapsed:    6.0s finished\n",
      "[Parallel(n_jobs=10)]: Using backend LokyBackend with 10 concurrent workers.\n"
     ]
    },
    {
     "name": "stdout",
     "output_type": "stream",
     "text": [
      "Fitting 3 folds for each of 96 candidates, totalling 288 fits\n"
     ]
    },
    {
     "name": "stderr",
     "output_type": "stream",
     "text": [
      "[Parallel(n_jobs=10)]: Done 100 tasks      | elapsed:    2.5s\n",
      "[Parallel(n_jobs=10)]: Done 288 out of 288 | elapsed:    6.1s finished\n",
      "[Parallel(n_jobs=10)]: Using backend LokyBackend with 10 concurrent workers.\n"
     ]
    },
    {
     "name": "stdout",
     "output_type": "stream",
     "text": [
      "Fitting 3 folds for each of 96 candidates, totalling 288 fits\n"
     ]
    },
    {
     "name": "stderr",
     "output_type": "stream",
     "text": [
      "[Parallel(n_jobs=10)]: Done 288 out of 288 | elapsed:    6.1s finished\n",
      "C:\\Users\\jaeyong\\Anaconda3\\envs\\cuda\\lib\\site-packages\\sklearn\\model_selection\\_search.py:813: DeprecationWarning: The default of the `iid` parameter will change from True to False in version 0.22 and will be removed in 0.24. This will change numeric results when test-set sizes are unequal.\n",
      "  DeprecationWarning)\n",
      "[Parallel(n_jobs=10)]: Using backend LokyBackend with 10 concurrent workers.\n"
     ]
    },
    {
     "name": "stdout",
     "output_type": "stream",
     "text": [
      "Fitting 3 folds for each of 96 candidates, totalling 288 fits\n"
     ]
    },
    {
     "name": "stderr",
     "output_type": "stream",
     "text": [
      "[Parallel(n_jobs=10)]: Done 100 tasks      | elapsed:    2.8s\n",
      "[Parallel(n_jobs=10)]: Done 288 out of 288 | elapsed:    6.4s finished\n",
      "[Parallel(n_jobs=10)]: Using backend LokyBackend with 10 concurrent workers.\n"
     ]
    },
    {
     "name": "stdout",
     "output_type": "stream",
     "text": [
      "Fitting 3 folds for each of 96 candidates, totalling 288 fits\n"
     ]
    },
    {
     "name": "stderr",
     "output_type": "stream",
     "text": [
      "[Parallel(n_jobs=10)]: Done 100 tasks      | elapsed:    2.8s\n",
      "[Parallel(n_jobs=10)]: Done 288 out of 288 | elapsed:    6.3s finished\n",
      "[Parallel(n_jobs=10)]: Using backend LokyBackend with 10 concurrent workers.\n"
     ]
    },
    {
     "name": "stdout",
     "output_type": "stream",
     "text": [
      "Fitting 3 folds for each of 96 candidates, totalling 288 fits\n"
     ]
    },
    {
     "name": "stderr",
     "output_type": "stream",
     "text": [
      "[Parallel(n_jobs=10)]: Done 100 tasks      | elapsed:    2.7s\n",
      "[Parallel(n_jobs=10)]: Done 288 out of 288 | elapsed:    6.2s finished\n",
      "[Parallel(n_jobs=10)]: Using backend LokyBackend with 10 concurrent workers.\n"
     ]
    },
    {
     "name": "stdout",
     "output_type": "stream",
     "text": [
      "Fitting 3 folds for each of 96 candidates, totalling 288 fits\n"
     ]
    },
    {
     "name": "stderr",
     "output_type": "stream",
     "text": [
      "[Parallel(n_jobs=10)]: Done 100 tasks      | elapsed:    2.8s\n",
      "[Parallel(n_jobs=10)]: Done 288 out of 288 | elapsed:    6.3s finished\n",
      "[Parallel(n_jobs=10)]: Using backend LokyBackend with 10 concurrent workers.\n"
     ]
    },
    {
     "name": "stdout",
     "output_type": "stream",
     "text": [
      "Fitting 3 folds for each of 96 candidates, totalling 288 fits\n"
     ]
    },
    {
     "name": "stderr",
     "output_type": "stream",
     "text": [
      "[Parallel(n_jobs=10)]: Done 100 tasks      | elapsed:    2.8s\n",
      "[Parallel(n_jobs=10)]: Done 288 out of 288 | elapsed:    6.4s finished\n",
      "[Parallel(n_jobs=10)]: Using backend LokyBackend with 10 concurrent workers.\n"
     ]
    },
    {
     "name": "stdout",
     "output_type": "stream",
     "text": [
      "Fitting 3 folds for each of 96 candidates, totalling 288 fits\n"
     ]
    },
    {
     "name": "stderr",
     "output_type": "stream",
     "text": [
      "[Parallel(n_jobs=10)]: Done 100 tasks      | elapsed:    2.9s\n",
      "[Parallel(n_jobs=10)]: Done 288 out of 288 | elapsed:    6.5s finished\n",
      "C:\\Users\\jaeyong\\Anaconda3\\envs\\cuda\\lib\\site-packages\\sklearn\\model_selection\\_search.py:813: DeprecationWarning: The default of the `iid` parameter will change from True to False in version 0.22 and will be removed in 0.24. This will change numeric results when test-set sizes are unequal.\n",
      "  DeprecationWarning)\n",
      "[Parallel(n_jobs=10)]: Using backend LokyBackend with 10 concurrent workers.\n"
     ]
    },
    {
     "name": "stdout",
     "output_type": "stream",
     "text": [
      "Fitting 3 folds for each of 96 candidates, totalling 288 fits\n"
     ]
    },
    {
     "name": "stderr",
     "output_type": "stream",
     "text": [
      "[Parallel(n_jobs=10)]: Done 288 out of 288 | elapsed:    6.4s finished\n",
      "C:\\Users\\jaeyong\\Anaconda3\\envs\\cuda\\lib\\site-packages\\sklearn\\model_selection\\_search.py:813: DeprecationWarning: The default of the `iid` parameter will change from True to False in version 0.22 and will be removed in 0.24. This will change numeric results when test-set sizes are unequal.\n",
      "  DeprecationWarning)\n",
      "[Parallel(n_jobs=10)]: Using backend LokyBackend with 10 concurrent workers.\n"
     ]
    },
    {
     "name": "stdout",
     "output_type": "stream",
     "text": [
      "Fitting 3 folds for each of 96 candidates, totalling 288 fits\n"
     ]
    },
    {
     "name": "stderr",
     "output_type": "stream",
     "text": [
      "[Parallel(n_jobs=10)]: Done 100 tasks      | elapsed:    3.1s\n",
      "[Parallel(n_jobs=10)]: Done 288 out of 288 | elapsed:    7.1s finished\n",
      "C:\\Users\\jaeyong\\Anaconda3\\envs\\cuda\\lib\\site-packages\\sklearn\\model_selection\\_search.py:813: DeprecationWarning: The default of the `iid` parameter will change from True to False in version 0.22 and will be removed in 0.24. This will change numeric results when test-set sizes are unequal.\n",
      "  DeprecationWarning)\n",
      "[Parallel(n_jobs=10)]: Using backend LokyBackend with 10 concurrent workers.\n"
     ]
    },
    {
     "name": "stdout",
     "output_type": "stream",
     "text": [
      "Fitting 3 folds for each of 96 candidates, totalling 288 fits\n"
     ]
    },
    {
     "name": "stderr",
     "output_type": "stream",
     "text": [
      "[Parallel(n_jobs=10)]: Done 100 tasks      | elapsed:    2.9s\n",
      "[Parallel(n_jobs=10)]: Done 288 out of 288 | elapsed:    7.2s finished\n",
      "[Parallel(n_jobs=10)]: Using backend LokyBackend with 10 concurrent workers.\n"
     ]
    },
    {
     "name": "stdout",
     "output_type": "stream",
     "text": [
      "Fitting 3 folds for each of 96 candidates, totalling 288 fits\n"
     ]
    },
    {
     "name": "stderr",
     "output_type": "stream",
     "text": [
      "[Parallel(n_jobs=10)]: Done 288 out of 288 | elapsed:    7.0s finished\n",
      "C:\\Users\\jaeyong\\Anaconda3\\envs\\cuda\\lib\\site-packages\\sklearn\\model_selection\\_search.py:813: DeprecationWarning: The default of the `iid` parameter will change from True to False in version 0.22 and will be removed in 0.24. This will change numeric results when test-set sizes are unequal.\n",
      "  DeprecationWarning)\n",
      "[Parallel(n_jobs=10)]: Using backend LokyBackend with 10 concurrent workers.\n"
     ]
    },
    {
     "name": "stdout",
     "output_type": "stream",
     "text": [
      "Fitting 3 folds for each of 96 candidates, totalling 288 fits\n"
     ]
    },
    {
     "name": "stderr",
     "output_type": "stream",
     "text": [
      "[Parallel(n_jobs=10)]: Done 100 tasks      | elapsed:    3.2s\n",
      "[Parallel(n_jobs=10)]: Done 288 out of 288 | elapsed:    7.4s finished\n",
      "[Parallel(n_jobs=10)]: Using backend LokyBackend with 10 concurrent workers.\n"
     ]
    },
    {
     "name": "stdout",
     "output_type": "stream",
     "text": [
      "Fitting 3 folds for each of 96 candidates, totalling 288 fits\n"
     ]
    },
    {
     "name": "stderr",
     "output_type": "stream",
     "text": [
      "[Parallel(n_jobs=10)]: Done 100 tasks      | elapsed:    3.2s\n",
      "[Parallel(n_jobs=10)]: Done 288 out of 288 | elapsed:    7.0s finished\n",
      "[Parallel(n_jobs=10)]: Using backend LokyBackend with 10 concurrent workers.\n"
     ]
    },
    {
     "name": "stdout",
     "output_type": "stream",
     "text": [
      "Fitting 3 folds for each of 96 candidates, totalling 288 fits\n"
     ]
    },
    {
     "name": "stderr",
     "output_type": "stream",
     "text": [
      "[Parallel(n_jobs=10)]: Done 100 tasks      | elapsed:    3.2s\n",
      "[Parallel(n_jobs=10)]: Done 288 out of 288 | elapsed:    7.2s finished\n",
      "C:\\Users\\jaeyong\\Anaconda3\\envs\\cuda\\lib\\site-packages\\sklearn\\model_selection\\_search.py:813: DeprecationWarning: The default of the `iid` parameter will change from True to False in version 0.22 and will be removed in 0.24. This will change numeric results when test-set sizes are unequal.\n",
      "  DeprecationWarning)\n",
      "[Parallel(n_jobs=10)]: Using backend LokyBackend with 10 concurrent workers.\n"
     ]
    },
    {
     "name": "stdout",
     "output_type": "stream",
     "text": [
      "Fitting 3 folds for each of 96 candidates, totalling 288 fits\n"
     ]
    },
    {
     "name": "stderr",
     "output_type": "stream",
     "text": [
      "[Parallel(n_jobs=10)]: Done 100 tasks      | elapsed:    2.8s\n",
      "[Parallel(n_jobs=10)]: Done 288 out of 288 | elapsed:    6.8s finished\n",
      "[Parallel(n_jobs=10)]: Using backend LokyBackend with 10 concurrent workers.\n"
     ]
    },
    {
     "name": "stdout",
     "output_type": "stream",
     "text": [
      "Fitting 3 folds for each of 96 candidates, totalling 288 fits\n"
     ]
    },
    {
     "name": "stderr",
     "output_type": "stream",
     "text": [
      "[Parallel(n_jobs=10)]: Done 100 tasks      | elapsed:    3.0s\n",
      "[Parallel(n_jobs=10)]: Done 288 out of 288 | elapsed:    6.8s finished\n",
      "C:\\Users\\jaeyong\\Anaconda3\\envs\\cuda\\lib\\site-packages\\sklearn\\model_selection\\_search.py:813: DeprecationWarning: The default of the `iid` parameter will change from True to False in version 0.22 and will be removed in 0.24. This will change numeric results when test-set sizes are unequal.\n",
      "  DeprecationWarning)\n",
      "[Parallel(n_jobs=10)]: Using backend LokyBackend with 10 concurrent workers.\n"
     ]
    },
    {
     "name": "stdout",
     "output_type": "stream",
     "text": [
      "Fitting 3 folds for each of 96 candidates, totalling 288 fits\n"
     ]
    },
    {
     "name": "stderr",
     "output_type": "stream",
     "text": [
      "[Parallel(n_jobs=10)]: Done 288 out of 288 | elapsed:    4.6s finished\n",
      "[Parallel(n_jobs=10)]: Using backend LokyBackend with 10 concurrent workers.\n"
     ]
    },
    {
     "name": "stdout",
     "output_type": "stream",
     "text": [
      "Fitting 3 folds for each of 96 candidates, totalling 288 fits\n"
     ]
    },
    {
     "name": "stderr",
     "output_type": "stream",
     "text": [
      "[Parallel(n_jobs=10)]: Done 288 out of 288 | elapsed:    4.6s finished\n",
      "C:\\Users\\jaeyong\\Anaconda3\\envs\\cuda\\lib\\site-packages\\sklearn\\model_selection\\_search.py:813: DeprecationWarning: The default of the `iid` parameter will change from True to False in version 0.22 and will be removed in 0.24. This will change numeric results when test-set sizes are unequal.\n",
      "  DeprecationWarning)\n",
      "[Parallel(n_jobs=10)]: Using backend LokyBackend with 10 concurrent workers.\n"
     ]
    },
    {
     "name": "stdout",
     "output_type": "stream",
     "text": [
      "Fitting 3 folds for each of 96 candidates, totalling 288 fits\n"
     ]
    },
    {
     "name": "stderr",
     "output_type": "stream",
     "text": [
      "[Parallel(n_jobs=10)]: Done 288 out of 288 | elapsed:    4.6s finished\n",
      "C:\\Users\\jaeyong\\Anaconda3\\envs\\cuda\\lib\\site-packages\\sklearn\\model_selection\\_search.py:813: DeprecationWarning: The default of the `iid` parameter will change from True to False in version 0.22 and will be removed in 0.24. This will change numeric results when test-set sizes are unequal.\n",
      "  DeprecationWarning)\n",
      "[Parallel(n_jobs=10)]: Using backend LokyBackend with 10 concurrent workers.\n"
     ]
    },
    {
     "name": "stdout",
     "output_type": "stream",
     "text": [
      "Fitting 3 folds for each of 96 candidates, totalling 288 fits\n"
     ]
    },
    {
     "name": "stderr",
     "output_type": "stream",
     "text": [
      "[Parallel(n_jobs=10)]: Done 288 out of 288 | elapsed:    4.7s finished\n",
      "[Parallel(n_jobs=10)]: Using backend LokyBackend with 10 concurrent workers.\n"
     ]
    },
    {
     "name": "stdout",
     "output_type": "stream",
     "text": [
      "Fitting 3 folds for each of 96 candidates, totalling 288 fits\n"
     ]
    },
    {
     "name": "stderr",
     "output_type": "stream",
     "text": [
      "[Parallel(n_jobs=10)]: Done 288 out of 288 | elapsed:    4.9s finished\n",
      "C:\\Users\\jaeyong\\Anaconda3\\envs\\cuda\\lib\\site-packages\\sklearn\\model_selection\\_search.py:813: DeprecationWarning: The default of the `iid` parameter will change from True to False in version 0.22 and will be removed in 0.24. This will change numeric results when test-set sizes are unequal.\n",
      "  DeprecationWarning)\n",
      "[Parallel(n_jobs=10)]: Using backend LokyBackend with 10 concurrent workers.\n"
     ]
    },
    {
     "name": "stdout",
     "output_type": "stream",
     "text": [
      "Fitting 3 folds for each of 96 candidates, totalling 288 fits\n"
     ]
    },
    {
     "name": "stderr",
     "output_type": "stream",
     "text": [
      "[Parallel(n_jobs=10)]: Done 288 out of 288 | elapsed:    4.7s finished\n",
      "C:\\Users\\jaeyong\\Anaconda3\\envs\\cuda\\lib\\site-packages\\sklearn\\model_selection\\_search.py:813: DeprecationWarning: The default of the `iid` parameter will change from True to False in version 0.22 and will be removed in 0.24. This will change numeric results when test-set sizes are unequal.\n",
      "  DeprecationWarning)\n",
      "[Parallel(n_jobs=10)]: Using backend LokyBackend with 10 concurrent workers.\n"
     ]
    },
    {
     "name": "stdout",
     "output_type": "stream",
     "text": [
      "Fitting 3 folds for each of 96 candidates, totalling 288 fits\n"
     ]
    },
    {
     "name": "stderr",
     "output_type": "stream",
     "text": [
      "[Parallel(n_jobs=10)]: Done 288 out of 288 | elapsed:    4.6s finished\n",
      "C:\\Users\\jaeyong\\Anaconda3\\envs\\cuda\\lib\\site-packages\\sklearn\\model_selection\\_search.py:813: DeprecationWarning: The default of the `iid` parameter will change from True to False in version 0.22 and will be removed in 0.24. This will change numeric results when test-set sizes are unequal.\n",
      "  DeprecationWarning)\n",
      "[Parallel(n_jobs=10)]: Using backend LokyBackend with 10 concurrent workers.\n"
     ]
    },
    {
     "name": "stdout",
     "output_type": "stream",
     "text": [
      "Fitting 3 folds for each of 96 candidates, totalling 288 fits\n"
     ]
    },
    {
     "name": "stderr",
     "output_type": "stream",
     "text": [
      "[Parallel(n_jobs=10)]: Done 288 out of 288 | elapsed:    4.7s finished\n",
      "C:\\Users\\jaeyong\\Anaconda3\\envs\\cuda\\lib\\site-packages\\sklearn\\model_selection\\_search.py:813: DeprecationWarning: The default of the `iid` parameter will change from True to False in version 0.22 and will be removed in 0.24. This will change numeric results when test-set sizes are unequal.\n",
      "  DeprecationWarning)\n",
      "[Parallel(n_jobs=10)]: Using backend LokyBackend with 10 concurrent workers.\n"
     ]
    },
    {
     "name": "stdout",
     "output_type": "stream",
     "text": [
      "Fitting 3 folds for each of 96 candidates, totalling 288 fits\n"
     ]
    },
    {
     "name": "stderr",
     "output_type": "stream",
     "text": [
      "[Parallel(n_jobs=10)]: Done 288 out of 288 | elapsed:    4.5s finished\n",
      "C:\\Users\\jaeyong\\Anaconda3\\envs\\cuda\\lib\\site-packages\\sklearn\\model_selection\\_search.py:813: DeprecationWarning: The default of the `iid` parameter will change from True to False in version 0.22 and will be removed in 0.24. This will change numeric results when test-set sizes are unequal.\n",
      "  DeprecationWarning)\n",
      "[Parallel(n_jobs=10)]: Using backend LokyBackend with 10 concurrent workers.\n"
     ]
    },
    {
     "name": "stdout",
     "output_type": "stream",
     "text": [
      "Fitting 3 folds for each of 96 candidates, totalling 288 fits\n"
     ]
    },
    {
     "name": "stderr",
     "output_type": "stream",
     "text": [
      "[Parallel(n_jobs=10)]: Done 288 out of 288 | elapsed:    4.5s finished\n",
      "C:\\Users\\jaeyong\\Anaconda3\\envs\\cuda\\lib\\site-packages\\sklearn\\model_selection\\_search.py:813: DeprecationWarning: The default of the `iid` parameter will change from True to False in version 0.22 and will be removed in 0.24. This will change numeric results when test-set sizes are unequal.\n",
      "  DeprecationWarning)\n",
      "[Parallel(n_jobs=10)]: Using backend LokyBackend with 10 concurrent workers.\n"
     ]
    },
    {
     "name": "stdout",
     "output_type": "stream",
     "text": [
      "Fitting 3 folds for each of 96 candidates, totalling 288 fits\n"
     ]
    },
    {
     "name": "stderr",
     "output_type": "stream",
     "text": [
      "[Parallel(n_jobs=10)]: Done 288 out of 288 | elapsed:    4.6s finished\n",
      "[Parallel(n_jobs=10)]: Using backend LokyBackend with 10 concurrent workers.\n"
     ]
    },
    {
     "name": "stdout",
     "output_type": "stream",
     "text": [
      "Fitting 3 folds for each of 96 candidates, totalling 288 fits\n"
     ]
    },
    {
     "name": "stderr",
     "output_type": "stream",
     "text": [
      "[Parallel(n_jobs=10)]: Done 288 out of 288 | elapsed:    4.4s finished\n",
      "C:\\Users\\jaeyong\\Anaconda3\\envs\\cuda\\lib\\site-packages\\sklearn\\model_selection\\_search.py:813: DeprecationWarning: The default of the `iid` parameter will change from True to False in version 0.22 and will be removed in 0.24. This will change numeric results when test-set sizes are unequal.\n",
      "  DeprecationWarning)\n",
      "[Parallel(n_jobs=10)]: Using backend LokyBackend with 10 concurrent workers.\n"
     ]
    },
    {
     "name": "stdout",
     "output_type": "stream",
     "text": [
      "Fitting 3 folds for each of 96 candidates, totalling 288 fits\n"
     ]
    },
    {
     "name": "stderr",
     "output_type": "stream",
     "text": [
      "[Parallel(n_jobs=10)]: Done 288 out of 288 | elapsed:    4.5s finished\n",
      "C:\\Users\\jaeyong\\Anaconda3\\envs\\cuda\\lib\\site-packages\\sklearn\\model_selection\\_search.py:813: DeprecationWarning: The default of the `iid` parameter will change from True to False in version 0.22 and will be removed in 0.24. This will change numeric results when test-set sizes are unequal.\n",
      "  DeprecationWarning)\n",
      "[Parallel(n_jobs=10)]: Using backend LokyBackend with 10 concurrent workers.\n"
     ]
    },
    {
     "name": "stdout",
     "output_type": "stream",
     "text": [
      "Fitting 3 folds for each of 96 candidates, totalling 288 fits\n"
     ]
    },
    {
     "name": "stderr",
     "output_type": "stream",
     "text": [
      "[Parallel(n_jobs=10)]: Done 288 out of 288 | elapsed:    4.6s finished\n",
      "[Parallel(n_jobs=10)]: Using backend LokyBackend with 10 concurrent workers.\n"
     ]
    },
    {
     "name": "stdout",
     "output_type": "stream",
     "text": [
      "Fitting 3 folds for each of 96 candidates, totalling 288 fits\n"
     ]
    },
    {
     "name": "stderr",
     "output_type": "stream",
     "text": [
      "[Parallel(n_jobs=10)]: Done 288 out of 288 | elapsed:    4.9s finished\n",
      "C:\\Users\\jaeyong\\Anaconda3\\envs\\cuda\\lib\\site-packages\\sklearn\\model_selection\\_search.py:813: DeprecationWarning: The default of the `iid` parameter will change from True to False in version 0.22 and will be removed in 0.24. This will change numeric results when test-set sizes are unequal.\n",
      "  DeprecationWarning)\n",
      "[Parallel(n_jobs=10)]: Using backend LokyBackend with 10 concurrent workers.\n"
     ]
    },
    {
     "name": "stdout",
     "output_type": "stream",
     "text": [
      "Fitting 3 folds for each of 96 candidates, totalling 288 fits\n"
     ]
    },
    {
     "name": "stderr",
     "output_type": "stream",
     "text": [
      "[Parallel(n_jobs=10)]: Done 288 out of 288 | elapsed:    4.7s finished\n",
      "C:\\Users\\jaeyong\\Anaconda3\\envs\\cuda\\lib\\site-packages\\sklearn\\model_selection\\_search.py:813: DeprecationWarning: The default of the `iid` parameter will change from True to False in version 0.22 and will be removed in 0.24. This will change numeric results when test-set sizes are unequal.\n",
      "  DeprecationWarning)\n",
      "[Parallel(n_jobs=10)]: Using backend LokyBackend with 10 concurrent workers.\n"
     ]
    },
    {
     "name": "stdout",
     "output_type": "stream",
     "text": [
      "Fitting 3 folds for each of 96 candidates, totalling 288 fits\n"
     ]
    },
    {
     "name": "stderr",
     "output_type": "stream",
     "text": [
      "[Parallel(n_jobs=10)]: Done 288 out of 288 | elapsed:    5.0s finished\n",
      "C:\\Users\\jaeyong\\Anaconda3\\envs\\cuda\\lib\\site-packages\\sklearn\\model_selection\\_search.py:813: DeprecationWarning: The default of the `iid` parameter will change from True to False in version 0.22 and will be removed in 0.24. This will change numeric results when test-set sizes are unequal.\n",
      "  DeprecationWarning)\n",
      "[Parallel(n_jobs=10)]: Using backend LokyBackend with 10 concurrent workers.\n"
     ]
    },
    {
     "name": "stdout",
     "output_type": "stream",
     "text": [
      "Fitting 3 folds for each of 96 candidates, totalling 288 fits\n"
     ]
    },
    {
     "name": "stderr",
     "output_type": "stream",
     "text": [
      "[Parallel(n_jobs=10)]: Done 288 out of 288 | elapsed:    5.0s finished\n",
      "C:\\Users\\jaeyong\\Anaconda3\\envs\\cuda\\lib\\site-packages\\sklearn\\model_selection\\_search.py:813: DeprecationWarning: The default of the `iid` parameter will change from True to False in version 0.22 and will be removed in 0.24. This will change numeric results when test-set sizes are unequal.\n",
      "  DeprecationWarning)\n",
      "[Parallel(n_jobs=10)]: Using backend LokyBackend with 10 concurrent workers.\n"
     ]
    },
    {
     "name": "stdout",
     "output_type": "stream",
     "text": [
      "Fitting 3 folds for each of 96 candidates, totalling 288 fits\n"
     ]
    },
    {
     "name": "stderr",
     "output_type": "stream",
     "text": [
      "[Parallel(n_jobs=10)]: Done 288 out of 288 | elapsed:    4.9s finished\n",
      "C:\\Users\\jaeyong\\Anaconda3\\envs\\cuda\\lib\\site-packages\\sklearn\\model_selection\\_search.py:813: DeprecationWarning: The default of the `iid` parameter will change from True to False in version 0.22 and will be removed in 0.24. This will change numeric results when test-set sizes are unequal.\n",
      "  DeprecationWarning)\n",
      "[Parallel(n_jobs=10)]: Using backend LokyBackend with 10 concurrent workers.\n"
     ]
    },
    {
     "name": "stdout",
     "output_type": "stream",
     "text": [
      "Fitting 3 folds for each of 96 candidates, totalling 288 fits\n"
     ]
    },
    {
     "name": "stderr",
     "output_type": "stream",
     "text": [
      "[Parallel(n_jobs=10)]: Done 100 tasks      | elapsed:    2.3s\n",
      "[Parallel(n_jobs=10)]: Done 288 out of 288 | elapsed:    5.1s finished\n",
      "C:\\Users\\jaeyong\\Anaconda3\\envs\\cuda\\lib\\site-packages\\sklearn\\model_selection\\_search.py:813: DeprecationWarning: The default of the `iid` parameter will change from True to False in version 0.22 and will be removed in 0.24. This will change numeric results when test-set sizes are unequal.\n",
      "  DeprecationWarning)\n",
      "[Parallel(n_jobs=10)]: Using backend LokyBackend with 10 concurrent workers.\n"
     ]
    },
    {
     "name": "stdout",
     "output_type": "stream",
     "text": [
      "Fitting 3 folds for each of 96 candidates, totalling 288 fits\n"
     ]
    },
    {
     "name": "stderr",
     "output_type": "stream",
     "text": [
      "[Parallel(n_jobs=10)]: Done 100 tasks      | elapsed:    2.2s\n",
      "[Parallel(n_jobs=10)]: Done 288 out of 288 | elapsed:    5.0s finished\n",
      "C:\\Users\\jaeyong\\Anaconda3\\envs\\cuda\\lib\\site-packages\\sklearn\\model_selection\\_search.py:813: DeprecationWarning: The default of the `iid` parameter will change from True to False in version 0.22 and will be removed in 0.24. This will change numeric results when test-set sizes are unequal.\n",
      "  DeprecationWarning)\n",
      "[Parallel(n_jobs=10)]: Using backend LokyBackend with 10 concurrent workers.\n"
     ]
    },
    {
     "name": "stdout",
     "output_type": "stream",
     "text": [
      "Fitting 3 folds for each of 96 candidates, totalling 288 fits\n"
     ]
    },
    {
     "name": "stderr",
     "output_type": "stream",
     "text": [
      "[Parallel(n_jobs=10)]: Done 288 out of 288 | elapsed:    4.7s finished\n"
     ]
    }
   ],
   "source": [
    "list_esti=[]\n",
    "list_grid=[]\n",
    "for i in range(60):\n",
    "    \n",
    "    X_train, X_test, y_train, y_test = train_test_split(X_list[i], Y_list[i],test_size = 0.2)\n",
    "    evals = [(X_test, y_test)]\n",
    "    estimator = xgb.XGBRegressor(objective ='reg:squarederror')\n",
    "\n",
    "    parameters = {\n",
    "        'max_depth': range (2, 10, 1),\n",
    "        'n_estimators': range(60, 220, 40),\n",
    "        'learning_rate': [0.1, 0.01, 0.05]\n",
    "    }\n",
    "\n",
    "    grid_search = GridSearchCV(\n",
    "        estimator=estimator,\n",
    "        param_grid=parameters,\n",
    "        scoring = 'neg_mean_squared_error',\n",
    "        n_jobs = 10,\n",
    "        cv = 3,\n",
    "        verbose=True\n",
    "    )\n",
    "\n",
    "    grid_search.fit(X_train, y_train)\n",
    "    list_esti.append(grid_search.best_estimator_)\n",
    "    list_grid.append(grid_search)\n",
    "    "
   ]
  },
  {
   "cell_type": "code",
   "execution_count": 141,
   "metadata": {
    "collapsed": true
   },
   "outputs": [
    {
     "name": "stdout",
     "output_type": "stream",
     "text": [
      "-0.4269412582375295\n",
      "-0.5819600448012368\n",
      "-0.605918063966264\n",
      "-0.5121399449613805\n",
      "-0.34196589620456613\n",
      "-0.3115401349978135\n",
      "-0.26404003906532875\n",
      "-0.3734710641376106\n",
      "-0.5747870282756485\n",
      "-0.45251596342465705\n",
      "-0.4087233774791093\n",
      "-0.45866076836019465\n",
      "-0.3474918735678829\n",
      "-0.45475288427631766\n",
      "-0.4545013798162992\n",
      "-0.35757552806415516\n",
      "-0.35255312926032684\n",
      "-0.3254234124235501\n",
      "-0.3386350309646763\n",
      "-0.36096510853262864\n",
      "-0.44797683253189613\n",
      "-0.4584181326471549\n",
      "-0.5685671900628009\n",
      "-0.5805872675436542\n",
      "-0.573981657195203\n",
      "-0.5101571712213767\n",
      "-0.5547394689472563\n",
      "-0.5790506039776332\n",
      "-0.4856679140823253\n",
      "-0.4422112610138486\n",
      "-0.808234769503924\n",
      "-0.8756995345107857\n",
      "-0.8444793108514612\n",
      "-0.8104459350905453\n",
      "-0.7603374584359587\n",
      "-0.7598009845004091\n",
      "-0.7321450472952727\n",
      "-0.6752768485963805\n",
      "-0.3268228383788089\n",
      "-0.3854453164550948\n",
      "-0.39384918123003815\n",
      "-0.44757812790468493\n",
      "-0.5305569296249212\n",
      "-0.46109627362692235\n",
      "-0.4275301016398027\n",
      "-0.5213870416227072\n",
      "-0.38095647008801586\n",
      "-0.30221952793948087\n",
      "-0.3745360637292117\n",
      "-0.3283500359417732\n",
      "-0.3427404069109158\n",
      "-0.3784478563187004\n",
      "-0.41557413809532406\n",
      "-0.42798111272412764\n",
      "-0.4943389973495593\n",
      "-0.509907729588534\n",
      "-0.48823474304545145\n",
      "-0.45619091849005733\n",
      "-0.4278164974190265\n",
      "-0.38482309024408395\n"
     ]
    }
   ],
   "source": [
    "for i in list_grid:\n",
    "    print(i.best_score_)"
   ]
  },
  {
   "cell_type": "code",
   "execution_count": 142,
   "metadata": {},
   "outputs": [],
   "source": [
    "list_year=['2014','2015','2016','2017','2018']\n",
    "list_mon=['01','02','03','04','05','06','07','08','09','10','11','12']\n",
    "for a,i in enumerate(list_year):\n",
    "    for b,j in enumerate(list_mon):\n",
    "        index = 12*a+b \n",
    "        filename_list ='estimator_gas' + i + j +'.sav'\n",
    "        pickle.dump(list_esti[index], open(filename_list, 'wb'))\n",
    "        \n",
    "for a,i in enumerate(list_year):\n",
    "    for b,j in enumerate(list_mon):\n",
    "        index = 12*a+b \n",
    "        filename_list ='bestparm_gas' + i + j +'.sav'\n",
    "        pickle.dump(list_grid[index], open(filename_list, 'wb'))\n",
    " "
   ]
  },
  {
   "cell_type": "code",
   "execution_count": 8,
   "metadata": {},
   "outputs": [],
   "source": [
    "#모델 가져오기~\n",
    "list_year=['2014','2015','2016','2017','2018']\n",
    "list_mon=['01','02','03','04','05','06','07','08','09','10','11','12']\n",
    "models=list(range(60))\n",
    "grids=list(range(60))\n",
    "for a,i in enumerate(list_year):\n",
    "    for b,j in enumerate(list_mon):\n",
    "        index = 12*a+b \n",
    "        filename_list ='estimator_gas' + i + j +'.sav'\n",
    "        models[index] = pickle.load(open(filename_list, 'rb'))\n",
    "        \n",
    "for a,i in enumerate(list_year):\n",
    "    for b,j in enumerate(list_mon):\n",
    "        index = 12*a+b \n",
    "        filename_list ='bestparm_gas' + i + j +'.sav'\n",
    "        grids[index] = pickle.load(open(filename_list, 'rb'))"
   ]
  },
  {
   "cell_type": "code",
   "execution_count": 9,
   "metadata": {},
   "outputs": [
    {
     "ename": "ValueError",
     "evalue": "feature_names mismatch: ['bldng_cnt', 'bldng_ar', 'ttl_ar', 'tmprtr', 'wnd_spd', 'wnd_drctn', 'hmdt'] ['f0', 'f1', 'f2', 'f3', 'f4', 'f5', 'f6', 'f7', 'f8', 'f9', 'f10', 'f11', 'f12', 'f13', 'f14', 'f15', 'f16', 'f17', 'f18', 'f19', 'f20', 'f21', 'f22', 'f23', 'f24', 'f25', 'f26', 'f27']\nexpected tmprtr, ttl_ar, bldng_ar, hmdt, bldng_cnt, wnd_drctn, wnd_spd in input data\ntraining data did not have the following fields: f3, f15, f21, f19, f5, f4, f18, f17, f11, f1, f16, f0, f8, f6, f12, f24, f14, f25, f26, f22, f20, f7, f10, f2, f27, f13, f23, f9",
     "output_type": "error",
     "traceback": [
      "\u001b[1;31m---------------------------------------------------------------------------\u001b[0m",
      "\u001b[1;31mValueError\u001b[0m                                Traceback (most recent call last)",
      "\u001b[1;32m<ipython-input-9-ad68117d184b>\u001b[0m in \u001b[0;36m<module>\u001b[1;34m\u001b[0m\n\u001b[0;32m      1\u001b[0m \u001b[1;32mfor\u001b[0m \u001b[0mi\u001b[0m \u001b[1;32min\u001b[0m \u001b[0mrange\u001b[0m\u001b[1;33m(\u001b[0m\u001b[1;36m60\u001b[0m\u001b[1;33m)\u001b[0m\u001b[1;33m:\u001b[0m\u001b[1;33m\u001b[0m\u001b[1;33m\u001b[0m\u001b[0m\n\u001b[0;32m      2\u001b[0m     \u001b[0mX_train\u001b[0m\u001b[1;33m,\u001b[0m \u001b[0mX_test\u001b[0m\u001b[1;33m,\u001b[0m \u001b[0my_train\u001b[0m\u001b[1;33m,\u001b[0m \u001b[0my_test\u001b[0m \u001b[1;33m=\u001b[0m \u001b[0mtrain_test_split\u001b[0m\u001b[1;33m(\u001b[0m\u001b[0mX_list\u001b[0m\u001b[1;33m[\u001b[0m\u001b[0mi\u001b[0m\u001b[1;33m]\u001b[0m\u001b[1;33m,\u001b[0m \u001b[0mY_list\u001b[0m\u001b[1;33m[\u001b[0m\u001b[0mi\u001b[0m\u001b[1;33m]\u001b[0m\u001b[1;33m,\u001b[0m\u001b[0mtest_size\u001b[0m \u001b[1;33m=\u001b[0m \u001b[1;36m0.2\u001b[0m\u001b[1;33m)\u001b[0m\u001b[1;33m\u001b[0m\u001b[1;33m\u001b[0m\u001b[0m\n\u001b[1;32m----> 3\u001b[1;33m     \u001b[0mpred\u001b[0m \u001b[1;33m=\u001b[0m \u001b[0mmodels\u001b[0m\u001b[1;33m[\u001b[0m\u001b[0mi\u001b[0m\u001b[1;33m]\u001b[0m\u001b[1;33m.\u001b[0m\u001b[0mpredict\u001b[0m\u001b[1;33m(\u001b[0m\u001b[0my_test\u001b[0m\u001b[1;33m)\u001b[0m\u001b[1;33m\u001b[0m\u001b[1;33m\u001b[0m\u001b[0m\n\u001b[0m\u001b[0;32m      4\u001b[0m     \u001b[0mget_clf_eval\u001b[0m\u001b[1;33m(\u001b[0m\u001b[0my_test\u001b[0m\u001b[1;33m,\u001b[0m\u001b[0mpred\u001b[0m\u001b[1;33m,\u001b[0m\u001b[1;34m'regression'\u001b[0m\u001b[1;33m)\u001b[0m\u001b[1;33m\u001b[0m\u001b[1;33m\u001b[0m\u001b[0m\n",
      "\u001b[1;32mC:\\Users\\jaeyong\\Anaconda3\\envs\\cuda\\lib\\site-packages\\xgboost\\sklearn.py\u001b[0m in \u001b[0;36mpredict\u001b[1;34m(self, data, output_margin, ntree_limit, validate_features)\u001b[0m\n\u001b[0;32m    454\u001b[0m                                           \u001b[0moutput_margin\u001b[0m\u001b[1;33m=\u001b[0m\u001b[0moutput_margin\u001b[0m\u001b[1;33m,\u001b[0m\u001b[1;33m\u001b[0m\u001b[1;33m\u001b[0m\u001b[0m\n\u001b[0;32m    455\u001b[0m                                           \u001b[0mntree_limit\u001b[0m\u001b[1;33m=\u001b[0m\u001b[0mntree_limit\u001b[0m\u001b[1;33m,\u001b[0m\u001b[1;33m\u001b[0m\u001b[1;33m\u001b[0m\u001b[0m\n\u001b[1;32m--> 456\u001b[1;33m                                           validate_features=validate_features)\n\u001b[0m\u001b[0;32m    457\u001b[0m \u001b[1;33m\u001b[0m\u001b[0m\n\u001b[0;32m    458\u001b[0m     \u001b[1;32mdef\u001b[0m \u001b[0mapply\u001b[0m\u001b[1;33m(\u001b[0m\u001b[0mself\u001b[0m\u001b[1;33m,\u001b[0m \u001b[0mX\u001b[0m\u001b[1;33m,\u001b[0m \u001b[0mntree_limit\u001b[0m\u001b[1;33m=\u001b[0m\u001b[1;36m0\u001b[0m\u001b[1;33m)\u001b[0m\u001b[1;33m:\u001b[0m\u001b[1;33m\u001b[0m\u001b[1;33m\u001b[0m\u001b[0m\n",
      "\u001b[1;32mC:\\Users\\jaeyong\\Anaconda3\\envs\\cuda\\lib\\site-packages\\xgboost\\core.py\u001b[0m in \u001b[0;36mpredict\u001b[1;34m(self, data, output_margin, ntree_limit, pred_leaf, pred_contribs, approx_contribs, pred_interactions, validate_features)\u001b[0m\n\u001b[0;32m   1282\u001b[0m \u001b[1;33m\u001b[0m\u001b[0m\n\u001b[0;32m   1283\u001b[0m         \u001b[1;32mif\u001b[0m \u001b[0mvalidate_features\u001b[0m\u001b[1;33m:\u001b[0m\u001b[1;33m\u001b[0m\u001b[1;33m\u001b[0m\u001b[0m\n\u001b[1;32m-> 1284\u001b[1;33m             \u001b[0mself\u001b[0m\u001b[1;33m.\u001b[0m\u001b[0m_validate_features\u001b[0m\u001b[1;33m(\u001b[0m\u001b[0mdata\u001b[0m\u001b[1;33m)\u001b[0m\u001b[1;33m\u001b[0m\u001b[1;33m\u001b[0m\u001b[0m\n\u001b[0m\u001b[0;32m   1285\u001b[0m \u001b[1;33m\u001b[0m\u001b[0m\n\u001b[0;32m   1286\u001b[0m         \u001b[0mlength\u001b[0m \u001b[1;33m=\u001b[0m \u001b[0mc_bst_ulong\u001b[0m\u001b[1;33m(\u001b[0m\u001b[1;33m)\u001b[0m\u001b[1;33m\u001b[0m\u001b[1;33m\u001b[0m\u001b[0m\n",
      "\u001b[1;32mC:\\Users\\jaeyong\\Anaconda3\\envs\\cuda\\lib\\site-packages\\xgboost\\core.py\u001b[0m in \u001b[0;36m_validate_features\u001b[1;34m(self, data)\u001b[0m\n\u001b[0;32m   1688\u001b[0m \u001b[1;33m\u001b[0m\u001b[0m\n\u001b[0;32m   1689\u001b[0m                 raise ValueError(msg.format(self.feature_names,\n\u001b[1;32m-> 1690\u001b[1;33m                                             data.feature_names))\n\u001b[0m\u001b[0;32m   1691\u001b[0m \u001b[1;33m\u001b[0m\u001b[0m\n\u001b[0;32m   1692\u001b[0m     \u001b[1;32mdef\u001b[0m \u001b[0mget_split_value_histogram\u001b[0m\u001b[1;33m(\u001b[0m\u001b[0mself\u001b[0m\u001b[1;33m,\u001b[0m \u001b[0mfeature\u001b[0m\u001b[1;33m,\u001b[0m \u001b[0mfmap\u001b[0m\u001b[1;33m=\u001b[0m\u001b[1;34m''\u001b[0m\u001b[1;33m,\u001b[0m \u001b[0mbins\u001b[0m\u001b[1;33m=\u001b[0m\u001b[1;32mNone\u001b[0m\u001b[1;33m,\u001b[0m \u001b[0mas_pandas\u001b[0m\u001b[1;33m=\u001b[0m\u001b[1;32mTrue\u001b[0m\u001b[1;33m)\u001b[0m\u001b[1;33m:\u001b[0m\u001b[1;33m\u001b[0m\u001b[1;33m\u001b[0m\u001b[0m\n",
      "\u001b[1;31mValueError\u001b[0m: feature_names mismatch: ['bldng_cnt', 'bldng_ar', 'ttl_ar', 'tmprtr', 'wnd_spd', 'wnd_drctn', 'hmdt'] ['f0', 'f1', 'f2', 'f3', 'f4', 'f5', 'f6', 'f7', 'f8', 'f9', 'f10', 'f11', 'f12', 'f13', 'f14', 'f15', 'f16', 'f17', 'f18', 'f19', 'f20', 'f21', 'f22', 'f23', 'f24', 'f25', 'f26', 'f27']\nexpected tmprtr, ttl_ar, bldng_ar, hmdt, bldng_cnt, wnd_drctn, wnd_spd in input data\ntraining data did not have the following fields: f3, f15, f21, f19, f5, f4, f18, f17, f11, f1, f16, f0, f8, f6, f12, f24, f14, f25, f26, f22, f20, f7, f10, f2, f27, f13, f23, f9"
     ]
    }
   ],
   "source": [
    "for i in range(60):\n",
    "    X_train, X_test, y_train, y_test = train_test_split(X_list[i], Y_list[i],test_size = 0.2)\n",
    "    pred = models[i].predict(y_test)\n",
    "    get_clf_eval(y_test,pred,'regression')"
   ]
  },
  {
   "cell_type": "code",
   "execution_count": 27,
   "metadata": {},
   "outputs": [
    {
     "name": "stdout",
     "output_type": "stream",
     "text": [
      "[-0.10609453 -0.00128459  0.00173165 -0.00832486 -0.02901312 -0.00051944\n",
      " -0.00197949]\n",
      "r2 score : -0.5876334824158491\n",
      "mae score : 0.7035670295069877\n",
      "[-0.10519714 -0.00128702  0.00173336 -0.00832633 -0.02895895 -0.00051918\n",
      " -0.00197733]\n",
      "r2 score : -0.5876334824158491\n",
      "mae score : 0.7035670295069877\n",
      "[-0.         -0.00095045  0.0016189  -0.         -0.         -0.00030172\n",
      " -0.00021193]\n",
      "r2 score : -0.5876334824158491\n",
      "mae score : 0.7035670295069877\n"
     ]
    }
   ],
   "source": [
    "X_train, X_test, y_train, y_test = train_test_split(X_list, Y_list,test_size = 0.2)\n",
    "lr_reg = LinearRegression()\n",
    "lr_reg.fit(X_train[10], y_train[10])\n",
    "print(lr_reg.coef_)\n",
    "pred = lr_reg.predict(X_test[10])\n",
    "get_clf_eval(y_test[10],pred,'regression')\n",
    "\n",
    "ridge_reg = Ridge()\n",
    "ridge_reg.fit(X_train[10], y_train[10])\n",
    "print(ridge_reg.coef_)\n",
    "pred = lr_reg.predict(X_test[10])\n",
    "get_clf_eval(y_test[10],pred,'regression')\n",
    "\n",
    "lasso_reg = Lasso()\n",
    "lasso_reg.fit(X_train[10], y_train[10])\n",
    "print(lasso_reg.coef_)\n",
    "pred = lr_reg.predict(X_test[10])\n",
    "get_clf_eval(y_test[10],pred,'regression')"
   ]
  },
  {
   "cell_type": "code",
   "execution_count": 18,
   "metadata": {},
   "outputs": [
    {
     "name": "stderr",
     "output_type": "stream",
     "text": [
      "C:\\Users\\jaeyong\\Anaconda3\\envs\\cuda\\lib\\site-packages\\IPython\\core\\interactiveshell.py:3058: DtypeWarning: Columns (8,172,173,174,175,176,177,178,179) have mixed types. Specify dtype option on import or set low_memory=False.\n",
      "  interactivity=interactivity, compiler=compiler, result=result)\n"
     ]
    }
   ],
   "source": [
    "df = pd.read_csv(\"PJT002_train.csv\")\n",
    "#df_vali = pd.read_csv('PJT002_validation.csv')\n",
    "df_elec = df_prepro(df,True)\n",
    "X_list = [i.iloc[:,:-1] for i in df_elec]\n",
    "Y_list = [i.iloc[:,-1] for i in df_elec]\n",
    "#print(Y_list)\n",
    "#df_elec_vali = df_prepro_vali(df_vali,True)\n",
    "\n",
    "#a=df_k.loc[:,['ele_engry_us_201807','bldng_cnt','bldng_ar','ttl_ar']]\n",
    "#b=df_k.loc[:,['ele_engry_us_201807','bldng_cnt']]\n",
    "#c=df_k.loc[:,['ele_engry_us_201807','bldng_ar']]\n",
    "#d=df_k.loc[:,['ele_engry_us_201807','ttl_ar']]\n",
    "#c=pd.DataFrame(np.dot(c.values,transformation),columns=['ele_engry_us_201807','bldng_ar'])\n",
    "#d=pd.DataFrame(np.dot(c.values,transformation),columns=['ele_engry_us_201807','ttl_ar'])\n",
    "#df_list,X_list,Y_list = make_df(df_elec)\n",
    "#df_elec.columns  "
   ]
  },
  {
   "cell_type": "code",
   "execution_count": 144,
   "metadata": {},
   "outputs": [
    {
     "name": "stdout",
     "output_type": "stream",
     "text": [
      "Fitting 3 folds for each of 96 candidates, totalling 288 fits\n"
     ]
    },
    {
     "name": "stderr",
     "output_type": "stream",
     "text": [
      "[Parallel(n_jobs=10)]: Using backend LokyBackend with 10 concurrent workers.\n",
      "[Parallel(n_jobs=10)]: Done 288 out of 288 | elapsed:    5.9s finished\n",
      "C:\\Users\\jaeyong\\Anaconda3\\envs\\cuda\\lib\\site-packages\\sklearn\\model_selection\\_search.py:813: DeprecationWarning: The default of the `iid` parameter will change from True to False in version 0.22 and will be removed in 0.24. This will change numeric results when test-set sizes are unequal.\n",
      "  DeprecationWarning)\n",
      "[Parallel(n_jobs=10)]: Using backend LokyBackend with 10 concurrent workers.\n"
     ]
    },
    {
     "name": "stdout",
     "output_type": "stream",
     "text": [
      "Fitting 3 folds for each of 96 candidates, totalling 288 fits\n"
     ]
    },
    {
     "name": "stderr",
     "output_type": "stream",
     "text": [
      "[Parallel(n_jobs=10)]: Done 288 out of 288 | elapsed:    5.3s finished\n",
      "[Parallel(n_jobs=10)]: Using backend LokyBackend with 10 concurrent workers.\n"
     ]
    },
    {
     "name": "stdout",
     "output_type": "stream",
     "text": [
      "Fitting 3 folds for each of 96 candidates, totalling 288 fits\n"
     ]
    },
    {
     "name": "stderr",
     "output_type": "stream",
     "text": [
      "[Parallel(n_jobs=10)]: Done  80 tasks      | elapsed:    1.9s\n",
      "[Parallel(n_jobs=10)]: Done 269 out of 288 | elapsed:    5.1s remaining:    0.3s\n",
      "[Parallel(n_jobs=10)]: Done 288 out of 288 | elapsed:    5.5s finished\n",
      "[Parallel(n_jobs=10)]: Using backend LokyBackend with 10 concurrent workers.\n"
     ]
    },
    {
     "name": "stdout",
     "output_type": "stream",
     "text": [
      "Fitting 3 folds for each of 96 candidates, totalling 288 fits\n"
     ]
    },
    {
     "name": "stderr",
     "output_type": "stream",
     "text": [
      "[Parallel(n_jobs=10)]: Done 288 out of 288 | elapsed:    5.3s finished\n",
      "C:\\Users\\jaeyong\\Anaconda3\\envs\\cuda\\lib\\site-packages\\sklearn\\model_selection\\_search.py:813: DeprecationWarning: The default of the `iid` parameter will change from True to False in version 0.22 and will be removed in 0.24. This will change numeric results when test-set sizes are unequal.\n",
      "  DeprecationWarning)\n",
      "[Parallel(n_jobs=10)]: Using backend LokyBackend with 10 concurrent workers.\n"
     ]
    },
    {
     "name": "stdout",
     "output_type": "stream",
     "text": [
      "Fitting 3 folds for each of 96 candidates, totalling 288 fits\n"
     ]
    },
    {
     "name": "stderr",
     "output_type": "stream",
     "text": [
      "[Parallel(n_jobs=10)]: Done 288 out of 288 | elapsed:    5.3s finished\n",
      "C:\\Users\\jaeyong\\Anaconda3\\envs\\cuda\\lib\\site-packages\\sklearn\\model_selection\\_search.py:813: DeprecationWarning: The default of the `iid` parameter will change from True to False in version 0.22 and will be removed in 0.24. This will change numeric results when test-set sizes are unequal.\n",
      "  DeprecationWarning)\n",
      "[Parallel(n_jobs=10)]: Using backend LokyBackend with 10 concurrent workers.\n"
     ]
    },
    {
     "name": "stdout",
     "output_type": "stream",
     "text": [
      "Fitting 3 folds for each of 96 candidates, totalling 288 fits\n"
     ]
    },
    {
     "name": "stderr",
     "output_type": "stream",
     "text": [
      "[Parallel(n_jobs=10)]: Done 288 out of 288 | elapsed:    5.6s finished\n",
      "[Parallel(n_jobs=10)]: Using backend LokyBackend with 10 concurrent workers.\n"
     ]
    },
    {
     "name": "stdout",
     "output_type": "stream",
     "text": [
      "Fitting 3 folds for each of 96 candidates, totalling 288 fits\n"
     ]
    },
    {
     "name": "stderr",
     "output_type": "stream",
     "text": [
      "[Parallel(n_jobs=10)]: Done 288 out of 288 | elapsed:    5.5s finished\n",
      "C:\\Users\\jaeyong\\Anaconda3\\envs\\cuda\\lib\\site-packages\\sklearn\\model_selection\\_search.py:813: DeprecationWarning: The default of the `iid` parameter will change from True to False in version 0.22 and will be removed in 0.24. This will change numeric results when test-set sizes are unequal.\n",
      "  DeprecationWarning)\n",
      "[Parallel(n_jobs=10)]: Using backend LokyBackend with 10 concurrent workers.\n"
     ]
    },
    {
     "name": "stdout",
     "output_type": "stream",
     "text": [
      "Fitting 3 folds for each of 96 candidates, totalling 288 fits\n"
     ]
    },
    {
     "name": "stderr",
     "output_type": "stream",
     "text": [
      "[Parallel(n_jobs=10)]: Done  80 tasks      | elapsed:    2.2s\n",
      "[Parallel(n_jobs=10)]: Done 269 out of 288 | elapsed:    6.0s remaining:    0.3s\n",
      "[Parallel(n_jobs=10)]: Done 288 out of 288 | elapsed:    6.4s finished\n",
      "C:\\Users\\jaeyong\\Anaconda3\\envs\\cuda\\lib\\site-packages\\sklearn\\model_selection\\_search.py:813: DeprecationWarning: The default of the `iid` parameter will change from True to False in version 0.22 and will be removed in 0.24. This will change numeric results when test-set sizes are unequal.\n",
      "  DeprecationWarning)\n",
      "[Parallel(n_jobs=10)]: Using backend LokyBackend with 10 concurrent workers.\n"
     ]
    },
    {
     "name": "stdout",
     "output_type": "stream",
     "text": [
      "Fitting 3 folds for each of 96 candidates, totalling 288 fits\n"
     ]
    },
    {
     "name": "stderr",
     "output_type": "stream",
     "text": [
      "[Parallel(n_jobs=10)]: Done 100 tasks      | elapsed:    2.6s\n",
      "[Parallel(n_jobs=10)]: Done 288 out of 288 | elapsed:    6.2s finished\n",
      "[Parallel(n_jobs=10)]: Using backend LokyBackend with 10 concurrent workers.\n"
     ]
    },
    {
     "name": "stdout",
     "output_type": "stream",
     "text": [
      "Fitting 3 folds for each of 96 candidates, totalling 288 fits\n"
     ]
    },
    {
     "name": "stderr",
     "output_type": "stream",
     "text": [
      "[Parallel(n_jobs=10)]: Done 288 out of 288 | elapsed:    7.4s finished\n",
      "[Parallel(n_jobs=10)]: Using backend LokyBackend with 10 concurrent workers.\n"
     ]
    },
    {
     "name": "stdout",
     "output_type": "stream",
     "text": [
      "Fitting 3 folds for each of 96 candidates, totalling 288 fits\n"
     ]
    },
    {
     "name": "stderr",
     "output_type": "stream",
     "text": [
      "[Parallel(n_jobs=10)]: Done  80 tasks      | elapsed:    2.4s\n",
      "[Parallel(n_jobs=10)]: Done 269 out of 288 | elapsed:    6.6s remaining:    0.4s\n",
      "[Parallel(n_jobs=10)]: Done 288 out of 288 | elapsed:    7.1s finished\n",
      "C:\\Users\\jaeyong\\Anaconda3\\envs\\cuda\\lib\\site-packages\\sklearn\\model_selection\\_search.py:813: DeprecationWarning: The default of the `iid` parameter will change from True to False in version 0.22 and will be removed in 0.24. This will change numeric results when test-set sizes are unequal.\n",
      "  DeprecationWarning)\n",
      "[Parallel(n_jobs=10)]: Using backend LokyBackend with 10 concurrent workers.\n"
     ]
    },
    {
     "name": "stdout",
     "output_type": "stream",
     "text": [
      "Fitting 3 folds for each of 96 candidates, totalling 288 fits\n"
     ]
    },
    {
     "name": "stderr",
     "output_type": "stream",
     "text": [
      "[Parallel(n_jobs=10)]: Done 100 tasks      | elapsed:    2.6s\n",
      "[Parallel(n_jobs=10)]: Done 288 out of 288 | elapsed:    6.5s finished\n",
      "[Parallel(n_jobs=10)]: Using backend LokyBackend with 10 concurrent workers.\n"
     ]
    },
    {
     "name": "stdout",
     "output_type": "stream",
     "text": [
      "Fitting 3 folds for each of 96 candidates, totalling 288 fits\n"
     ]
    },
    {
     "name": "stderr",
     "output_type": "stream",
     "text": [
      "[Parallel(n_jobs=10)]: Done 100 tasks      | elapsed:    2.6s\n",
      "[Parallel(n_jobs=10)]: Done 288 out of 288 | elapsed:    6.3s finished\n",
      "[Parallel(n_jobs=10)]: Using backend LokyBackend with 10 concurrent workers.\n"
     ]
    },
    {
     "name": "stdout",
     "output_type": "stream",
     "text": [
      "Fitting 3 folds for each of 96 candidates, totalling 288 fits\n"
     ]
    },
    {
     "name": "stderr",
     "output_type": "stream",
     "text": [
      "[Parallel(n_jobs=10)]: Done 100 tasks      | elapsed:    3.0s\n",
      "[Parallel(n_jobs=10)]: Done 288 out of 288 | elapsed:    6.6s finished\n",
      "[Parallel(n_jobs=10)]: Using backend LokyBackend with 10 concurrent workers.\n"
     ]
    },
    {
     "name": "stdout",
     "output_type": "stream",
     "text": [
      "Fitting 3 folds for each of 96 candidates, totalling 288 fits\n"
     ]
    },
    {
     "name": "stderr",
     "output_type": "stream",
     "text": [
      "[Parallel(n_jobs=10)]: Done 100 tasks      | elapsed:    2.8s\n",
      "[Parallel(n_jobs=10)]: Done 288 out of 288 | elapsed:    6.5s finished\n",
      "C:\\Users\\jaeyong\\Anaconda3\\envs\\cuda\\lib\\site-packages\\sklearn\\model_selection\\_search.py:813: DeprecationWarning: The default of the `iid` parameter will change from True to False in version 0.22 and will be removed in 0.24. This will change numeric results when test-set sizes are unequal.\n",
      "  DeprecationWarning)\n",
      "[Parallel(n_jobs=10)]: Using backend LokyBackend with 10 concurrent workers.\n"
     ]
    },
    {
     "name": "stdout",
     "output_type": "stream",
     "text": [
      "Fitting 3 folds for each of 96 candidates, totalling 288 fits\n"
     ]
    },
    {
     "name": "stderr",
     "output_type": "stream",
     "text": [
      "[Parallel(n_jobs=10)]: Done 100 tasks      | elapsed:    2.7s\n",
      "[Parallel(n_jobs=10)]: Done 288 out of 288 | elapsed:    6.3s finished\n",
      "C:\\Users\\jaeyong\\Anaconda3\\envs\\cuda\\lib\\site-packages\\sklearn\\model_selection\\_search.py:813: DeprecationWarning: The default of the `iid` parameter will change from True to False in version 0.22 and will be removed in 0.24. This will change numeric results when test-set sizes are unequal.\n",
      "  DeprecationWarning)\n",
      "[Parallel(n_jobs=10)]: Using backend LokyBackend with 10 concurrent workers.\n"
     ]
    },
    {
     "name": "stdout",
     "output_type": "stream",
     "text": [
      "Fitting 3 folds for each of 96 candidates, totalling 288 fits\n"
     ]
    },
    {
     "name": "stderr",
     "output_type": "stream",
     "text": [
      "[Parallel(n_jobs=10)]: Done 100 tasks      | elapsed:    2.9s\n",
      "[Parallel(n_jobs=10)]: Done 288 out of 288 | elapsed:    6.6s finished\n",
      "[Parallel(n_jobs=10)]: Using backend LokyBackend with 10 concurrent workers.\n"
     ]
    },
    {
     "name": "stdout",
     "output_type": "stream",
     "text": [
      "Fitting 3 folds for each of 96 candidates, totalling 288 fits\n"
     ]
    },
    {
     "name": "stderr",
     "output_type": "stream",
     "text": [
      "[Parallel(n_jobs=10)]: Done 100 tasks      | elapsed:    3.0s\n",
      "[Parallel(n_jobs=10)]: Done 288 out of 288 | elapsed:    6.5s finished\n",
      "[Parallel(n_jobs=10)]: Using backend LokyBackend with 10 concurrent workers.\n"
     ]
    },
    {
     "name": "stdout",
     "output_type": "stream",
     "text": [
      "Fitting 3 folds for each of 96 candidates, totalling 288 fits\n"
     ]
    },
    {
     "name": "stderr",
     "output_type": "stream",
     "text": [
      "[Parallel(n_jobs=10)]: Done 100 tasks      | elapsed:    3.1s\n",
      "[Parallel(n_jobs=10)]: Done 288 out of 288 | elapsed:    6.7s finished\n",
      "[Parallel(n_jobs=10)]: Using backend LokyBackend with 10 concurrent workers.\n"
     ]
    },
    {
     "name": "stdout",
     "output_type": "stream",
     "text": [
      "Fitting 3 folds for each of 96 candidates, totalling 288 fits\n"
     ]
    },
    {
     "name": "stderr",
     "output_type": "stream",
     "text": [
      "[Parallel(n_jobs=10)]: Done 100 tasks      | elapsed:    3.2s\n",
      "[Parallel(n_jobs=10)]: Done 288 out of 288 | elapsed:    7.1s finished\n",
      "C:\\Users\\jaeyong\\Anaconda3\\envs\\cuda\\lib\\site-packages\\sklearn\\model_selection\\_search.py:813: DeprecationWarning: The default of the `iid` parameter will change from True to False in version 0.22 and will be removed in 0.24. This will change numeric results when test-set sizes are unequal.\n",
      "  DeprecationWarning)\n",
      "[Parallel(n_jobs=10)]: Using backend LokyBackend with 10 concurrent workers.\n"
     ]
    },
    {
     "name": "stdout",
     "output_type": "stream",
     "text": [
      "Fitting 3 folds for each of 96 candidates, totalling 288 fits\n"
     ]
    },
    {
     "name": "stderr",
     "output_type": "stream",
     "text": [
      "[Parallel(n_jobs=10)]: Done 100 tasks      | elapsed:    3.7s\n",
      "[Parallel(n_jobs=10)]: Done 288 out of 288 | elapsed:    8.1s finished\n",
      "[Parallel(n_jobs=10)]: Using backend LokyBackend with 10 concurrent workers.\n"
     ]
    },
    {
     "name": "stdout",
     "output_type": "stream",
     "text": [
      "Fitting 3 folds for each of 96 candidates, totalling 288 fits\n"
     ]
    },
    {
     "name": "stderr",
     "output_type": "stream",
     "text": [
      "[Parallel(n_jobs=10)]: Done 288 out of 288 | elapsed:    7.6s finished\n",
      "[Parallel(n_jobs=10)]: Using backend LokyBackend with 10 concurrent workers.\n"
     ]
    },
    {
     "name": "stdout",
     "output_type": "stream",
     "text": [
      "Fitting 3 folds for each of 96 candidates, totalling 288 fits\n"
     ]
    },
    {
     "name": "stderr",
     "output_type": "stream",
     "text": [
      "[Parallel(n_jobs=10)]: Done 288 out of 288 | elapsed:    7.8s finished\n",
      "[Parallel(n_jobs=10)]: Using backend LokyBackend with 10 concurrent workers.\n"
     ]
    },
    {
     "name": "stdout",
     "output_type": "stream",
     "text": [
      "Fitting 3 folds for each of 96 candidates, totalling 288 fits\n"
     ]
    },
    {
     "name": "stderr",
     "output_type": "stream",
     "text": [
      "[Parallel(n_jobs=10)]: Done 100 tasks      | elapsed:    3.5s\n",
      "[Parallel(n_jobs=10)]: Done 288 out of 288 | elapsed:    7.8s finished\n",
      "[Parallel(n_jobs=10)]: Using backend LokyBackend with 10 concurrent workers.\n"
     ]
    },
    {
     "name": "stdout",
     "output_type": "stream",
     "text": [
      "Fitting 3 folds for each of 96 candidates, totalling 288 fits\n"
     ]
    },
    {
     "name": "stderr",
     "output_type": "stream",
     "text": [
      "[Parallel(n_jobs=10)]: Done 100 tasks      | elapsed:    3.2s\n",
      "[Parallel(n_jobs=10)]: Done 288 out of 288 | elapsed:    7.5s finished\n",
      "[Parallel(n_jobs=10)]: Using backend LokyBackend with 10 concurrent workers.\n"
     ]
    },
    {
     "name": "stdout",
     "output_type": "stream",
     "text": [
      "Fitting 3 folds for each of 96 candidates, totalling 288 fits\n"
     ]
    },
    {
     "name": "stderr",
     "output_type": "stream",
     "text": [
      "[Parallel(n_jobs=10)]: Done 100 tasks      | elapsed:    3.3s\n",
      "[Parallel(n_jobs=10)]: Done 288 out of 288 | elapsed:    7.3s finished\n",
      "C:\\Users\\jaeyong\\Anaconda3\\envs\\cuda\\lib\\site-packages\\sklearn\\model_selection\\_search.py:813: DeprecationWarning: The default of the `iid` parameter will change from True to False in version 0.22 and will be removed in 0.24. This will change numeric results when test-set sizes are unequal.\n",
      "  DeprecationWarning)\n",
      "[Parallel(n_jobs=10)]: Using backend LokyBackend with 10 concurrent workers.\n"
     ]
    },
    {
     "name": "stdout",
     "output_type": "stream",
     "text": [
      "Fitting 3 folds for each of 96 candidates, totalling 288 fits\n"
     ]
    },
    {
     "name": "stderr",
     "output_type": "stream",
     "text": [
      "[Parallel(n_jobs=10)]: Done 100 tasks      | elapsed:    3.4s\n",
      "[Parallel(n_jobs=10)]: Done 288 out of 288 | elapsed:    7.6s finished\n",
      "C:\\Users\\jaeyong\\Anaconda3\\envs\\cuda\\lib\\site-packages\\sklearn\\model_selection\\_search.py:813: DeprecationWarning: The default of the `iid` parameter will change from True to False in version 0.22 and will be removed in 0.24. This will change numeric results when test-set sizes are unequal.\n",
      "  DeprecationWarning)\n",
      "[Parallel(n_jobs=10)]: Using backend LokyBackend with 10 concurrent workers.\n"
     ]
    },
    {
     "name": "stdout",
     "output_type": "stream",
     "text": [
      "Fitting 3 folds for each of 96 candidates, totalling 288 fits\n"
     ]
    },
    {
     "name": "stderr",
     "output_type": "stream",
     "text": [
      "[Parallel(n_jobs=10)]: Done 100 tasks      | elapsed:    3.5s\n",
      "[Parallel(n_jobs=10)]: Done 288 out of 288 | elapsed:    7.6s finished\n",
      "[Parallel(n_jobs=10)]: Using backend LokyBackend with 10 concurrent workers.\n"
     ]
    },
    {
     "name": "stdout",
     "output_type": "stream",
     "text": [
      "Fitting 3 folds for each of 96 candidates, totalling 288 fits\n"
     ]
    },
    {
     "name": "stderr",
     "output_type": "stream",
     "text": [
      "[Parallel(n_jobs=10)]: Done  80 tasks      | elapsed:    2.3s\n",
      "[Parallel(n_jobs=10)]: Done 269 out of 288 | elapsed:    6.8s remaining:    0.4s\n",
      "[Parallel(n_jobs=10)]: Done 288 out of 288 | elapsed:    7.4s finished\n",
      "C:\\Users\\jaeyong\\Anaconda3\\envs\\cuda\\lib\\site-packages\\sklearn\\model_selection\\_search.py:813: DeprecationWarning: The default of the `iid` parameter will change from True to False in version 0.22 and will be removed in 0.24. This will change numeric results when test-set sizes are unequal.\n",
      "  DeprecationWarning)\n",
      "[Parallel(n_jobs=10)]: Using backend LokyBackend with 10 concurrent workers.\n"
     ]
    },
    {
     "name": "stdout",
     "output_type": "stream",
     "text": [
      "Fitting 3 folds for each of 96 candidates, totalling 288 fits\n"
     ]
    },
    {
     "name": "stderr",
     "output_type": "stream",
     "text": [
      "[Parallel(n_jobs=10)]: Done 100 tasks      | elapsed:    3.0s\n",
      "[Parallel(n_jobs=10)]: Done 288 out of 288 | elapsed:    7.5s finished\n",
      "C:\\Users\\jaeyong\\Anaconda3\\envs\\cuda\\lib\\site-packages\\sklearn\\model_selection\\_search.py:813: DeprecationWarning: The default of the `iid` parameter will change from True to False in version 0.22 and will be removed in 0.24. This will change numeric results when test-set sizes are unequal.\n",
      "  DeprecationWarning)\n",
      "[Parallel(n_jobs=10)]: Using backend LokyBackend with 10 concurrent workers.\n"
     ]
    },
    {
     "name": "stdout",
     "output_type": "stream",
     "text": [
      "Fitting 3 folds for each of 96 candidates, totalling 288 fits\n"
     ]
    },
    {
     "name": "stderr",
     "output_type": "stream",
     "text": [
      "[Parallel(n_jobs=10)]: Done  40 tasks      | elapsed:    1.7s\n",
      "[Parallel(n_jobs=10)]: Done 218 tasks      | elapsed:   13.0s\n",
      "[Parallel(n_jobs=10)]: Done 288 out of 288 | elapsed:   18.3s finished\n",
      "[Parallel(n_jobs=10)]: Using backend LokyBackend with 10 concurrent workers.\n"
     ]
    },
    {
     "name": "stdout",
     "output_type": "stream",
     "text": [
      "Fitting 3 folds for each of 96 candidates, totalling 288 fits\n"
     ]
    },
    {
     "name": "stderr",
     "output_type": "stream",
     "text": [
      "[Parallel(n_jobs=10)]: Done  40 tasks      | elapsed:    1.7s\n",
      "[Parallel(n_jobs=10)]: Done 218 tasks      | elapsed:   13.7s\n",
      "[Parallel(n_jobs=10)]: Done 288 out of 288 | elapsed:   19.5s finished\n",
      "[Parallel(n_jobs=10)]: Using backend LokyBackend with 10 concurrent workers.\n"
     ]
    },
    {
     "name": "stdout",
     "output_type": "stream",
     "text": [
      "Fitting 3 folds for each of 96 candidates, totalling 288 fits\n"
     ]
    },
    {
     "name": "stderr",
     "output_type": "stream",
     "text": [
      "[Parallel(n_jobs=10)]: Done  40 tasks      | elapsed:    2.1s\n",
      "[Parallel(n_jobs=10)]: Done 217 tasks      | elapsed:   13.6s\n",
      "[Parallel(n_jobs=10)]: Done 288 out of 288 | elapsed:   18.8s finished\n",
      "[Parallel(n_jobs=10)]: Using backend LokyBackend with 10 concurrent workers.\n"
     ]
    },
    {
     "name": "stdout",
     "output_type": "stream",
     "text": [
      "Fitting 3 folds for each of 96 candidates, totalling 288 fits\n"
     ]
    },
    {
     "name": "stderr",
     "output_type": "stream",
     "text": [
      "[Parallel(n_jobs=10)]: Done  40 tasks      | elapsed:    1.7s\n",
      "[Parallel(n_jobs=10)]: Done 219 tasks      | elapsed:   13.6s\n",
      "[Parallel(n_jobs=10)]: Done 288 out of 288 | elapsed:   19.3s finished\n",
      "[Parallel(n_jobs=10)]: Using backend LokyBackend with 10 concurrent workers.\n"
     ]
    },
    {
     "name": "stdout",
     "output_type": "stream",
     "text": [
      "Fitting 3 folds for each of 96 candidates, totalling 288 fits\n"
     ]
    },
    {
     "name": "stderr",
     "output_type": "stream",
     "text": [
      "[Parallel(n_jobs=10)]: Done  40 tasks      | elapsed:    1.9s\n",
      "[Parallel(n_jobs=10)]: Done 215 tasks      | elapsed:   13.5s\n",
      "[Parallel(n_jobs=10)]: Done 288 out of 288 | elapsed:   19.0s finished\n",
      "[Parallel(n_jobs=10)]: Using backend LokyBackend with 10 concurrent workers.\n"
     ]
    },
    {
     "name": "stdout",
     "output_type": "stream",
     "text": [
      "Fitting 3 folds for each of 96 candidates, totalling 288 fits\n"
     ]
    },
    {
     "name": "stderr",
     "output_type": "stream",
     "text": [
      "[Parallel(n_jobs=10)]: Done  40 tasks      | elapsed:    1.9s\n",
      "[Parallel(n_jobs=10)]: Done 220 tasks      | elapsed:   13.3s\n",
      "[Parallel(n_jobs=10)]: Done 288 out of 288 | elapsed:   18.5s finished\n",
      "[Parallel(n_jobs=10)]: Using backend LokyBackend with 10 concurrent workers.\n"
     ]
    },
    {
     "name": "stdout",
     "output_type": "stream",
     "text": [
      "Fitting 3 folds for each of 96 candidates, totalling 288 fits\n"
     ]
    },
    {
     "name": "stderr",
     "output_type": "stream",
     "text": [
      "[Parallel(n_jobs=10)]: Done  60 tasks      | elapsed:    3.6s\n",
      "[Parallel(n_jobs=10)]: Done 288 out of 288 | elapsed:   18.4s finished\n",
      "[Parallel(n_jobs=10)]: Using backend LokyBackend with 10 concurrent workers.\n"
     ]
    },
    {
     "name": "stdout",
     "output_type": "stream",
     "text": [
      "Fitting 3 folds for each of 96 candidates, totalling 288 fits\n"
     ]
    },
    {
     "name": "stderr",
     "output_type": "stream",
     "text": [
      "[Parallel(n_jobs=10)]: Done  40 tasks      | elapsed:    1.8s\n",
      "[Parallel(n_jobs=10)]: Done 220 tasks      | elapsed:   13.4s\n",
      "[Parallel(n_jobs=10)]: Done 288 out of 288 | elapsed:   18.6s finished\n",
      "[Parallel(n_jobs=10)]: Using backend LokyBackend with 10 concurrent workers.\n"
     ]
    },
    {
     "name": "stdout",
     "output_type": "stream",
     "text": [
      "Fitting 3 folds for each of 96 candidates, totalling 288 fits\n"
     ]
    },
    {
     "name": "stderr",
     "output_type": "stream",
     "text": [
      "[Parallel(n_jobs=10)]: Done  60 tasks      | elapsed:    3.5s\n",
      "[Parallel(n_jobs=10)]: Done 288 out of 288 | elapsed:   16.9s finished\n",
      "[Parallel(n_jobs=10)]: Using backend LokyBackend with 10 concurrent workers.\n"
     ]
    },
    {
     "name": "stdout",
     "output_type": "stream",
     "text": [
      "Fitting 3 folds for each of 96 candidates, totalling 288 fits\n"
     ]
    },
    {
     "name": "stderr",
     "output_type": "stream",
     "text": [
      "[Parallel(n_jobs=10)]: Done  60 tasks      | elapsed:    3.5s\n",
      "[Parallel(n_jobs=10)]: Done 288 out of 288 | elapsed:   16.6s finished\n",
      "[Parallel(n_jobs=10)]: Using backend LokyBackend with 10 concurrent workers.\n"
     ]
    },
    {
     "name": "stdout",
     "output_type": "stream",
     "text": [
      "Fitting 3 folds for each of 96 candidates, totalling 288 fits\n"
     ]
    },
    {
     "name": "stderr",
     "output_type": "stream",
     "text": [
      "[Parallel(n_jobs=10)]: Done  60 tasks      | elapsed:    3.3s\n",
      "[Parallel(n_jobs=10)]: Done 288 out of 288 | elapsed:   16.4s finished\n",
      "[Parallel(n_jobs=10)]: Using backend LokyBackend with 10 concurrent workers.\n"
     ]
    },
    {
     "name": "stdout",
     "output_type": "stream",
     "text": [
      "Fitting 3 folds for each of 96 candidates, totalling 288 fits\n"
     ]
    },
    {
     "name": "stderr",
     "output_type": "stream",
     "text": [
      "[Parallel(n_jobs=10)]: Done  60 tasks      | elapsed:    3.4s\n",
      "[Parallel(n_jobs=10)]: Done 288 out of 288 | elapsed:   16.3s finished\n",
      "[Parallel(n_jobs=10)]: Using backend LokyBackend with 10 concurrent workers.\n"
     ]
    },
    {
     "name": "stdout",
     "output_type": "stream",
     "text": [
      "Fitting 3 folds for each of 96 candidates, totalling 288 fits\n"
     ]
    },
    {
     "name": "stderr",
     "output_type": "stream",
     "text": [
      "[Parallel(n_jobs=10)]: Done  60 tasks      | elapsed:    3.4s\n",
      "[Parallel(n_jobs=10)]: Done 288 out of 288 | elapsed:   17.0s finished\n",
      "[Parallel(n_jobs=10)]: Using backend LokyBackend with 10 concurrent workers.\n"
     ]
    },
    {
     "name": "stdout",
     "output_type": "stream",
     "text": [
      "Fitting 3 folds for each of 96 candidates, totalling 288 fits\n"
     ]
    },
    {
     "name": "stderr",
     "output_type": "stream",
     "text": [
      "[Parallel(n_jobs=10)]: Done  60 tasks      | elapsed:    3.5s\n",
      "[Parallel(n_jobs=10)]: Done 288 out of 288 | elapsed:   16.9s finished\n",
      "[Parallel(n_jobs=10)]: Using backend LokyBackend with 10 concurrent workers.\n"
     ]
    },
    {
     "name": "stdout",
     "output_type": "stream",
     "text": [
      "Fitting 3 folds for each of 96 candidates, totalling 288 fits\n"
     ]
    },
    {
     "name": "stderr",
     "output_type": "stream",
     "text": [
      "[Parallel(n_jobs=10)]: Done  40 tasks      | elapsed:    1.6s\n",
      "[Parallel(n_jobs=10)]: Done 220 tasks      | elapsed:   12.4s\n",
      "[Parallel(n_jobs=10)]: Done 288 out of 288 | elapsed:   17.2s finished\n",
      "[Parallel(n_jobs=10)]: Using backend LokyBackend with 10 concurrent workers.\n"
     ]
    },
    {
     "name": "stdout",
     "output_type": "stream",
     "text": [
      "Fitting 3 folds for each of 96 candidates, totalling 288 fits\n"
     ]
    },
    {
     "name": "stderr",
     "output_type": "stream",
     "text": [
      "[Parallel(n_jobs=10)]: Done  40 tasks      | elapsed:    1.6s\n",
      "[Parallel(n_jobs=10)]: Done 221 tasks      | elapsed:   12.4s\n",
      "[Parallel(n_jobs=10)]: Done 288 out of 288 | elapsed:   17.3s finished\n",
      "[Parallel(n_jobs=10)]: Using backend LokyBackend with 10 concurrent workers.\n"
     ]
    },
    {
     "name": "stdout",
     "output_type": "stream",
     "text": [
      "Fitting 3 folds for each of 96 candidates, totalling 288 fits\n"
     ]
    },
    {
     "name": "stderr",
     "output_type": "stream",
     "text": [
      "[Parallel(n_jobs=10)]: Done  40 tasks      | elapsed:    1.5s\n",
      "[Parallel(n_jobs=10)]: Done 219 tasks      | elapsed:   12.3s\n",
      "[Parallel(n_jobs=10)]: Done 288 out of 288 | elapsed:   17.3s finished\n",
      "[Parallel(n_jobs=10)]: Using backend LokyBackend with 10 concurrent workers.\n"
     ]
    },
    {
     "name": "stdout",
     "output_type": "stream",
     "text": [
      "Fitting 3 folds for each of 96 candidates, totalling 288 fits\n"
     ]
    },
    {
     "name": "stderr",
     "output_type": "stream",
     "text": [
      "[Parallel(n_jobs=10)]: Done  40 tasks      | elapsed:    1.6s\n",
      "[Parallel(n_jobs=10)]: Done 220 tasks      | elapsed:   12.4s\n",
      "[Parallel(n_jobs=10)]: Done 288 out of 288 | elapsed:   17.6s finished\n",
      "[Parallel(n_jobs=10)]: Using backend LokyBackend with 10 concurrent workers.\n"
     ]
    },
    {
     "name": "stdout",
     "output_type": "stream",
     "text": [
      "Fitting 3 folds for each of 96 candidates, totalling 288 fits\n"
     ]
    },
    {
     "name": "stderr",
     "output_type": "stream",
     "text": [
      "[Parallel(n_jobs=10)]: Done  60 tasks      | elapsed:    3.6s\n",
      "[Parallel(n_jobs=10)]: Done 288 out of 288 | elapsed:   17.2s finished\n",
      "[Parallel(n_jobs=10)]: Using backend LokyBackend with 10 concurrent workers.\n"
     ]
    },
    {
     "name": "stdout",
     "output_type": "stream",
     "text": [
      "Fitting 3 folds for each of 96 candidates, totalling 288 fits\n"
     ]
    },
    {
     "name": "stderr",
     "output_type": "stream",
     "text": [
      "[Parallel(n_jobs=10)]: Done  60 tasks      | elapsed:    3.2s\n",
      "[Parallel(n_jobs=10)]: Done 288 out of 288 | elapsed:   17.2s finished\n",
      "[Parallel(n_jobs=10)]: Using backend LokyBackend with 10 concurrent workers.\n"
     ]
    },
    {
     "name": "stdout",
     "output_type": "stream",
     "text": [
      "Fitting 3 folds for each of 96 candidates, totalling 288 fits\n"
     ]
    },
    {
     "name": "stderr",
     "output_type": "stream",
     "text": [
      "[Parallel(n_jobs=10)]: Done  60 tasks      | elapsed:    3.6s\n",
      "[Parallel(n_jobs=10)]: Done 288 out of 288 | elapsed:   18.0s finished\n",
      "[Parallel(n_jobs=10)]: Using backend LokyBackend with 10 concurrent workers.\n"
     ]
    },
    {
     "name": "stdout",
     "output_type": "stream",
     "text": [
      "Fitting 3 folds for each of 96 candidates, totalling 288 fits\n"
     ]
    },
    {
     "name": "stderr",
     "output_type": "stream",
     "text": [
      "[Parallel(n_jobs=10)]: Done  60 tasks      | elapsed:    3.8s\n",
      "[Parallel(n_jobs=10)]: Done 288 out of 288 | elapsed:   17.6s finished\n",
      "[Parallel(n_jobs=10)]: Using backend LokyBackend with 10 concurrent workers.\n"
     ]
    },
    {
     "name": "stdout",
     "output_type": "stream",
     "text": [
      "Fitting 3 folds for each of 96 candidates, totalling 288 fits\n"
     ]
    },
    {
     "name": "stderr",
     "output_type": "stream",
     "text": [
      "[Parallel(n_jobs=10)]: Done  60 tasks      | elapsed:    3.5s\n",
      "[Parallel(n_jobs=10)]: Done 288 out of 288 | elapsed:   17.1s finished\n",
      "[Parallel(n_jobs=10)]: Using backend LokyBackend with 10 concurrent workers.\n"
     ]
    },
    {
     "name": "stdout",
     "output_type": "stream",
     "text": [
      "Fitting 3 folds for each of 96 candidates, totalling 288 fits\n"
     ]
    },
    {
     "name": "stderr",
     "output_type": "stream",
     "text": [
      "[Parallel(n_jobs=10)]: Done  40 tasks      | elapsed:    1.6s\n",
      "[Parallel(n_jobs=10)]: Done 222 tasks      | elapsed:   12.5s\n",
      "[Parallel(n_jobs=10)]: Done 288 out of 288 | elapsed:   17.3s finished\n",
      "[Parallel(n_jobs=10)]: Using backend LokyBackend with 10 concurrent workers.\n"
     ]
    },
    {
     "name": "stdout",
     "output_type": "stream",
     "text": [
      "Fitting 3 folds for each of 96 candidates, totalling 288 fits\n"
     ]
    },
    {
     "name": "stderr",
     "output_type": "stream",
     "text": [
      "[Parallel(n_jobs=10)]: Done  60 tasks      | elapsed:    3.5s\n",
      "[Parallel(n_jobs=10)]: Done 288 out of 288 | elapsed:   16.9s finished\n",
      "[Parallel(n_jobs=10)]: Using backend LokyBackend with 10 concurrent workers.\n"
     ]
    },
    {
     "name": "stdout",
     "output_type": "stream",
     "text": [
      "Fitting 3 folds for each of 96 candidates, totalling 288 fits\n"
     ]
    },
    {
     "name": "stderr",
     "output_type": "stream",
     "text": [
      "[Parallel(n_jobs=10)]: Done  60 tasks      | elapsed:    3.5s\n",
      "[Parallel(n_jobs=10)]: Done 288 out of 288 | elapsed:   17.1s finished\n",
      "[Parallel(n_jobs=10)]: Using backend LokyBackend with 10 concurrent workers.\n"
     ]
    },
    {
     "name": "stdout",
     "output_type": "stream",
     "text": [
      "Fitting 3 folds for each of 96 candidates, totalling 288 fits\n"
     ]
    },
    {
     "name": "stderr",
     "output_type": "stream",
     "text": [
      "[Parallel(n_jobs=10)]: Done  60 tasks      | elapsed:    3.6s\n",
      "[Parallel(n_jobs=10)]: Done 288 out of 288 | elapsed:   17.4s finished\n",
      "[Parallel(n_jobs=10)]: Using backend LokyBackend with 10 concurrent workers.\n"
     ]
    },
    {
     "name": "stdout",
     "output_type": "stream",
     "text": [
      "Fitting 3 folds for each of 96 candidates, totalling 288 fits\n"
     ]
    },
    {
     "name": "stderr",
     "output_type": "stream",
     "text": [
      "[Parallel(n_jobs=10)]: Done  60 tasks      | elapsed:    3.5s\n",
      "[Parallel(n_jobs=10)]: Done 288 out of 288 | elapsed:   17.1s finished\n",
      "[Parallel(n_jobs=10)]: Using backend LokyBackend with 10 concurrent workers.\n"
     ]
    },
    {
     "name": "stdout",
     "output_type": "stream",
     "text": [
      "Fitting 3 folds for each of 96 candidates, totalling 288 fits\n"
     ]
    },
    {
     "name": "stderr",
     "output_type": "stream",
     "text": [
      "[Parallel(n_jobs=10)]: Done  60 tasks      | elapsed:    3.5s\n",
      "[Parallel(n_jobs=10)]: Done 288 out of 288 | elapsed:   17.4s finished\n",
      "[Parallel(n_jobs=10)]: Using backend LokyBackend with 10 concurrent workers.\n"
     ]
    },
    {
     "name": "stdout",
     "output_type": "stream",
     "text": [
      "Fitting 3 folds for each of 96 candidates, totalling 288 fits\n"
     ]
    },
    {
     "name": "stderr",
     "output_type": "stream",
     "text": [
      "[Parallel(n_jobs=10)]: Done  60 tasks      | elapsed:    3.3s\n",
      "[Parallel(n_jobs=10)]: Done 288 out of 288 | elapsed:   17.4s finished\n"
     ]
    }
   ],
   "source": [
    "list_esti=[]\n",
    "list_grid=[]\n",
    "for i in range(60):\n",
    "    \n",
    "    X_train, X_test, y_train, y_test = train_test_split(X_list[i], Y_list[i],test_size = 0.2)\n",
    "    evals = [(X_test, y_test)]\n",
    "    estimator = xgb.XGBRegressor(objective ='reg:squarederror')\n",
    "\n",
    "    parameters = {\n",
    "        'max_depth': range (2, 10, 1),\n",
    "        'n_estimators': range(60, 220, 40),\n",
    "        'learning_rate': [0.1, 0.01, 0.05]\n",
    "    }\n",
    "\n",
    "    grid_search = GridSearchCV(\n",
    "        estimator=estimator,\n",
    "        param_grid=parameters,\n",
    "        scoring = 'neg_mean_squared_error',\n",
    "        n_jobs = 10,\n",
    "        cv = 3,\n",
    "        verbose=True\n",
    "    )\n",
    "\n",
    "    grid_search.fit(X_train, y_train)\n",
    "    list_esti.append(grid_search.best_estimator_)\n",
    "    list_grid.append(grid_search)"
   ]
  },
  {
   "cell_type": "code",
   "execution_count": 145,
   "metadata": {},
   "outputs": [],
   "source": [
    "list_year=['2014','2015','2016','2017','2018']\n",
    "list_mon=['01','02','03','04','05','06','07','08','09','10','11','12']\n",
    "for a,i in enumerate(list_year):\n",
    "    for b,j in enumerate(list_mon):\n",
    "        index = 12*a+b \n",
    "        filename_list ='estimator' + i + j +'.sav'\n",
    "        pickle.dump(list_esti[index], open(filename_list, 'wb'))\n",
    "        \n",
    "for a,i in enumerate(list_year):\n",
    "    for b,j in enumerate(list_mon):\n",
    "        index = 12*a+b \n",
    "        filename_list ='bestparm' + i + j +'.sav'\n",
    "        pickle.dump(list_grid[index], open(filename_list, 'wb'))"
   ]
  },
  {
   "cell_type": "code",
   "execution_count": 146,
   "metadata": {},
   "outputs": [
    {
     "name": "stdout",
     "output_type": "stream",
     "text": [
      "-0.6907711602337039\n",
      "-0.5595299256878034\n",
      "-0.535506963596996\n",
      "-0.6189739231771986\n",
      "-0.5267936858470014\n",
      "-0.4212169571215727\n",
      "-0.4063216494785027\n",
      "-0.546933910567123\n",
      "-0.5427859225773513\n",
      "-0.7109029377715983\n",
      "-0.5722072783058241\n",
      "-0.5217265355305614\n",
      "-0.5273184545880039\n",
      "-0.5661420771487311\n",
      "-0.43897336312585605\n",
      "-0.49924001887625297\n",
      "-0.5306218209091401\n",
      "-0.5297779064126796\n",
      "-0.4859166008704696\n",
      "-0.6056629689213352\n",
      "-0.7208504210596167\n",
      "-0.7123048867029235\n",
      "-0.80074312297343\n",
      "-0.7427106454072953\n",
      "-0.749847518842008\n",
      "-0.7073543067780621\n",
      "-0.7570637959193544\n",
      "-0.7363421018476886\n",
      "-0.6519079578628\n",
      "-0.6637477778077361\n",
      "-0.6456374088050667\n",
      "-0.6617359035230622\n",
      "-0.6510691038056218\n",
      "-0.6495741826801101\n",
      "-0.6450505242585955\n",
      "-0.6469579245880015\n",
      "-0.6520857369005734\n",
      "-0.6542683872137611\n",
      "-0.5919421856327092\n",
      "-0.573629223195094\n",
      "-0.5546288025967064\n",
      "-0.5719755740036101\n",
      "-0.5573109528081438\n",
      "-0.5729559828004748\n",
      "-0.5634638808797185\n",
      "-0.5429587947587852\n",
      "-0.5711375815417646\n",
      "-0.6077499454041174\n",
      "-0.6069100363717117\n",
      "-0.5983015515824006\n",
      "-0.5700445106050075\n",
      "-0.5661118631934761\n",
      "-0.5456999101658989\n",
      "-0.5764451068285446\n",
      "-0.5853291160150463\n",
      "-0.5932000137085139\n",
      "-0.5881725796926578\n",
      "-0.5847171728629098\n",
      "-0.5682928201621914\n",
      "-0.5752331854799208\n"
     ]
    }
   ],
   "source": [
    "for i in list_grid:\n",
    "    print(i.best_score_)"
   ]
  },
  {
   "cell_type": "code",
   "execution_count": 19,
   "metadata": {},
   "outputs": [],
   "source": [
    "#모델 가져오기~\n",
    "list_year=['2014','2015','2016','2017','2018']\n",
    "list_mon=['01','02','03','04','05','06','07','08','09','10','11','12']\n",
    "models=list(range(60))\n",
    "grids=list(range(60))\n",
    "for a,i in enumerate(list_year):\n",
    "    for b,j in enumerate(list_mon):\n",
    "        index = 12*a+b \n",
    "        filename_list ='estimator' + i + j +'.sav'\n",
    "        models[index] = pickle.load(open(filename_list, 'rb'))\n",
    "        \n",
    "for a,i in enumerate(list_year):\n",
    "    for b,j in enumerate(list_mon):\n",
    "        index = 12*a+b \n",
    "        filename_list ='bestparm' + i + j +'.sav'\n",
    "        grids[index] = pickle.load(open(filename_list, 'rb'))\n",
    "        "
   ]
  },
  {
   "cell_type": "code",
   "execution_count": 20,
   "metadata": {},
   "outputs": [
    {
     "name": "stdout",
     "output_type": "stream",
     "text": [
      "r2 score : 0.12252858895841545\n",
      "mae score : 0.5714001205421461\n",
      "r2 score : -0.14238355483321863\n",
      "mae score : 0.5712132969198007\n",
      "r2 score : 0.11666665372518947\n",
      "mae score : 0.34191131351796095\n",
      "r2 score : 0.05112201532817673\n",
      "mae score : 0.3790555203118972\n",
      "r2 score : 0.2275149274460776\n",
      "mae score : 0.4406080164606697\n",
      "r2 score : 0.3437773649446826\n",
      "mae score : 0.38056881579317214\n",
      "r2 score : 0.30668628028842093\n",
      "mae score : 0.34995542709060096\n",
      "r2 score : 0.14400856387847127\n",
      "mae score : 0.5357968170660139\n",
      "r2 score : 0.07886875491121104\n",
      "mae score : 0.4817000693362922\n",
      "r2 score : 0.023613378251215567\n",
      "mae score : 0.7186585226136564\n",
      "r2 score : 0.20394766943803733\n",
      "mae score : 0.4956556806190221\n",
      "r2 score : 0.11442581036783162\n",
      "mae score : 0.527105816817291\n",
      "r2 score : 0.15817106072492348\n",
      "mae score : 0.4295520844407483\n",
      "r2 score : -0.020838938679978103\n",
      "mae score : 0.5593004662067891\n",
      "r2 score : 0.17571870261928413\n",
      "mae score : 0.4498910211012269\n",
      "r2 score : 0.1706503502688277\n",
      "mae score : 0.4633389305084167\n",
      "r2 score : 0.15613701003972058\n",
      "mae score : 0.5433217896502271\n",
      "r2 score : 0.1638409814682662\n",
      "mae score : 0.5102223729480916\n",
      "r2 score : 0.11162579094271952\n",
      "mae score : 0.4905380122581104\n",
      "r2 score : 0.0764102697445691\n",
      "mae score : 0.5561296985958005\n",
      "r2 score : 0.06170940751235077\n",
      "mae score : 0.5951921828929863\n",
      "r2 score : 0.16398468872158456\n",
      "mae score : 0.5622077131445887\n",
      "r2 score : 0.033541319434704286\n",
      "mae score : 0.5687146203215335\n",
      "r2 score : 0.11635041153816617\n",
      "mae score : 0.6674459825105171\n",
      "r2 score : 0.05165088347718738\n",
      "mae score : 0.6273758115152926\n",
      "r2 score : 0.08227597333501668\n",
      "mae score : 0.551565355730151\n",
      "r2 score : -0.010265387385120173\n",
      "mae score : 0.6354448736155069\n",
      "r2 score : 0.11717872860920331\n",
      "mae score : 0.5575804486064716\n",
      "r2 score : 0.11516884532887317\n",
      "mae score : 0.5874792523961213\n",
      "r2 score : 0.2782033323558938\n",
      "mae score : 0.5269518829101377\n",
      "r2 score : 0.17135976676356912\n",
      "mae score : 0.6033254718835172\n",
      "r2 score : 0.14403325820154278\n",
      "mae score : 0.6053531477863462\n",
      "r2 score : 0.22903328548816693\n",
      "mae score : 0.5855727850207887\n",
      "r2 score : 0.15630580014388773\n",
      "mae score : 0.6072223517589166\n",
      "r2 score : 0.20939377042352814\n",
      "mae score : 0.5894986556190799\n",
      "r2 score : 0.18172488593434377\n",
      "mae score : 0.6285731105290292\n",
      "r2 score : 0.15279131580655658\n",
      "mae score : 0.6219624372010828\n",
      "r2 score : 0.19478451362315108\n",
      "mae score : 0.631287760315458\n",
      "r2 score : 0.28874846064323856\n",
      "mae score : 0.5438436045417683\n",
      "r2 score : 0.2806464251740707\n",
      "mae score : 0.5698863783071259\n",
      "r2 score : 0.2831787199587411\n",
      "mae score : 0.5599664392575437\n",
      "r2 score : 0.2501082484741053\n",
      "mae score : 0.5788923032353207\n",
      "r2 score : 0.2779044542130147\n",
      "mae score : 0.5431809431163069\n",
      "r2 score : 0.2907413634012985\n",
      "mae score : 0.566603341147129\n",
      "r2 score : 0.28037902733992903\n",
      "mae score : 0.5647609338554295\n",
      "r2 score : 0.27863002346010146\n",
      "mae score : 0.5860302627882185\n",
      "r2 score : 0.23696835711965603\n",
      "mae score : 0.5628124837503798\n",
      "r2 score : 0.2594582915932002\n",
      "mae score : 0.580841133122165\n",
      "r2 score : 0.26342550929999964\n",
      "mae score : 0.5809717262931322\n",
      "r2 score : 0.22015796264067045\n",
      "mae score : 0.5966483751731148\n",
      "r2 score : 0.2598022469634277\n",
      "mae score : 0.5713013687642655\n",
      "r2 score : 0.3050961595926931\n",
      "mae score : 0.5564336925377402\n",
      "r2 score : 0.2555841019568633\n",
      "mae score : 0.5217920375513013\n",
      "r2 score : 0.22583939589580193\n",
      "mae score : 0.5604964183210853\n",
      "r2 score : 0.28004550788526206\n",
      "mae score : 0.5472872819974276\n",
      "r2 score : 0.2737064894612994\n",
      "mae score : 0.5463462582385691\n",
      "r2 score : 0.27628387200851356\n",
      "mae score : 0.5760817841001106\n",
      "r2 score : 0.2616807172831612\n",
      "mae score : 0.5404221506590252\n",
      "r2 score : 0.21190538844104634\n",
      "mae score : 0.5825635990726739\n",
      "r2 score : 0.2959273855452965\n",
      "mae score : 0.5714476092278384\n"
     ]
    }
   ],
   "source": [
    "for i in range(60):\n",
    "    X_train, X_test, y_train, y_test = train_test_split(X_list[i], Y_list[i],test_size = 0.2)\n",
    "    pred = models[i].predict(X_test)\n",
    "    get_clf_eval(y_test,pred,'regression')"
   ]
  },
  {
   "cell_type": "code",
   "execution_count": 34,
   "metadata": {},
   "outputs": [
    {
     "name": "stdout",
     "output_type": "stream",
     "text": [
      "[-0.06708809 -0.00249221  0.00322239 -0.00017015  0.04255398 -0.00019459\n",
      "  0.00010083]\n",
      "[-0.06707002 -0.00249234  0.00322245 -0.00016984  0.04254101 -0.00019455\n",
      "  0.00010061]\n",
      "[-0.         -0.00252164  0.00316448  0.          0.         -0.\n",
      " -0.        ]\n",
      "RMSE: 0.7778549213805367\n",
      "RMSE: 0.777854493383971\n",
      "RMSE: 0.7870334458649483\n"
     ]
    },
    {
     "data": {
      "text/plain": [
       "[0.7778549213805367, 0.777854493383971, 0.7870334458649483]"
      ]
     },
     "execution_count": 34,
     "metadata": {},
     "output_type": "execute_result"
    }
   ],
   "source": [
    "lr_reg = LinearRegression()\n",
    "lr_reg.fit(X_train, y_train)\n",
    "print(lr_reg.coef_)\n",
    "\n",
    "ridge_reg = Ridge()\n",
    "ridge_reg.fit(X_train, y_train)\n",
    "print(ridge_reg.coef_)\n",
    "\n",
    "lasso_reg = Lasso()\n",
    "lasso_reg.fit(X_train, y_train)\n",
    "print(lasso_reg.coef_)\n",
    "\n",
    "models = [lr_reg, ridge_reg, lasso_reg]\n",
    "get_rmses(models)"
   ]
  },
  {
   "cell_type": "markdown",
   "metadata": {},
   "source": [
    "# ---------------------------------------------------------------------------------------------------------"
   ]
  },
  {
   "cell_type": "code",
   "execution_count": 19,
   "metadata": {},
   "outputs": [
    {
     "name": "stderr",
     "output_type": "stream",
     "text": [
      "C:\\Users\\jaeyong\\Anaconda3\\envs\\cuda\\lib\\site-packages\\IPython\\core\\interactiveshell.py:3058: DtypeWarning: Columns (8,172,173,174,175,176,177,178,179) have mixed types. Specify dtype option on import or set low_memory=False.\n",
      "  interactivity=interactivity, compiler=compiler, result=result)\n",
      "C:\\Users\\jaeyong\\Anaconda3\\envs\\cuda\\lib\\site-packages\\pandas\\core\\series.py:853: RuntimeWarning: divide by zero encountered in log10\n",
      "  result = getattr(ufunc, method)(*inputs, **kwargs)\n",
      "C:\\Users\\jaeyong\\Anaconda3\\envs\\cuda\\lib\\site-packages\\pandas\\core\\series.py:853: RuntimeWarning: invalid value encountered in log10\n",
      "  result = getattr(ufunc, method)(*inputs, **kwargs)\n"
     ]
    },
    {
     "data": {
      "text/html": [
       "<div>\n",
       "<style scoped>\n",
       "    .dataframe tbody tr th:only-of-type {\n",
       "        vertical-align: middle;\n",
       "    }\n",
       "\n",
       "    .dataframe tbody tr th {\n",
       "        vertical-align: top;\n",
       "    }\n",
       "\n",
       "    .dataframe thead th {\n",
       "        text-align: right;\n",
       "    }\n",
       "</style>\n",
       "<table border=\"1\" class=\"dataframe\">\n",
       "  <thead>\n",
       "    <tr style=\"text-align: right;\">\n",
       "      <th></th>\n",
       "      <th>ele_engry_us_201808</th>\n",
       "      <th>bldng_cnt</th>\n",
       "      <th>bldng_ar</th>\n",
       "      <th>ttl_ar</th>\n",
       "      <th>tmprtr</th>\n",
       "      <th>wnd_spd</th>\n",
       "      <th>wnd_drctn</th>\n",
       "      <th>hmdt</th>\n",
       "    </tr>\n",
       "  </thead>\n",
       "  <tbody>\n",
       "    <tr>\n",
       "      <th>count</th>\n",
       "      <td>2625.000000</td>\n",
       "      <td>2625.000000</td>\n",
       "      <td>2625.000000</td>\n",
       "      <td>2625.000000</td>\n",
       "      <td>2625.000000</td>\n",
       "      <td>2625.000000</td>\n",
       "      <td>2625.000000</td>\n",
       "      <td>2625.000000</td>\n",
       "    </tr>\n",
       "    <tr>\n",
       "      <th>mean</th>\n",
       "      <td>3.244667</td>\n",
       "      <td>0.427190</td>\n",
       "      <td>1.981515</td>\n",
       "      <td>2.174686</td>\n",
       "      <td>1.111547</td>\n",
       "      <td>0.373930</td>\n",
       "      <td>1.825295</td>\n",
       "      <td>1.780618</td>\n",
       "    </tr>\n",
       "    <tr>\n",
       "      <th>std</th>\n",
       "      <td>0.812686</td>\n",
       "      <td>0.161201</td>\n",
       "      <td>0.466581</td>\n",
       "      <td>0.411679</td>\n",
       "      <td>0.356474</td>\n",
       "      <td>0.203973</td>\n",
       "      <td>0.884304</td>\n",
       "      <td>0.198274</td>\n",
       "    </tr>\n",
       "    <tr>\n",
       "      <th>min</th>\n",
       "      <td>0.301030</td>\n",
       "      <td>0.301030</td>\n",
       "      <td>0.000000</td>\n",
       "      <td>0.000000</td>\n",
       "      <td>-1.000000</td>\n",
       "      <td>0.000000</td>\n",
       "      <td>0.000000</td>\n",
       "      <td>0.000000</td>\n",
       "    </tr>\n",
       "    <tr>\n",
       "      <th>25%</th>\n",
       "      <td>2.682145</td>\n",
       "      <td>0.301030</td>\n",
       "      <td>1.896636</td>\n",
       "      <td>2.003374</td>\n",
       "      <td>0.924279</td>\n",
       "      <td>0.230449</td>\n",
       "      <td>1.707570</td>\n",
       "      <td>1.672098</td>\n",
       "    </tr>\n",
       "    <tr>\n",
       "      <th>50%</th>\n",
       "      <td>3.172019</td>\n",
       "      <td>0.301030</td>\n",
       "      <td>2.060547</td>\n",
       "      <td>2.250005</td>\n",
       "      <td>1.230449</td>\n",
       "      <td>0.361728</td>\n",
       "      <td>2.206826</td>\n",
       "      <td>1.832509</td>\n",
       "    </tr>\n",
       "    <tr>\n",
       "      <th>75%</th>\n",
       "      <td>3.652150</td>\n",
       "      <td>0.477121</td>\n",
       "      <td>2.230653</td>\n",
       "      <td>2.430462</td>\n",
       "      <td>1.374748</td>\n",
       "      <td>0.531479</td>\n",
       "      <td>2.432969</td>\n",
       "      <td>1.939519</td>\n",
       "    </tr>\n",
       "    <tr>\n",
       "      <th>max</th>\n",
       "      <td>6.060037</td>\n",
       "      <td>0.954243</td>\n",
       "      <td>2.503682</td>\n",
       "      <td>2.662796</td>\n",
       "      <td>1.571709</td>\n",
       "      <td>1.107210</td>\n",
       "      <td>2.557507</td>\n",
       "      <td>2.004321</td>\n",
       "    </tr>\n",
       "  </tbody>\n",
       "</table>\n",
       "</div>"
      ],
      "text/plain": [
       "       ele_engry_us_201808    bldng_cnt     bldng_ar       ttl_ar  \\\n",
       "count          2625.000000  2625.000000  2625.000000  2625.000000   \n",
       "mean              3.244667     0.427190     1.981515     2.174686   \n",
       "std               0.812686     0.161201     0.466581     0.411679   \n",
       "min               0.301030     0.301030     0.000000     0.000000   \n",
       "25%               2.682145     0.301030     1.896636     2.003374   \n",
       "50%               3.172019     0.301030     2.060547     2.250005   \n",
       "75%               3.652150     0.477121     2.230653     2.430462   \n",
       "max               6.060037     0.954243     2.503682     2.662796   \n",
       "\n",
       "            tmprtr      wnd_spd    wnd_drctn         hmdt  \n",
       "count  2625.000000  2625.000000  2625.000000  2625.000000  \n",
       "mean      1.111547     0.373930     1.825295     1.780618  \n",
       "std       0.356474     0.203973     0.884304     0.198274  \n",
       "min      -1.000000     0.000000     0.000000     0.000000  \n",
       "25%       0.924279     0.230449     1.707570     1.672098  \n",
       "50%       1.230449     0.361728     2.206826     1.832509  \n",
       "75%       1.374748     0.531479     2.432969     1.939519  \n",
       "max       1.571709     1.107210     2.557507     2.004321  "
      ]
     },
     "execution_count": 19,
     "metadata": {},
     "output_type": "execute_result"
    }
   ],
   "source": [
    "df = pd.read_csv(\"PJT002_train.csv\")\n",
    "df_vali = pd.read_csv('PJT002_validation.csv')\n",
    "\n",
    "df_elec = df_buli(df,True)\n",
    "#a=df_k.loc[:,['ele_engry_us_201807','bldng_cnt','bldng_ar','ttl_ar']]\n",
    "#b=df_k.loc[:,['ele_engry_us_201807','bldng_cnt']]\n",
    "#c=df_k.loc[:,['ele_engry_us_201807','bldng_ar']]\n",
    "#d=df_k.loc[:,['ele_engry_us_201807','ttl_ar']]\n",
    "#c=pd.DataFrame(np.dot(c.values,transformation),columns=['ele_engry_us_201807','bldng_ar'])\n",
    "#d=pd.DataFrame(np.dot(c.values,transformation),columns=['ele_engry_us_201807','ttl_ar'])\n",
    "df_elec = df_elec.dropna()\n",
    "a=df_elec.loc[:,['ele_engry_us_201808','bldng_cnt','bldng_ar','ttl_ar','tmprtr','wnd_spd','wnd_drctn','hmdt']]\n",
    "a=a.replace([np.inf, -np.inf], np.nan)\n",
    "a=a.dropna()\n",
    "#for i in a.columns[1:]:\n",
    "    #a[i]=a[i].apply(lambda x: np.log10(x+2))\n",
    "X=a.iloc[:,1:]\n",
    "Y=a.iloc[:,0]\n",
    "a.describe()"
   ]
  },
  {
   "cell_type": "code",
   "execution_count": 20,
   "metadata": {},
   "outputs": [],
   "source": [
    "X_train, X_test, y_train, y_test = train_test_split(X, Y,test_size = 0.2)"
   ]
  },
  {
   "cell_type": "code",
   "execution_count": 51,
   "metadata": {},
   "outputs": [
    {
     "name": "stderr",
     "output_type": "stream",
     "text": [
      "[Parallel(n_jobs=10)]: Using backend LokyBackend with 10 concurrent workers.\n"
     ]
    },
    {
     "name": "stdout",
     "output_type": "stream",
     "text": [
      "Fitting 10 folds for each of 96 candidates, totalling 960 fits\n"
     ]
    },
    {
     "name": "stderr",
     "output_type": "stream",
     "text": [
      "[Parallel(n_jobs=10)]: Done  30 tasks      | elapsed:    4.4s\n",
      "[Parallel(n_jobs=10)]: Done 180 tasks      | elapsed:   11.3s\n",
      "[Parallel(n_jobs=10)]: Done 430 tasks      | elapsed:   28.6s\n",
      "[Parallel(n_jobs=10)]: Done 780 tasks      | elapsed:   51.8s\n"
     ]
    },
    {
     "name": "stdout",
     "output_type": "stream",
     "text": [
      "-1056993718.3430303\n",
      "{'learning_rate': 0.1, 'max_depth': 2, 'n_estimators': 60}\n"
     ]
    },
    {
     "name": "stderr",
     "output_type": "stream",
     "text": [
      "[Parallel(n_jobs=10)]: Done 960 out of 960 | elapsed:  1.1min finished\n",
      "C:\\Users\\jaeyong\\Anaconda3\\envs\\cuda\\lib\\site-packages\\sklearn\\model_selection\\_search.py:813: DeprecationWarning: The default of the `iid` parameter will change from True to False in version 0.22 and will be removed in 0.24. This will change numeric results when test-set sizes are unequal.\n",
      "  DeprecationWarning)\n",
      "C:\\Users\\jaeyong\\Anaconda3\\envs\\cuda\\lib\\site-packages\\xgboost\\core.py:587: FutureWarning: Series.base is deprecated and will be removed in a future version\n",
      "  if getattr(data, 'base', None) is not None and \\\n",
      "C:\\Users\\jaeyong\\Anaconda3\\envs\\cuda\\lib\\site-packages\\xgboost\\core.py:588: FutureWarning: Series.base is deprecated and will be removed in a future version\n",
      "  data.base is not None and isinstance(data, np.ndarray) \\\n"
     ]
    }
   ],
   "source": [
    "for \n",
    "evals = [(X_test, y_test)]\n",
    "estimator = xgb.XGBRegressor(objective ='reg:squarederror')\n",
    "\n",
    "parameters = {\n",
    "    'max_depth': range (2, 10, 1),\n",
    "    'n_estimators': range(60, 220, 40),\n",
    "    'learning_rate': [0.1, 0.01, 0.05]\n",
    "}\n",
    "\n",
    "grid_search = GridSearchCV(\n",
    "    estimator=estimator,\n",
    "    param_grid=parameters,\n",
    "    scoring = 'neg_mean_squared_error',\n",
    "    n_jobs = 10,\n",
    "    cv = 10,\n",
    "    verbose=True\n",
    ")\n",
    "\n",
    "grid_search.fit(X, Y)\n",
    "\n",
    "print(grid_search.best_score_)\n",
    "print(grid_search.best_params_)\n",
    "best_estimator = grid_search.best_estimator_"
   ]
  },
  {
   "cell_type": "code",
   "execution_count": 21,
   "metadata": {},
   "outputs": [
    {
     "name": "stdout",
     "output_type": "stream",
     "text": [
      "[-0.74697289 -0.4958367   0.68510984  0.09009024  0.24609911 -0.02162005\n",
      "  0.02948686]\n",
      "[-0.73482487 -0.49318988  0.68085719  0.08989126  0.24143664 -0.02090855\n",
      "  0.02869296]\n",
      "[-0. -0.  0.  0.  0.  0.  0.]\n",
      "RMSE: 0.7813620998684692\n",
      "RMSE: 0.7814481397248848\n",
      "RMSE: 0.8293021686505325\n"
     ]
    },
    {
     "data": {
      "text/plain": [
       "[0.7813620998684692, 0.7814481397248848, 0.8293021686505325]"
      ]
     },
     "execution_count": 21,
     "metadata": {},
     "output_type": "execute_result"
    }
   ],
   "source": [
    "lr_reg = LinearRegression()\n",
    "lr_reg.fit(X_train, y_train)\n",
    "print(lr_reg.coef_)\n",
    "\n",
    "ridge_reg = Ridge()\n",
    "ridge_reg.fit(X_train, y_train)\n",
    "print(ridge_reg.coef_)\n",
    "\n",
    "lasso_reg = Lasso()\n",
    "lasso_reg.fit(X_train, y_train)\n",
    "print(lasso_reg.coef_)\n",
    "\n",
    "models = [lr_reg, ridge_reg, lasso_reg]\n",
    "get_rmses(models)"
   ]
  },
  {
   "cell_type": "code",
   "execution_count": 27,
   "metadata": {},
   "outputs": [
    {
     "data": {
      "image/png": "[encoded data removed]",
      "text/plain": [
       "<Figure size 1152x1440 with 8 Axes>"
      ]
     },
     "metadata": {
      "needs_background": "light"
     },
     "output_type": "display_data"
    }
   ],
   "source": [
    "fig,axs = plt.subplots(4,2,figsize=(16,20))\n",
    "axx = axs.flatten()\n",
    "for index, i in enumerate(list(a.columns)):\n",
    "    sns.distplot(a[i], kde=True, rug=False,ax=axx[index])"
   ]
  },
  {
   "cell_type": "code",
   "execution_count": null,
   "metadata": {},
   "outputs": [],
   "source": []
  }
 ],
 "metadata": {
  "kernelspec": {
   "display_name": "Python 3",
   "language": "python",
   "name": "python3"
  },
  "language_info": {
   "codemirror_mode": {
    "name": "ipython",
    "version": 3
   },
   "file_extension": ".py",
   "mimetype": "text/x-python",
   "name": "python",
   "nbconvert_exporter": "python",
   "pygments_lexer": "ipython3",
   "version": "3.6.8"
  }
 },
 "nbformat": 4,
 "nbformat_minor": 2
}
