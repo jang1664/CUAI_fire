{
 "cells": [
  {
   "cell_type": "markdown",
   "metadata": {},
   "source": [
    "train data -> N:51542, Y:7657 개\n",
    "\n",
    "0, np.nan 값 다 드랍\n",
    "\n",
    "매년 전기 에너지 사용량 달별로 더해서 컬럼 12개로 압축\n",
    "\n",
    "log 변환\n",
    "\n",
    "Y,N 그룹 별 각 컬럼간 상관도 ->pairplot\n",
    "\n",
    "Y,N 그룹 별 각 컬럼의 평균값 barplot\n",
    "\n",
    "Y,N 그룹 별 각 컬럼의 분포도 box plot\n",
    "\n",
    "Y,N 그룹 별 각 컬럼의 분포도 dist plot\n",
    "\n",
    "Y,N 그룹 별 건물용도 별 각 컬럼의 분포도 boxplot\n",
    "\n",
    "각 컬럼의 NuLL값 주거용도 별 펑균값으로 채우고 예측 - >  정확도: 0.8371, 정밀도: 0.8426, 재현율: 0.1431,    F1: 0.2446, AUC:0.5685\n",
    "너무 쉽게 N으로 판단(TN 엄청 많음) -> N의 0값의 비중이 너무 큼 ->  Y의 0을 그냥 N으로 판단하는듯 -> 0부터 어떻게 해야함!"
   ]
  },
  {
   "cell_type": "code",
   "execution_count": 1,
   "metadata": {},
   "outputs": [],
   "source": [
    "import pandas as pd\n",
    "import matplotlib.pyplot as plt\n",
    "import seaborn as sns \n",
    "import numpy as np\n",
    "from lightgbm import LGBMClassifier\n",
    "from sklearn.model_selection import train_test_split\n",
    "from sklearn.preprocessing import LabelEncoder\n",
    "from sklearn.cluster import KMeans\n",
    "from sklearn.metrics import silhouette_samples, silhouette_score"
   ]
  },
  {
   "cell_type": "code",
   "execution_count": 2,
   "metadata": {},
   "outputs": [],
   "source": [
    "from sklearn.metrics import confusion_matrix, accuracy_score\n",
    "from sklearn.metrics import precision_score, recall_score\n",
    "from sklearn.metrics import f1_score, roc_auc_score\n",
    "\n",
    "def get_clf_eval(y_test , pred):\n",
    "    confusion = confusion_matrix( y_test, pred)\n",
    "    accuracy = accuracy_score(y_test , pred)\n",
    "    precision = precision_score(y_test , pred)\n",
    "    recall = recall_score(y_test , pred)\n",
    "    f1 = f1_score(y_test,pred)\n",
    "    roc_auc = roc_auc_score(y_test, pred)\n",
    "    print('오차 행렬')\n",
    "    print(confusion)\n",
    "    print('정확도: {0:.4f}, 정밀도: {1:.4f}, 재현율: {2:.4f},\\\n",
    "    F1: {3:.4f}, AUC:{4:.4f}'.format(accuracy, precision, recall, f1, roc_auc))\n",
    "    "
   ]
  },
  {
   "cell_type": "code",
   "execution_count": 3,
   "metadata": {},
   "outputs": [],
   "source": [
    "def visualize_silhouette(cluster_lists, X_features): \n",
    "    \n",
    "    from sklearn.datasets import make_blobs\n",
    "    from sklearn.cluster import KMeans\n",
    "    from sklearn.metrics import silhouette_samples, silhouette_score\n",
    "\n",
    "    import matplotlib.pyplot as plt\n",
    "    import matplotlib.cm as cm\n",
    "    import math\n",
    "    \n",
    "    # 입력값으로 클러스터링 갯수들을 리스트로 받아서, 각 갯수별로 클러스터링을 적용하고 실루엣 개수를 구함\n",
    "    n_cols = len(cluster_lists)\n",
    "    \n",
    "    # plt.subplots()으로 리스트에 기재된 클러스터링 수만큼의 sub figures를 가지는 axs 생성 \n",
    "    fig, axs = plt.subplots(figsize=(4*n_cols, 4), nrows=1, ncols=n_cols)\n",
    "    \n",
    "    # 리스트에 기재된 클러스터링 갯수들을 차례로 iteration 수행하면서 실루엣 개수 시각화\n",
    "    for ind, n_cluster in enumerate(cluster_lists):\n",
    "        \n",
    "        # KMeans 클러스터링 수행하고, 실루엣 스코어와 개별 데이터의 실루엣 값 계산. \n",
    "        clusterer = KMeans(n_clusters = n_cluster, max_iter=500, random_state=0)\n",
    "        cluster_labels = clusterer.fit_predict(X_features)\n",
    "        \n",
    "        sil_avg = silhouette_score(X_features, cluster_labels)\n",
    "        sil_values = silhouette_samples(X_features, cluster_labels)\n",
    "        \n",
    "        y_lower = 10\n",
    "        axs[ind].set_title('Number of Cluster : '+ str(n_cluster)+'\\n'+'Silhouette Score :' + str(round(sil_avg,3)) )\n",
    "        axs[ind].set_xlabel(\"The silhouette coefficient values\")\n",
    "        axs[ind].set_ylabel(\"Cluster label\")\n",
    "        axs[ind].set_xlim([-0.1, 1])\n",
    "        axs[ind].set_ylim([0, len(X_features) + (n_cluster + 1) * 10])\n",
    "        axs[ind].set_yticks([])  # Clear the yaxis labels / ticks\n",
    "        axs[ind].set_xticks([0, 0.2, 0.4, 0.6, 0.8, 1])\n",
    "        \n",
    "        # 클러스터링 갯수별로 fill_betweenx( )형태의 막대 그래프 표현. \n",
    "        for i in range(n_cluster):\n",
    "            ith_cluster_sil_values = sil_values[cluster_labels==i]\n",
    "            ith_cluster_sil_values.sort()\n",
    "            \n",
    "            size_cluster_i = ith_cluster_sil_values.shape[0]\n",
    "            y_upper = y_lower + size_cluster_i\n",
    "            \n",
    "            color = cm.nipy_spectral(float(i) / n_cluster)\n",
    "            axs[ind].fill_betweenx(np.arange(y_lower, y_upper), 0, ith_cluster_sil_values, \\\n",
    "                                facecolor=color, edgecolor=color, alpha=0.7)\n",
    "            axs[ind].text(-0.05, y_lower + 0.5 * size_cluster_i, str(i))\n",
    "            y_lower = y_upper + 10\n",
    "            \n",
    "        axs[ind].axvline(x=sil_avg, color=\"red\", linestyle=\"--\")"
   ]
  },
  {
   "cell_type": "code",
   "execution_count": 4,
   "metadata": {},
   "outputs": [],
   "source": [
    "def sil_plot(X_features, cluster_labels):\n",
    "        n_cluster = len(np.unique(cluster_labels))\n",
    "        sil_avg = silhouette_score(X_features, cluster_labels)\n",
    "        sil_values = silhouette_samples(X_features, cluster_labels)\n",
    "        print(sil_avg)"
   ]
  },
  {
   "cell_type": "code",
   "execution_count": 5,
   "metadata": {},
   "outputs": [],
   "source": [
    "def kmeans_plot(clusterDF,n_clusters,max_iter):\n",
    "\n",
    "    kmeans = KMeans(n_clusters, init='k-means++', max_iter=200, random_state=0)\n",
    "    cluster_labels = kmeans.fit_predict(clusterDF)\n",
    "    col=clusterDF.columns\n",
    "    clusterDF['kmeans_label']  = cluster_labels\n",
    "    \n",
    "#cluster_centers_ 는 개별 클러스터의 중심 위치 좌표 시각화를 위해 추출\n",
    "    centers = kmeans.cluster_centers_\n",
    "    unique_labels = np.unique(cluster_labels)\n",
    "    markers=['o', 's', '^', 'P','D','H','x']\n",
    "\n",
    "# 군집된 label 유형별로 iteration 하면서 marker 별로 scatter plot 수행. \n",
    "    for label in unique_labels:\n",
    "        label_cluster = clusterDF[clusterDF['kmeans_label']==label]\n",
    "        center_x_y = centers[label]\n",
    "        plt.scatter(x=label_cluster[col[0]], y=label_cluster[col[1]], edgecolor='k', \n",
    "                    marker=markers[label] )\n",
    "    \n",
    "    # 군집별 중심 위치 좌표 시각화 \n",
    "        plt.scatter(x=center_x_y[0], y=center_x_y[1], s=200, color='white',\n",
    "                    alpha=0.9, edgecolor='k', marker=markers[label])\n",
    "        plt.scatter(x=center_x_y[0], y=center_x_y[1], s=70, color='k', edgecolor='k', \n",
    "                    marker='$%d$' % label)\n",
    "\n",
    "    plt.show()"
   ]
  },
  {
   "cell_type": "code",
   "execution_count": 6,
   "metadata": {},
   "outputs": [],
   "source": [
    "def plot_mean(df_n):\n",
    "    index = np.array(df_n.mean().index)\n",
    "    height = np.array(df_n.mean())\n",
    "    plt.figure(figsize=(16,10))\n",
    "    plt.bar(index, height)\n",
    "    \n",
    "def plot_dist(df):\n",
    "    list_series = df.columns\n",
    "    n=len(list_series)\n",
    "    plt.figure(figsize=(25,6))\n",
    "    fig , axes = plt.subplots(n//2+1,2,figsize=(15,40))\n",
    "    axx = axes.flatten()\n",
    "    for index,i in enumerate(list_series[:-2]):\n",
    "        x=df[i]\n",
    "        sns.distplot(x, kde=True, rug=False,ax=axx[index])\n",
    "    \n",
    "def elec_month(df_y):\n",
    "    df_y_local = df_y.drop(['label','bldng_us'],axis=1)\n",
    "    for i in range(1,13):\n",
    "        col = '{0} month'.format(i)\n",
    "        df_y_local[col]=df_y_local.iloc[:,(i-1)::12].sum(axis=1)\n",
    "    df_y_local = df_y_local.iloc[:,-1:-13:-1]\n",
    "    df_y_local = df_y_local.iloc[:,-1:-13:-1]\n",
    "    df_y_local['bldng_us']=df_y['bldng_us']\n",
    "    df_y_local['label']=df_y['label']\n",
    "    return df_y_local\n",
    "\n",
    "def plot_box1(df,label,h=None):\n",
    "    list_series = df.columns\n",
    "    n=len(list_series)\n",
    "    #fig , axes = plt.subplots(4,n//4+1,figsize=(15,15))\n",
    "    #axx = axes.flatten()\n",
    "    if(h==None):\n",
    "        fig , axes = plt.subplots(4,n//4+1,figsize=(15,15))\n",
    "        axx = axes.flatten()\n",
    "        for index,i in enumerate(list_series[:-2]):\n",
    "            sns.boxplot(i, label, data=df,ax=axx[index])\n",
    "            #sns.stripplot(x, 'bldng_us',hue=label, data=df, jitter=True, color=\"0.4\",ax=axx[index])\n",
    "    else:\n",
    "        fig , axes = plt.subplots(4,n//4+1,figsize=(15,150))\n",
    "        axx = axes.flatten()\n",
    "        for index,i in enumerate(list_series[:-2]):\n",
    "            sns.boxplot(i, label,hue=h ,data=df,ax=axx[index])\n",
    "            #sns.stripplot(x, 'bldng_us',hue=label, data=df, jitter=True, color=\"0.4\",ax=axx[index])\n",
    "        \n",
    "\n",
    "def plot_box2(df,label):\n",
    "    list_series = df.columns\n",
    "    n=len(list_series)\n",
    "    fig , axes = plt.subplots(4,n//4+1,figsize=(15,150))\n",
    "    axx = axes.flatten()\n",
    "    for index,i in enumerate(list_series[:-2]):\n",
    "        sns.boxplot(i, label,hue='bldng_us', data=df,ax=axx[index])\n",
    "        #sns.stripplot(x, 'bldng_us',hue=label, data=df, jitter=True, color=\"0.4\",ax=axx[index])\n",
    "\n",
    "def fill_elec(df):\n",
    "    list_ = list(df.columns[:-2])\n",
    "    for i in list_:\n",
    "        df[i] = df[i].apply(lambda x: np.nan if x==0 else x)\n",
    "        #df[i].fillna(df[i].mean(), inplace=True)\n",
    "        df=df.dropna()\n",
    "    return df\n",
    "\n",
    "def circum_plot(df,year,drop=False):\n",
    "    df_elec = df.iloc[:,18:137:2]\n",
    "    if drop==True:\n",
    "        list_ = list(df_elec.columns)\n",
    "        for i in list_:\n",
    "            df_elec[i] = df_elec[i].apply(lambda x: np.nan if x==0 else x)\n",
    "    df_elec=df_elec.dropna()\n",
    "    df_elec = df_elec.apply(lambda x: np.log10(1+x))\n",
    "    #list_col = list(df.columns)\n",
    "    #index = list_col.index('bldng_cnt')\n",
    "    #df_cir=df.iloc[:,index:index+3]\n",
    "    df_cir=df.iloc[:,12:17]\n",
    "    list_cir = list(df_cir.columns)\n",
    "    df_elec = pd.concat([df_elec,df_cir],axis=1)\n",
    "    df_elec['fr_yn']=df['fr_yn']\n",
    "    #df_elec['mon'] = df['dt_of_fr'].apply(lambda x: int(x.split('-')[1]))\n",
    "    col='ele_engry_us_'\n",
    "    year=str(year)\n",
    "    for i in range(1,11):\n",
    "        if(i<=9):\n",
    "            mon='0'+str(i)\n",
    "        else:\n",
    "            mon=str(i)\n",
    "        col_a =col+year+mon\n",
    "        fig =plt.figure(figsize=(10,12))\n",
    "        ax1 = fig.add_subplot(3, 2, 1)\n",
    "        ax2 = fig.add_subplot(3, 2, 2)\n",
    "        ax3 = fig.add_subplot(3, 2, 3)\n",
    "        ax4 = fig.add_subplot(3, 2, 4)\n",
    "        ax5 = fig.add_subplot(3, 2, 5)\n",
    "        list_ax=[ax1, ax2, ax3, ax4, ax5]\n",
    "        for index,j in enumerate(list_cir):\n",
    "            df_elec_1=df_elec[df_elec['mon']==i][[col_a,j]]\n",
    "            list_ax[index].set_xlabel(col_a)\n",
    "            list_ax[index].set_ylabel(j)\n",
    "            list_ax[index].set_title(year)\n",
    "            list_ax[index].scatter(df_elec_1.iloc[:,0],df_elec_1.iloc[:,1])\n",
    "            \n",
    "def building_plot(df,year,mon,drop=False):\n",
    "    df_elec = df.iloc[:,18:137:2]\n",
    "    df_elec=df_elec.iloc[:,30:]\n",
    "    list_col = list(df.columns)\n",
    "    index = list_col.index('bldng_cnt')\n",
    "    df_cir=df.iloc[:,index:index+3]\n",
    "    df_elec = pd.concat([df_elec,df_cir],axis=1)\n",
    "    list_cir = list(df_cir.columns)\n",
    "    if drop==True:\n",
    "        list_ = list(df_elec.columns[:-4])\n",
    "        for i in list_:\n",
    "            df_elec[i] = df_elec[i].apply(lambda x: np.nan if x==0 else x)\n",
    "            \n",
    "    df_elec=df_elec.dropna()\n",
    "    \n",
    "    df_elec.iloc[:,:-4] = df_elec.iloc[:,:-4].apply(lambda x: np.log10(1+x))\n",
    "    \n",
    "    col='ele_engry_us_'\n",
    "    year=str(year)\n",
    "    col_a =col+year+mon\n",
    "    for index,j in enumerate(list_cir):\n",
    "        df_elec_1=df_elec[[col_a,j]]\n",
    "        visualize_silhouette([2,3],df_elec_1)\n",
    "        \n",
    "def df_buli(df,drop):\n",
    "    df_elec = df.iloc[:,18:137:2]\n",
    "    df_elec=df_elec.iloc[:,30:]\n",
    "    list_col = list(df.columns)\n",
    "    index = list_col.index('bldng_cnt')\n",
    "    df_cir=df.iloc[:,index:index+3]\n",
    "    \n",
    "    a=get_outlier(df_cir,'bldng_cnt')\n",
    "    df_cir.drop(a,axis=0,inplace=True)\n",
    "    b=get_outlier(df_cir,'bldng_ar')\n",
    "    df_cir.drop(b,axis=0,inplace=True)\n",
    "    c=get_outlier(df_cir,'ttl_ar')\n",
    "    df_cir.drop(c,axis=0,inplace=True)\n",
    "    \n",
    "    df_elec = pd.concat([df_elec,df_cir],axis=1)\n",
    "    list_cir = list(df_cir.columns)\n",
    "    if drop==True:\n",
    "        list_ = list(df_elec.columns[:-4])\n",
    "        for i in list_:\n",
    "            df_elec[i] = df_elec[i].apply(lambda x: np.nan if x==0 else x)\n",
    "            \n",
    "    df_elec=df_elec.dropna()\n",
    "    \n",
    "    df_elec.iloc[:,:-4] = df_elec.iloc[:,:-4].apply(lambda x: 10*np.log(1+x))\n",
    "    return df_elec\n",
    "\n",
    "def get_outlier(df=None, column=None, weight=1.5):\n",
    "    # fraud에 해당하는 column 데이터만 추출, 1/4 분위와 3/4 분위 지점을 np.percentile로 구함. \n",
    "    fraud = df[column]\n",
    "    quantile_25 = np.percentile(fraud.values, 25)\n",
    "    quantile_75 = np.percentile(fraud.values, 75)\n",
    "    # IQR을 구하고, IQR에 1.5를 곱하여 최대값과 최소값 지점 구함. \n",
    "    iqr = quantile_75 - quantile_25\n",
    "    iqr_weight = iqr * weight\n",
    "    lowest_val = quantile_25 - iqr_weight\n",
    "    highest_val = quantile_75 + iqr_weight\n",
    "    # 최대값 보다 크거나, 최소값 보다 작은 값을 아웃라이어로 설정하고 DataFrame index 반환. \n",
    "    outlier_index = fraud[(fraud < lowest_val) | (fraud > highest_val)].index\n",
    "    return outlier_index"
   ]
  },
  {
   "cell_type": "code",
   "execution_count": 7,
   "metadata": {},
   "outputs": [
    {
     "name": "stderr",
     "output_type": "stream",
     "text": [
      "C:\\Users\\jaeyong\\Anaconda3\\envs\\cuda\\lib\\site-packages\\IPython\\core\\interactiveshell.py:3058: DtypeWarning: Columns (8,172,173,174,175,176,177,178,179) have mixed types. Specify dtype option on import or set low_memory=False.\n",
      "  interactivity=interactivity, compiler=compiler, result=result)\n"
     ]
    }
   ],
   "source": [
    "df = pd.read_csv(\"PJT002_train.csv\")\n",
    "df_vali = pd.read_csv('PJT002_validation.csv')\n",
    "df.head(3)\n",
    "df_k = df_buli(df,True)"
   ]
  },
  {
   "cell_type": "code",
   "execution_count": 8,
   "metadata": {},
   "outputs": [],
   "source": [
    "a=df_k.loc[:,['ele_engry_us_201807','bldng_cnt','bldng_ar','ttl_ar']]\n",
    "b=df_k.loc[:,['ele_engry_us_201807','bldng_cnt']]\n",
    "c=df_k.loc[:,['ele_engry_us_201807','bldng_ar']]\n",
    "d=df_k.loc[:,['ele_engry_us_201807','ttl_ar']]"
   ]
  },
  {
   "cell_type": "code",
   "execution_count": 130,
   "metadata": {},
   "outputs": [
    {
     "data": {
      "image/png": "[encoded data removed]",
      "text/plain": [
       "<Figure size 432x288 with 1 Axes>"
      ]
     },
     "metadata": {
      "needs_background": "light"
     },
     "output_type": "display_data"
    }
   ],
   "source": [
    "kmeans_plot(b,3,500)"
   ]
  },
  {
   "cell_type": "code",
   "execution_count": 9,
   "metadata": {},
   "outputs": [
    {
     "data": {
      "image/png": "[encoded data removed]",
      "text/plain": [
       "<Figure size 432x288 with 1 Axes>"
      ]
     },
     "metadata": {
      "needs_background": "light"
     },
     "output_type": "display_data"
    }
   ],
   "source": [
    "kmeans_plot(c,2,500)"
   ]
  },
  {
   "cell_type": "code",
   "execution_count": 132,
   "metadata": {},
   "outputs": [
    {
     "data": {
      "image/png": "[encoded data removed]",
      "text/plain": [
       "<Figure size 432x288 with 1 Axes>"
      ]
     },
     "metadata": {
      "needs_background": "light"
     },
     "output_type": "display_data"
    }
   ],
   "source": [
    "kmeans_plot(d,3,500)"
   ]
  },
  {
   "cell_type": "code",
   "execution_count": 124,
   "metadata": {},
   "outputs": [
    {
     "name": "stdout",
     "output_type": "stream",
     "text": [
      "0.5080068517325427\n"
     ]
    }
   ],
   "source": [
    "kmeans = KMeans(3, init='k-means++', max_iter=200, random_state=0)\n",
    "cluster_labels = kmeans.fit_predict(b)\n",
    "b['kmeans_label']  = cluster_labels\n",
    "sil_plot(b, cluster_labels)"
   ]
  },
  {
   "cell_type": "code",
   "execution_count": 125,
   "metadata": {},
   "outputs": [
    {
     "name": "stdout",
     "output_type": "stream",
     "text": [
      "0.5149530905525052\n"
     ]
    }
   ],
   "source": [
    "kmeans = KMeans(3, init='k-means++', max_iter=200, random_state=0)\n",
    "cluster_labels = kmeans.fit_predict(c)\n",
    "c['kmeans_label']  = cluster_labels\n",
    "sil_plot(c, cluster_labels)"
   ]
  },
  {
   "cell_type": "code",
   "execution_count": 126,
   "metadata": {},
   "outputs": [
    {
     "name": "stdout",
     "output_type": "stream",
     "text": [
      "0.5832939866847114\n"
     ]
    }
   ],
   "source": [
    "kmeans = KMeans(3, init='k-means++', max_iter=200, random_state=0)\n",
    "cluster_labels = kmeans.fit_predict(d)\n",
    "d['kmeans_label']  = cluster_labels\n",
    "sil_plot(d, cluster_labels)"
   ]
  },
  {
   "cell_type": "code",
   "execution_count": 10,
   "metadata": {},
   "outputs": [
    {
     "name": "stderr",
     "output_type": "stream",
     "text": [
      "C:\\Users\\jaeyong\\Anaconda3\\envs\\cuda\\lib\\site-packages\\IPython\\core\\interactiveshell.py:3058: DtypeWarning: Columns (8,172,173,174,175,176,177,178,179) have mixed types. Specify dtype option on import or set low_memory=False.\n",
      "  interactivity=interactivity, compiler=compiler, result=result)\n"
     ]
    },
    {
     "data": {
      "text/html": [
       "<div>\n",
       "<style scoped>\n",
       "    .dataframe tbody tr th:only-of-type {\n",
       "        vertical-align: middle;\n",
       "    }\n",
       "\n",
       "    .dataframe tbody tr th {\n",
       "        vertical-align: top;\n",
       "    }\n",
       "\n",
       "    .dataframe thead th {\n",
       "        text-align: right;\n",
       "    }\n",
       "</style>\n",
       "<table border=\"1\" class=\"dataframe\">\n",
       "  <thead>\n",
       "    <tr style=\"text-align: right;\">\n",
       "      <th></th>\n",
       "      <th>dt_of_fr</th>\n",
       "      <th>fr_yn</th>\n",
       "      <th>bldng_us</th>\n",
       "      <th>bldng_archtctr</th>\n",
       "      <th>bldng_cnt</th>\n",
       "      <th>bldng_ar</th>\n",
       "      <th>ttl_ar</th>\n",
       "      <th>lnd_ar</th>\n",
       "      <th>dt_of_athrztn</th>\n",
       "      <th>ttl_grnd_flr</th>\n",
       "      <th>...</th>\n",
       "      <th>no_tbc_zn_dstnc</th>\n",
       "      <th>bldng_cnt_in_50m</th>\n",
       "      <th>trgt_crtr</th>\n",
       "      <th>fr_fghtng_fclt_spcl_css_5_yn</th>\n",
       "      <th>fr_fghtng_fclt_spcl_css_6_yn</th>\n",
       "      <th>us_yn</th>\n",
       "      <th>dngrs_thng_yn</th>\n",
       "      <th>slf_fr_brgd_yn</th>\n",
       "      <th>blk_dngrs_thng_mnfctr_yn</th>\n",
       "      <th>cltrl_hrtg_yn</th>\n",
       "    </tr>\n",
       "  </thead>\n",
       "  <tbody>\n",
       "    <tr>\n",
       "      <th>0</th>\n",
       "      <td>2017-10-20 05:54:00</td>\n",
       "      <td>Y</td>\n",
       "      <td>단독주택</td>\n",
       "      <td>블록구조</td>\n",
       "      <td>3</td>\n",
       "      <td>69.42</td>\n",
       "      <td>69.42</td>\n",
       "      <td>0.0</td>\n",
       "      <td>1977</td>\n",
       "      <td>1.0</td>\n",
       "      <td>...</td>\n",
       "      <td>88</td>\n",
       "      <td>0</td>\n",
       "      <td>NaN</td>\n",
       "      <td>NaN</td>\n",
       "      <td>NaN</td>\n",
       "      <td>NaN</td>\n",
       "      <td>NaN</td>\n",
       "      <td>NaN</td>\n",
       "      <td>NaN</td>\n",
       "      <td>NaN</td>\n",
       "    </tr>\n",
       "    <tr>\n",
       "      <th>1</th>\n",
       "      <td>2018-09-30 08:26:15</td>\n",
       "      <td>N</td>\n",
       "      <td>NaN</td>\n",
       "      <td>NaN</td>\n",
       "      <td>3</td>\n",
       "      <td>46.29</td>\n",
       "      <td>46.29</td>\n",
       "      <td>0.0</td>\n",
       "      <td>NaN</td>\n",
       "      <td>1.0</td>\n",
       "      <td>...</td>\n",
       "      <td>7727</td>\n",
       "      <td>0</td>\n",
       "      <td>NaN</td>\n",
       "      <td>NaN</td>\n",
       "      <td>NaN</td>\n",
       "      <td>NaN</td>\n",
       "      <td>NaN</td>\n",
       "      <td>NaN</td>\n",
       "      <td>NaN</td>\n",
       "      <td>NaN</td>\n",
       "    </tr>\n",
       "    <tr>\n",
       "      <th>2</th>\n",
       "      <td>2016-10-30 14:57:00</td>\n",
       "      <td>Y</td>\n",
       "      <td>공동주택</td>\n",
       "      <td>철근콘크리트구조</td>\n",
       "      <td>1</td>\n",
       "      <td>583.80</td>\n",
       "      <td>2516.76</td>\n",
       "      <td>1446.0</td>\n",
       "      <td>2.00011e+07</td>\n",
       "      <td>5.0</td>\n",
       "      <td>...</td>\n",
       "      <td>72</td>\n",
       "      <td>14</td>\n",
       "      <td>NaN</td>\n",
       "      <td>NaN</td>\n",
       "      <td>NaN</td>\n",
       "      <td>NaN</td>\n",
       "      <td>NaN</td>\n",
       "      <td>NaN</td>\n",
       "      <td>NaN</td>\n",
       "      <td>NaN</td>\n",
       "    </tr>\n",
       "  </tbody>\n",
       "</table>\n",
       "<p>3 rows × 180 columns</p>\n",
       "</div>"
      ],
      "text/plain": [
       "              dt_of_fr fr_yn bldng_us bldng_archtctr  bldng_cnt  bldng_ar  \\\n",
       "0  2017-10-20 05:54:00     Y     단독주택           블록구조          3     69.42   \n",
       "1  2018-09-30 08:26:15     N      NaN            NaN          3     46.29   \n",
       "2  2016-10-30 14:57:00     Y     공동주택       철근콘크리트구조          1    583.80   \n",
       "\n",
       "    ttl_ar  lnd_ar dt_of_athrztn  ttl_grnd_flr  ...  no_tbc_zn_dstnc  \\\n",
       "0    69.42     0.0          1977           1.0  ...               88   \n",
       "1    46.29     0.0           NaN           1.0  ...             7727   \n",
       "2  2516.76  1446.0   2.00011e+07           5.0  ...               72   \n",
       "\n",
       "  bldng_cnt_in_50m  trgt_crtr  fr_fghtng_fclt_spcl_css_5_yn  \\\n",
       "0                0        NaN                           NaN   \n",
       "1                0        NaN                           NaN   \n",
       "2               14        NaN                           NaN   \n",
       "\n",
       "   fr_fghtng_fclt_spcl_css_6_yn  us_yn  dngrs_thng_yn  slf_fr_brgd_yn  \\\n",
       "0                           NaN    NaN            NaN             NaN   \n",
       "1                           NaN    NaN            NaN             NaN   \n",
       "2                           NaN    NaN            NaN             NaN   \n",
       "\n",
       "   blk_dngrs_thng_mnfctr_yn  cltrl_hrtg_yn  \n",
       "0                       NaN            NaN  \n",
       "1                       NaN            NaN  \n",
       "2                       NaN            NaN  \n",
       "\n",
       "[3 rows x 180 columns]"
      ]
     },
     "execution_count": 10,
     "metadata": {},
     "output_type": "execute_result"
    }
   ],
   "source": [
    "df = pd.read_csv(\"PJT002_train.csv\")\n",
    "df.head(3)"
   ]
  },
  {
   "cell_type": "code",
   "execution_count": 22,
   "metadata": {},
   "outputs": [
    {
     "data": {
      "text/plain": [
       "bldng_ar     118398\n",
       "bldng_cnt    118398\n",
       "hmdt         118420\n",
       "lnd_ar       118398\n",
       "tmprtr       118411\n",
       "ttl_ar       118398\n",
       "wnd_drctn    118619\n",
       "wnd_spd      118431\n",
       "0            118398\n",
       "dtype: int64"
      ]
     },
     "execution_count": 22,
     "metadata": {},
     "output_type": "execute_result"
    }
   ],
   "source": [
    "df_t = df['dt_of_fr'].apply(lambda x: int(x.split('-')[1]))\n",
    "df_t.isna().sum()\n",
    "df_ = df.iloc[:,4:8]\n",
    "df__ = df.iloc[:,12:17]\n",
    "df__ = df__.drop('prcpttn',axis=1)\n",
    "#df__.isna().sum()\n",
    "#dd=pd.concat([df_,df__,df_t])\n",
    "#dd.isna().sum()"
   ]
  },
  {
   "cell_type": "code",
   "execution_count": null,
   "metadata": {},
   "outputs": [],
   "source": []
  }
 ],
 "metadata": {
  "kernelspec": {
   "display_name": "Python 3",
   "language": "python",
   "name": "python3"
  },
  "language_info": {
   "codemirror_mode": {
    "name": "ipython",
    "version": 3
   },
   "file_extension": ".py",
   "mimetype": "text/x-python",
   "name": "python",
   "nbconvert_exporter": "python",
   "pygments_lexer": "ipython3",
   "version": "3.6.8"
  }
 },
 "nbformat": 4,
 "nbformat_minor": 2
}
