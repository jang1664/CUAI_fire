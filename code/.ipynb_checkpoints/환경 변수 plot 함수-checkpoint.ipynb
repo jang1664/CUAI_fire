{
 "cells": [
  {
   "cell_type": "code",
   "execution_count": null,
   "metadata": {},
   "outputs": [],
   "source": [
    "def circum_plot(df,year,drop=False):\n",
    "    df_elec = df.iloc[:,18:137:2]\n",
    "    if drop==True:\n",
    "        list_ = list(df_elec.columns)\n",
    "        for i in list_:\n",
    "            df_elec[i] = df_elec[i].apply(lambda x: np.nan if x==0 else x)\n",
    "            df_elec=df_elec.dropna()\n",
    "    df_elec = df_elec.apply(lambda x: np.log10(1+x))\n",
    "    df_cir=df.iloc[:,12:17]\n",
    "    list_cir = list(df_cir.columns)\n",
    "    df_elec = pd.concat([df_elec,df_cir],axis=1)\n",
    "    df_elec['fr_yn']=df['fr_yn']\n",
    "    df_elec['mon'] = df['dt_of_fr'].apply(lambda x: int(x.split('-')[1]))\n",
    "    col='ele_engry_us_'\n",
    "    year=str(year)\n",
    "    for i in range(1,11):\n",
    "        if(i<=9):\n",
    "            mon='0'+str(i)\n",
    "        else:\n",
    "            mon=str(i)\n",
    "        col_a =col+year+mon\n",
    "        fig =plt.figure(figsize=(10,12))\n",
    "        ax1 = fig.add_subplot(3, 2, 1)\n",
    "        ax2 = fig.add_subplot(3, 2, 2)\n",
    "        ax3 = fig.add_subplot(3, 2, 3)\n",
    "        ax4 = fig.add_subplot(3, 2, 4)\n",
    "        ax5 = fig.add_subplot(3, 2, 5)\n",
    "        list_ax=[ax1, ax2, ax3, ax4, ax5]\n",
    "        for index,j in enumerate(list_cir):\n",
    "            df_elec_1=df_elec[df_elec['mon']==i][[col_a,j]]\n",
    "            list_ax[index].set_xlabel(col_a)\n",
    "            list_ax[index].set_ylabel(j)\n",
    "            list_ax[index].set_title(year)\n",
    "            list_ax[index].scatter(df_elec_1.iloc[:,0],df_elec_1.iloc[:,1])"
   ]
  }
 ],
 "metadata": {
  "kernelspec": {
   "display_name": "Python 3",
   "language": "python",
   "name": "python3"
  },
  "language_info": {
   "codemirror_mode": {
    "name": "ipython",
    "version": 3
   },
   "file_extension": ".py",
   "mimetype": "text/x-python",
   "name": "python",
   "nbconvert_exporter": "python",
   "pygments_lexer": "ipython3",
   "version": "3.6.8"
  }
 },
 "nbformat": 4,
 "nbformat_minor": 2
}
