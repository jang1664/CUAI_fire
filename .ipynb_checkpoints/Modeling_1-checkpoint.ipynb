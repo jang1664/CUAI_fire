{
 "cells": [
  {
   "cell_type": "code",
   "execution_count": 25,
   "metadata": {
    "colab": {},
    "colab_type": "code",
    "id": "rPKYxV8aEb50"
   },
   "outputs": [],
   "source": [
    "# -*- coding: utf-8 -*- \n",
    "from sklearn.metrics import accuracy_score, precision_score,recall_score, confusion_matrix, roc_auc_score, classification_report, f1_score,make_scorer\n",
    "from sklearn.preprocessing import RobustScaler, StandardScaler\n",
    "from sklearn.decomposition import PCA\n",
    "#from sklearn_evaluation import plot\n",
    "from sklearn.pipeline import Pipeline\n",
    "from sklearn.model_selection import GridSearchCV, train_test_split, cross_val_score, cross_validate\n",
    "from sklearn.ensemble import RandomForestClassifier\n",
    "from sklearn.tree import DecisionTreeClassifier\n",
    "from sklearn.linear_model import LogisticRegression\n",
    "from sklearn.neighbors import KNeighborsClassifier\n",
    "from xgboost import XGBClassifier, plot_importance\n",
    "from lightgbm import LGBMClassifier,plot_importance\n",
    "from IPython.core.interactiveshell import InteractiveShell\n",
    "from imblearn.over_sampling import SMOTE\n",
    "from sklearn.metrics import make_scorer\n",
    "from sklearn import metrics\n",
    "import matplotlib.pyplot as plt\n",
    "import pandas as pd\n",
    "import numpy as np\n",
    "import warnings\n",
    "from xgboost import plot_importance\n",
    "InteractiveShell.ast_node_interactivity = 'all'\n",
    "warnings.filterwarnings(action='ignore')\n",
    "pd.set_option('display.max_rows', 500)\n",
    "pd.set_option('display.max_columns', 500)\n",
    "pd.set_option('display.width', 1000)\n",
    "pd.options.display.float_format = '{:.5f}'.format"
   ]
  },
  {
   "cell_type": "code",
   "execution_count": 5,
   "metadata": {
    "colab": {},
    "colab_type": "code",
    "id": "TBexsKs-Eb6H"
   },
   "outputs": [],
   "source": [
    "def preprocessing_data(file):\n",
    "    data=pd.read_csv(file)\n",
    "    df=pd.DataFrame(data)\n",
    "    \n",
    "    ###[setup]\n",
    "    # [wther]\n",
    "    if 'train' in file:\n",
    "        def fill_hmdt(df):\n",
    "            ls_=[95,96,97,30,72,92,16,100,78,98,97,80,85,85,100,95,50,40,65,25,60,60]\n",
    "            i=0\n",
    "            for k in df.loc[df.hmdt.isnull()==1,:].index:\n",
    "                df.loc[k,'hmdt']=ls_[i]\n",
    "                i+=1\n",
    "        def fill_wnd_spd(df):\n",
    "            df['emd']=df['emd_nm'].apply(lambda x: str(x)).apply(lambda x: x[5:8])\n",
    "            df['month']=df['dt_of_fr'].apply(lambda x: x.split('-')[1])\n",
    "            df['time']=df['dt_of_fr'].apply(lambda x: x.split('-')[2])\n",
    "            df['time']=df['time'].apply(lambda x: x[3:5]).apply(lambda x: int(x))\n",
    "\n",
    "            for i in df.loc[df.wnd_spd.isnull()==1,:].index:\n",
    "                m=df.loc[i,'month']\n",
    "                t=df.loc[i,'time']\n",
    "                e=df.loc[i,'emd']\n",
    "                df.loc[i,'wnd_spd']=df.loc[(df.month==m)&(df.time==t)&(df.emd==e),'wnd_spd'].mean()\n",
    "        fill_hmdt(df)\n",
    "        fill_wnd_spd(df)\n",
    "    else:\n",
    "        def fill_hmdt(df):\n",
    "            ls_=[]\n",
    "            ls_.append((90+90+85)/3)\n",
    "            ls_.append((47+58+44)/3)\n",
    "            ls_.append((90+90+85)/3)\n",
    "            i=0\n",
    "            for k in df.loc[df.hmdt.isnull()==1,:].index:\n",
    "                df.loc[k,'hmdt']=ls_[i]\n",
    "                i+=1\n",
    "        def fill_wnd_spd(df):\n",
    "            df_=df\n",
    "            df_['month']=df['dt_of_fr'].apply(lambda x: x.split('-')[1])\n",
    "            df_['time']=df['dt_of_fr'].apply(lambda x: x.split('-')[2])\n",
    "            df_['time']=df_['time'].apply(lambda x: x[3:5]).apply(lambda x: int(x))\n",
    "\n",
    "            for i in df.loc[df.wnd_spd.isnull()==1,:].index:\n",
    "                    m=df_.loc[i,'month']\n",
    "                    t=df_.loc[i,'time']\n",
    "                    df.loc[i,'wnd_spd']=df_.loc[(df_.month==m)&(df_.time==t),'wnd_spd'].mean()\n",
    "        fill_hmdt(df)\n",
    "        fill_wnd_spd(df)\n",
    "    \n",
    "    # dt_of_fr_month(월), dt_of_fr_day(일), dt_of_fr_hour(시간)\n",
    "    df['dt_of_fr']=pd.to_datetime(df['dt_of_fr'])\n",
    "\n",
    "    df['dt_of_fr_month']=df['dt_of_fr'].dt.month\n",
    "    df['dt_of_fr_day']=df['dt_of_fr'].dt.day\n",
    "    df['dt_of_fr_hour']=df['dt_of_fr'].dt.hour\n",
    "\n",
    "    # wnd_dr8 풍향(ex-북과 동 사이는 모두 북동)\n",
    "    def dr8(x):\n",
    "        if ((x>360-22.5) & (x<=0+22.5)) | ((x==0)|(x==360)):\n",
    "            return 'N'\n",
    "        elif (x>45-22.5) & (x<=45+22.5):\n",
    "            return 'NE'\n",
    "        elif (x>90-22.5) & (x<=90+22.5):\n",
    "            return 'E'\n",
    "        elif (x>135-22.5) & (x<=135+22.5):\n",
    "            return 'SE'\n",
    "        elif (x>180-22.5) & (x<=180+22.5):\n",
    "            return 'S'\n",
    "        elif (x>225-22.5) & (x<=225+22.5):\n",
    "            return 'SW'\n",
    "        elif (x>270-22.5) & (x<=270+22.5):\n",
    "            return 'W'\n",
    "        else:\n",
    "            return 'NW'\n",
    "\n",
    "    df['wnd_dr8']=df['wnd_drctn'].apply(dr8)\n",
    "    # [wther]\n",
    "    \n",
    "#     # [bldng]\n",
    "#     df.loc[12642,'dt_of_athrztn']=19800808\n",
    "#     df.loc[21218,'dt_of_athrztn']=19900712\n",
    "#     df.loc[26351,'dt_of_athrztn']=19990624\n",
    "#     df.loc[30954,'dt_of_athrztn']=19820930\n",
    "#     df.loc[38448,'dt_of_athrztn']=19780421\n",
    "#     df.loc[53193,'dt_of_athrztn']=19971215\n",
    "\n",
    "#     # yr_of_athrztn(건물승인년도)\n",
    "#     df['yr_of_athrztn']=df['dt_of_athrztn'].apply(lambda x: str(x)[0:4] if pd.isna(x)==False else x)\n",
    "\n",
    "#     # bldng_yrs (건물연수)\n",
    "#     df['bldng_yrs']=df['yr_of_athrztn'].apply(lambda x: 2019-int(x) if pd.isna(x)==False else x)\n",
    "    \n",
    "#     # floors(건물 총 층수)\n",
    "#     df['floors']=df['ttl_grnd_flr']+df['ttl_dwn_flr']\n",
    "    # [bldng]\n",
    "    \n",
    "    # fr_yn(화재발생) -> 1,0\n",
    "    dict={\"Y\":1,\"N\":0}\n",
    "    df.fr_yn=df.fr_yn.map(dict)\n",
    "    ###[setup]\n",
    "    \n",
    "    \n",
    "    ### [fill null and cut]\n",
    "    # tmprtr\n",
    "    n=df.loc[df['tmprtr'].isnull(),['tmprtr','emd_nm','dt_of_fr_month','dt_of_fr_hour']]\n",
    "\n",
    "    def fill_tmprtr(row):\n",
    "        return df.loc[(df['emd_nm']==row[1]) & (df['dt_of_fr_month']==row[2]) & (df['dt_of_fr_hour']==row[3]),'tmprtr'].mean()\n",
    "\n",
    "    def fill_tmprtr2(row):\n",
    "        return df.loc[(df['emd_nm']==row[1]) & (df['dt_of_fr_month']==row[2]) & ((df['dt_of_fr_hour']==row[3]+1) | (df['dt_of_fr_hour']==row[3]-1)),'tmprtr'].mean()\n",
    "\n",
    "    n['tmprtr']=n.apply(fill_tmprtr,axis=1)\n",
    "    n.loc[n['tmprtr'].isnull(),'tmprtr']=n.loc[n['tmprtr'].isnull()].apply(fill_tmprtr2, axis=1)\n",
    "    \n",
    "    tmp_null_ind=list(n.index)\n",
    "    df.loc[tmp_null_ind,'tmprtr']=n['tmprtr']\n",
    "    \n",
    "    # bldng\n",
    "    df_cut=df.loc[(df['bldng_ar']<=155.1*2)&(df['bldng_ar']!=0)&(df['ttl_ar']!=0)&(df['bldng_cnt']<=4*2),:]\n",
    "    def bldcnt3(x):\n",
    "        if x==1:\n",
    "            return 0\n",
    "        elif (x==2) | (x==3):\n",
    "            return 1\n",
    "        elif x>=4:\n",
    "            return 2\n",
    "    df_cut['bldng_cnt_3']=df_cut['bldng_cnt'].apply(bldcnt3)\n",
    "    \n",
    "    # drop1(not using)\n",
    "    cols=[i for i in df_cut.columns if ('lw_' not in i)&('gas' not in i)&('ele' not in i)]\n",
    "    df2=df_cut.loc[:,cols]\n",
    "    dropcol=['bldng_us','bldng_archtctr','lnd_ar','dt_of_athrztn','ttl_grnd_flr','ttl_dwn_flr','bldng_us_clssfctn',\n",
    "    'prcpttn','id',\n",
    "    'trgt_crtr','fr_fghtng_fclt_spcl_css_5_yn','fr_fghtng_fclt_spcl_css_6_yn','us_yn','dngrs_thng_yn', \n",
    "    'slf_fr_brgd_yn','blk_dngrs_thng_mnfctr_yn','cltrl_hrtg_yn']\n",
    "\n",
    "    df2.drop(dropcol,axis=1,inplace=True)\n",
    "    \n",
    "    ### [Feature Engineering]\n",
    "    # drop null\n",
    "    df2.dropna(subset=['rgnl_ar_nm','lnd_us_sttn_nm','rd_sd_nm','emd_nm','fr_mn_cnt'],inplace=True)\n",
    "\n",
    "    # admin cols\n",
    "    def rg1cat(x):\n",
    "        if x in ['자연녹지지역', '자연환경보전지역', '보전관리지역', '개발제한구역', '보전녹지지역', '용도미지정', '생산녹지지역', '농림지역']:\n",
    "            return 0\n",
    "        elif x in ['계획관리지역', '관리지역']:\n",
    "            return 1\n",
    "        elif x in ['제1종일반주거지역', '제1종전용주거지역', '제2종전용주거지역', '제2종일반주거지역', '제3종일반주거지역', '준주거지역']:\n",
    "            return 2\n",
    "        elif x in ['일반상업지역','생산관리지역','근린상업지역', '유통상업지역', '중심상업지역']:\n",
    "            return 3\n",
    "        elif x in ['일반공업지역', '준공업지역']:\n",
    "            return 4\n",
    "        \n",
    "    df2['rgnl_ar_nm_cat']=df2['rgnl_ar_nm'].apply(rg1cat)\n",
    "    \n",
    "    def jmkcat(x):\n",
    "        if x in ['차', '체', '장', '사']:\n",
    "            return 0\n",
    "        elif x in ['양', '학', '주', '잡', '철', '원']:\n",
    "            return 1\n",
    "        elif x in ['창','종','목', '공', '제','유']:\n",
    "            return 2\n",
    "        elif x in ['답', '전','임','도','묘','과','구','천','수']:\n",
    "            return 3\n",
    "        elif x in ['대']:\n",
    "            return 4\n",
    "        \n",
    "    df2['jmk_cat']=df2['jmk'].apply(jmkcat)\n",
    "    \n",
    "    def lndus(x):\n",
    "        if x in ['고속도로휴게소', '여객자동차터미널', '주차장등', '유해.혐오시설','위험시설']:\n",
    "            return 0\n",
    "        elif x in ['아파트']:\n",
    "            return 1\n",
    "        elif x in ['단독', '연립', '주거기타', '주거나지', '주상용', '주상나지', '주상기타', '다세대']:\n",
    "            return 2\n",
    "        elif x in ['자연림','답', '전기타', '전', '조림', '답기타', '과수원', '토지임야', '임야기타', '공원등','하천등','목장용지']:\n",
    "            return 3\n",
    "        elif x in ['상업기타','상업나지','상업용','업무용', '공업용','공업기타', '상업기타','공업나지']:\n",
    "            return 4\n",
    "        elif x in ['유원지', '스키장', '콘도미니엄', '기타', '특수기타','발전소','도로등','골프장 회원제', '골프장 대중제', '공원묘지','운동장등']:\n",
    "            return 5\n",
    "        \n",
    "    df2['lnd_us_sttn_nm_cat']=df2['lnd_us_sttn_nm'].apply(lndus)\n",
    "    \n",
    "    def rdnm(x):\n",
    "        if x in ['세로한면(불)', '세로한면(가)']:\n",
    "            return 0\n",
    "        elif x in ['소로각지', '세로각지', '중로한면', '소로한면','중로각지']:\n",
    "            return 1\n",
    "        elif x in ['세로각지(가)', '세로각지(불)']:\n",
    "            return 2\n",
    "        elif x in ['광대세각', '광대로한면', '지정되지않음', '광대소각', '맹지']:\n",
    "            return 3\n",
    "        \n",
    "    df2['rd_sd_nm_cat']=df2['rd_sd_nm'].apply(rdnm)\n",
    "#     df2['emd_nm_ct']=df2['emd_nm'].apply(lambda x: str(x)[5:7])\n",
    "\n",
    "#     eng_name_dict={'거제':'geojesi', '거창':'geochanggun', '고성':'goseonggun', '남해':'namhaegun', '밀양':'miryangsi', '사천':'sacheonsi', '산청':'sancheonggun', '양산':'yangsan', '의령':'uiryeonggun', '진주':'jinjusi', '창녕':'changnyeonggun', '창원':'changwonsi', '통영':'tongyeongsi', '하동':'hadonggun','함안':'hamangun', '함양':'hamyanggun','합천':'hapcheongun'}\n",
    "#     df2['emd_nm_ct']=df2['emd_nm_ct'].map(eng_name_dict)\n",
    "    df2['mlt_us_yn_num']=df2['mlt_us_yn'].map({'Y':1,'N':0})\n",
    "    \n",
    "    # environment cols\n",
    "    def slice(st,q1,q2,q3,x):\n",
    "        if((x>=st) & (x<q1)):\n",
    "            return 1\n",
    "        elif((x>=q1) &(x<q2)):\n",
    "            return 2\n",
    "        elif((x>=q2)& (x<q3)):\n",
    "            return 3\n",
    "        else:\n",
    "            return 4\n",
    "    df2[\"fr_wthr_fclt_dstnc_sl\"]=df2['fr_wthr_fclt_dstnc'].apply(lambda x:slice(0,114,643,2494,x))\n",
    "    df2[\"cctv_dstnc_sl\"]=df2['cctv_dstnc'].apply(lambda x:slice(0,100,288,889,x))\n",
    "    df2[\"tbc_rtl_str_dstnc_sl\"]=df2['tbc_rtl_str_dstnc'].apply(lambda x:slice(0,527,2184,4958,x))\n",
    "    df2[\"ahsm_dstnc_sl\"]=df2['ahsm_dstnc'].apply(lambda x:slice(0,761,3210,14239,x))\n",
    "    df2[\"no_tbc_zn_dstnc_sl\"]=df2['no_tbc_zn_dstnc'].apply(lambda x:slice(0,155,422,1486,x))\n",
    "    ###[fill null and cut]\n",
    "    \n",
    "    ###[create X, y]\n",
    "    using=['bldng_cnt_3','bldng_ar','ttl_ar','tmprtr', 'wnd_spd', 'hmdt', 'wnd_dr8',\n",
    "           'rgnl_ar_nm_cat', 'jmk_cat', 'lnd_us_sttn_nm_cat', 'rd_sd_nm_cat', 'emd_nm_ct','fr_sttn_dstnc',\n",
    "          'fr_wthr_fclt_dstnc_sl','fr_mn_cnt', 'mlt_us_yn_num','cctv_dstnc_sl', 'tbc_rtl_str_dstnc_sl', 'ahsm_dstnc_sl', 'no_tbc_zn_dstnc_sl','sft_emrgnc_bll_dstnc',\n",
    "           'fr_yn']\n",
    "\n",
    "    df_use=df2.loc[:,using]\n",
    "\n",
    "    ohe_wnd = pd.get_dummies(df_use['wnd_dr8']) \n",
    "    df_use=pd.concat([df_use, ohe_wnd], axis=1) \n",
    "    del df_use['wnd_dr8'] \n",
    "\n",
    "    ohe_emd = pd.get_dummies(df_use['emd_nm_ct'])\n",
    "    df_final=pd.concat([df_use, ohe_emd], axis=1) \n",
    "    del df_final['emd_nm_ct'] \n",
    "\n",
    "\n",
    "    X=df_final.drop(['fr_yn'],axis=1)\n",
    "    y=df_final['fr_yn']\n",
    "    ###[create X, y]\n",
    "    \n",
    "    if 'train' in file:\n",
    "        smote=SMOTE(random_state=0)\n",
    "        X_over,y_over=smote.fit_sample(X,y)\n",
    "        return X_over, y_over\n",
    "    else:\n",
    "        return X, y"
   ]
  },
  {
   "cell_type": "code",
   "execution_count": 6,
   "metadata": {
    "colab": {},
    "colab_type": "code",
    "id": "fxxlvGuiEb6V"
   },
   "outputs": [],
   "source": [
    "X_train, y_train=preprocessing_data('PJT002_train.csv')\n",
    "X_test, y_test=preprocessing_data('PJT002_validation.csv')"
   ]
  },
  {
   "cell_type": "code",
   "execution_count": 7,
   "metadata": {
    "colab": {},
    "colab_type": "code",
    "id": "9gpQAs2TEb6f",
    "outputId": "0fad4c59-dac7-4652-b048-46ed5cf05bd6"
   },
   "outputs": [
    {
     "name": "stdout",
     "output_type": "stream",
     "text": [
      "(70956, 27) (70956,) (4332, 27) (4332,)\n"
     ]
    }
   ],
   "source": [
    "print(X_train.shape, y_train.shape,X_test.shape,y_test.shape)"
   ]
  },
  {
   "cell_type": "code",
   "execution_count": 14,
   "metadata": {
    "colab": {},
    "colab_type": "code",
    "id": "yVi5HonpEb6s"
   },
   "outputs": [],
   "source": [
    "def get_clf_eval(y_test,y_pred):\n",
    "    plt.figure(figsize=(16,6))\n",
    "    accuracy=accuracy_score(y_test,y_pred)\n",
    "    precision=precision_score(y_test,y_pred)\n",
    "    recall=recall_score(y_test,y_pred)\n",
    "    f1 = f1_score(y_test, y_pred)\n",
    "#     print(classification_report(y_test, y_pred)\n",
    "    print('정확도: {0:.4f} 정밀도: {1:.4f} 재현율: {2:,.4f} f1 : {3:.3f}'.format(accuracy, precision, recall, f1))\n",
    "    print(classification_report(y_test, y_pred))\n",
    "def get_model_train_eval(model,i):\n",
    "    model.fit(X_train,y_train)\n",
    "    #modeling 함수 for문으로\n",
    "    y_proba=model.predict_proba(X_test) \n",
    "    y_pred=model.predict(X_test)\n",
    "    return y_proba\n",
    "\n",
    "def predy(x,threshold):\n",
    "    if x>=threshold:\n",
    "        return 1\n",
    "    else:\n",
    "        return 0"
   ]
  },
  {
   "cell_type": "code",
   "execution_count": 15,
   "metadata": {
    "colab": {},
    "colab_type": "code",
    "id": "yVi5HonpEb6s"
   },
   "outputs": [
    {
     "name": "stdout",
     "output_type": "stream",
     "text": [
      "정확도: 0.4393 정밀도: 0.1371 재현율: 0.7667 f1 : 0.233\n",
      "              precision    recall  f1-score   support\n",
      "\n",
      "           0       0.93      0.40      0.56      3852\n",
      "           1       0.14      0.77      0.23       480\n",
      "\n",
      "    accuracy                           0.44      4332\n",
      "   macro avg       0.53      0.58      0.40      4332\n",
      "weighted avg       0.84      0.44      0.52      4332\n",
      "\n"
     ]
    },
    {
     "data": {
      "text/plain": [
       "<Figure size 1152x432 with 0 Axes>"
      ]
     },
     "metadata": {},
     "output_type": "display_data"
    }
   ],
   "source": [
    "logst_clf=LogisticRegression(penalty='l2')\n",
    "a = get_model_train_eval(logst_clf,0.5)\n",
    "proba_y = pd.Series(a[:,1])\n",
    "pred = proba_y.apply(lambda x: predy(x,0.5))\n",
    "get_clf_eval(y_test,pred)"
   ]
  },
  {
   "cell_type": "code",
   "execution_count": 21,
   "metadata": {
    "colab": {},
    "colab_type": "code",
    "id": "yVi5HonpEb6s"
   },
   "outputs": [
    {
     "data": {
      "text/plain": [
       "dict_keys(['explained_variance', 'r2', 'max_error', 'neg_median_absolute_error', 'neg_mean_absolute_error', 'neg_mean_squared_error', 'neg_mean_squared_log_error', 'accuracy', 'roc_auc', 'balanced_accuracy', 'average_precision', 'neg_log_loss', 'brier_score_loss', 'adjusted_rand_score', 'homogeneity_score', 'completeness_score', 'v_measure_score', 'mutual_info_score', 'adjusted_mutual_info_score', 'normalized_mutual_info_score', 'fowlkes_mallows_score', 'precision', 'precision_macro', 'precision_micro', 'precision_samples', 'precision_weighted', 'recall', 'recall_macro', 'recall_micro', 'recall_samples', 'recall_weighted', 'f1', 'f1_macro', 'f1_micro', 'f1_samples', 'f1_weighted', 'jaccard', 'jaccard_macro', 'jaccard_micro', 'jaccard_samples', 'jaccard_weighted'])"
      ]
     },
     "execution_count": 21,
     "metadata": {},
     "output_type": "execute_result"
    }
   ],
   "source": [
    "metrics.SCORERS.keys()"
   ]
  },
  {
   "cell_type": "code",
   "execution_count": 22,
   "metadata": {
    "colab": {},
    "colab_type": "code",
    "id": "yVi5HonpEb6s"
   },
   "outputs": [
    {
     "name": "stdout",
     "output_type": "stream",
     "text": [
      "Fitting 3 folds for each of 96 candidates, totalling 288 fits\n"
     ]
    },
    {
     "name": "stderr",
     "output_type": "stream",
     "text": [
      "[Parallel(n_jobs=10)]: Using backend LokyBackend with 10 concurrent workers.\n",
      "[Parallel(n_jobs=10)]: Done  30 tasks      | elapsed:  1.5min\n",
      "[Parallel(n_jobs=10)]: Done 180 tasks      | elapsed: 14.4min\n",
      "[Parallel(n_jobs=10)]: Done 288 out of 288 | elapsed: 24.1min finished\n"
     ]
    },
    {
     "data": {
      "text/plain": [
       "GridSearchCV(cv=3, error_score='raise-deprecating',\n",
       "             estimator=XGBClassifier(base_score=0.5, booster='gbtree',\n",
       "                                     colsample_bylevel=1, colsample_bynode=1,\n",
       "                                     colsample_bytree=1, gamma=0,\n",
       "                                     learning_rate=0.1, max_delta_step=0,\n",
       "                                     max_depth=3, min_child_weight=1,\n",
       "                                     missing=None, n_estimators=100, n_jobs=1,\n",
       "                                     nthread=None, objective='binary:logistic',\n",
       "                                     random_state=0, reg_alpha=0, reg_lambda=1,\n",
       "                                     scale_pos_weight=1, seed=None, silent=None,\n",
       "                                     subsample=1, verbosity=1),\n",
       "             iid='warn', n_jobs=10,\n",
       "             param_grid={'learning_rate': [0.1, 0.01, 0.05],\n",
       "                         'max_depth': range(2, 10),\n",
       "                         'n_estimators': range(60, 220, 40)},\n",
       "             pre_dispatch='2*n_jobs', refit=True, return_train_score=False,\n",
       "             scoring='f1', verbose=True)"
      ]
     },
     "execution_count": 22,
     "metadata": {},
     "output_type": "execute_result"
    }
   ],
   "source": [
    "xgb_clf=XGBClassifier(objective='binary:logistic')\n",
    "\n",
    "#X_train, X_test, y_train, y_test = train_test_split(X_list[i], Y_list[i],test_size = 0.2)\n",
    "evals = [(X_test, y_test)]\n",
    "estimator = xgb_clf\n",
    "parameters = {\n",
    "    'max_depth': range (2, 10, 1),\n",
    "    'n_estimators': range(60, 220, 40),\n",
    "    'learning_rate': [0.1, 0.01, 0.05]\n",
    " }\n",
    "\n",
    "grid_search = GridSearchCV(\n",
    "    estimator=estimator,\n",
    "     param_grid=parameters,\n",
    "    scoring = 'f1'\n",
    "    n_jobs = 10,\n",
    "    cv = 3,\n",
    "    verbose=True\n",
    ")\n",
    "\n",
    "grid_search.fit(X_train, y_train)"
   ]
  },
  {
   "cell_type": "code",
   "execution_count": 33,
   "metadata": {
    "colab": {},
    "colab_type": "code",
    "id": "yVi5HonpEb6s"
   },
   "outputs": [
    {
     "data": {
      "text/plain": [
       "{'learning_rate': 0.1, 'max_depth': 8, 'n_estimators': 180}"
      ]
     },
     "execution_count": 33,
     "metadata": {},
     "output_type": "execute_result"
    }
   ],
   "source": [
    "grid_search.best_params_"
   ]
  },
  {
   "cell_type": "code",
   "execution_count": 31,
   "metadata": {
    "colab": {},
    "colab_type": "code",
    "id": "yVi5HonpEb6s"
   },
   "outputs": [
    {
     "data": {
      "text/plain": [
       "0.8982133930556915"
      ]
     },
     "execution_count": 31,
     "metadata": {},
     "output_type": "execute_result"
    }
   ],
   "source": [
    "grid_search.best_score_"
   ]
  },
  {
   "cell_type": "code",
   "execution_count": 28,
   "metadata": {
    "colab": {},
    "colab_type": "code",
    "id": "yVi5HonpEb6s"
   },
   "outputs": [
    {
     "data": {
      "text/plain": [
       "<Figure size 2160x1440 with 0 Axes>"
      ]
     },
     "execution_count": 28,
     "metadata": {},
     "output_type": "execute_result"
    },
    {
     "data": {
      "text/plain": [
       "<matplotlib.axes._subplots.AxesSubplot at 0x23eedcb3ac8>"
      ]
     },
     "execution_count": 28,
     "metadata": {},
     "output_type": "execute_result"
    },
    {
     "data": {
      "text/plain": [
       "<Figure size 2160x1440 with 0 Axes>"
      ]
     },
     "metadata": {},
     "output_type": "display_data"
    },
    {
     "data": {
      "image/png": "[encoded data removed]",
      "text/plain": [
       "<Figure size 432x288 with 1 Axes>"
      ]
     },
     "metadata": {
      "needs_background": "light"
     },
     "output_type": "display_data"
    }
   ],
   "source": [
    "plt.figure(figsize=(30,20))\n",
    "plot_importance(grid_search.best_estimator_)"
   ]
  },
  {
   "cell_type": "code",
   "execution_count": 0,
   "metadata": {
    "colab": {},
    "colab_type": "code",
    "id": "yVi5HonpEb6s"
   },
   "outputs": [],
   "source": [
    "dt_clf = DecisionTreeClassifier()\n",
    "rf_clf = RandomForestClassifier(n_estimators=100, n_jobs = -1)\n",
    "lgbm_clf=LGBMClassifier(n_estimators=1000,num_leaves=64,n_jobs=-1,boost_from_average=False)\n",
    "\n",
    "print('########## LogisticReg ##########')\n",
    "get_model_train_eval(logst_clf)\n",
    "print('########## DecisionTree ##########')\n",
    "get_model_train_eval(dt_clf)\n",
    "print('########## RandomForest ##########')\n",
    "get_model_train_eval(rf_clf)\n",
    "# print('########## xgboost_clf ##########')\n",
    "# get_model_train_eval(xgb_clf)\n",
    "print('########## lgbm_clf ##########')\n",
    "get_model_train_eval(lgbm_clf)\n",
    "\n",
    "plt.show()"
   ]
  },
  {
   "cell_type": "code",
   "execution_count": 0,
   "metadata": {
    "colab": {},
    "colab_type": "code",
    "id": "oNKcbjMiEb61"
   },
   "outputs": [],
   "source": [
    "cross_val_score(lgbm_clf, X_over, y_over, cv=10)"
   ]
  },
  {
   "cell_type": "code",
   "execution_count": 0,
   "metadata": {
    "colab": {},
    "colab_type": "code",
    "id": "yNtBR27oEb6_"
   },
   "outputs": [],
   "source": [
    "plt.figure(figsize=(30,20))\n",
    "plot.feature_importances(lgbm_clf,feature_names=list(X.columns))"
   ]
  },
  {
   "cell_type": "code",
   "execution_count": 0,
   "metadata": {
    "colab": {},
    "colab_type": "code",
    "id": "-1IkgxBXEb7H"
   },
   "outputs": [],
   "source": []
  },
  {
   "cell_type": "code",
   "execution_count": 0,
   "metadata": {
    "colab": {},
    "colab_type": "code",
    "id": "EjgPXkr2Eb7Q"
   },
   "outputs": [],
   "source": []
  },
  {
   "cell_type": "code",
   "execution_count": 0,
   "metadata": {
    "colab": {},
    "colab_type": "code",
    "id": "3bX9ZlxzEb7Y"
   },
   "outputs": [],
   "source": []
  },
  {
   "cell_type": "code",
   "execution_count": 0,
   "metadata": {
    "colab": {},
    "colab_type": "code",
    "id": "_dt55ruCEb7g"
   },
   "outputs": [],
   "source": []
  }
 ],
 "metadata": {
  "colab": {
   "name": "(00)_Modeling_Uploading.ipynb",
   "provenance": []
  },
  "kernelspec": {
   "display_name": "Python 3",
   "language": "python",
   "name": "python3"
  },
  "language_info": {
   "codemirror_mode": {
    "name": "ipython",
    "version": 3
   },
   "file_extension": ".py",
   "mimetype": "text/x-python",
   "name": "python",
   "nbconvert_exporter": "python",
   "pygments_lexer": "ipython3",
   "version": "3.6.8"
  }
 },
 "nbformat": 4,
 "nbformat_minor": 1
}
